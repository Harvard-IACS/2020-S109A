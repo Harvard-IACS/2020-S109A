{
 "cells": [
  {
   "cell_type": "markdown",
   "metadata": {},
   "source": [
    "# <img style=\"float: left; padding-right: 10px; width: 45px\" src=\"https://raw.githubusercontent.com/Harvard-IACS/2018-CS109A/master/content/styles/iacs.png\"> CS-S109A Introduction to Data Science \n",
    "\n",
    "\n",
    "## Lab 1: Pandas and Web Scraping with Beautiful Soup\n",
    "\n",
    "**Harvard University**<br>\n",
    "**Summer 2020**<br>\n",
    "**Instructor:** Kevin Rader <br>\n",
    "**Authors:** Rahul Dave, David Sondak, Will Claybaugh, Pavlos Protopapas, Chris Tanner, Eleni Kaxiras, and Kevin Rader\n",
    "\n",
    "---\n",
    "\n"
   ]
  },
  {
   "cell_type": "code",
   "execution_count": 1,
   "metadata": {},
   "outputs": [
    {
     "data": {
      "text/html": [
       "<style>\n",
       "blockquote { background: #AEDE94; }\n",
       "h1 { \n",
       "    padding-top: 25px;\n",
       "    padding-bottom: 25px;\n",
       "    text-align: left; \n",
       "    padding-left: 10px;\n",
       "    background-color: #DDDDDD; \n",
       "    color: black;\n",
       "}\n",
       "h2 { \n",
       "    padding-top: 10px;\n",
       "    padding-bottom: 10px;\n",
       "    text-align: left; \n",
       "    padding-left: 5px;\n",
       "    background-color: #EEEEEE; \n",
       "    color: black;\n",
       "}\n",
       "\n",
       "div.exercise {\n",
       "\tbackground-color: #ffcccc;\n",
       "\tborder-color: #E9967A; \t\n",
       "\tborder-left: 5px solid #800080; \n",
       "\tpadding: 0.5em;\n",
       "}\n",
       "\n",
       "span.sub-q {\n",
       "\tfont-weight: bold;\n",
       "}\n",
       "div.theme {\n",
       "\tbackground-color: #DDDDDD;\n",
       "\tborder-color: #E9967A; \t\n",
       "\tborder-left: 5px solid #800080; \n",
       "\tpadding: 0.5em;\n",
       "\tfont-size: 18pt;\n",
       "}\n",
       "div.gc { \n",
       "\tbackground-color: #AEDE94;\n",
       "\tborder-color: #E9967A; \t \n",
       "\tborder-left: 5px solid #800080; \n",
       "\tpadding: 0.5em;\n",
       "\tfont-size: 12pt;\n",
       "}\n",
       "p.q1 { \n",
       "    padding-top: 5px;\n",
       "    padding-bottom: 5px;\n",
       "    text-align: left; \n",
       "    padding-left: 5px;\n",
       "    background-color: #EEEEEE; \n",
       "    color: black;\n",
       "}\n",
       "header {\n",
       "   padding-top: 35px;\n",
       "    padding-bottom: 35px;\n",
       "    text-align: left; \n",
       "    padding-left: 10px;\n",
       "    background-color: #DDDDDD; \n",
       "    color: black;\n",
       "}\n",
       "</style>\n",
       "\n"
      ],
      "text/plain": [
       "<IPython.core.display.HTML object>"
      ]
     },
     "execution_count": 1,
     "metadata": {},
     "output_type": "execute_result"
    }
   ],
   "source": [
    "## RUN THIS CELL TO GET THE RIGHT FORMATTING \n",
    "import requests\n",
    "from IPython.core.display import HTML\n",
    "styles = requests.get(\"https://raw.githubusercontent.com/Harvard-IACS/2018-CS109A/master/content/styles/cs109.css\").text\n",
    "HTML(styles)"
   ]
  },
  {
   "cell_type": "markdown",
   "metadata": {},
   "source": [
    "# Table of Contents \n",
    "<ol start=\"0\">\n",
    "<li> Learning Goals </li>\n",
    "<li> Loading and Cleaning with Pandas</li>\n",
    "<li> Parsing and Completing the Dataframe  </li>\n",
    "<li> Grouping </li>\n",
    "<li> Introduction to Web Servers and HTTP </li>\n",
    "<li> Download webpages and get basic properties </li>\n",
    "<li> Parse the page with Beautiful Soup</li>\n",
    "<li> String formatting</li>\n",
    "<li> Additonal Python/Homework Comment</li>\n",
    "<li> Walkthrough Example</li>\n",
    "</ol>"
   ]
  },
  {
   "cell_type": "markdown",
   "metadata": {},
   "source": [
    "## Learning Goals\n",
    "\n",
    "About 6,000 odd \"best books\" were fetched and parsed from [Goodreads](https://www.goodreads.com). The \"bestness\" of these books came from a proprietary formula used by Goodreads and published as a list on their web site.\n",
    "\n",
    "We parsed the page for each book and saved data from all these pages in a tabular format as a CSV file. In this lab we'll clean and further parse the data.  We'll then do some exploratory data analysis to answer questions about these best books and popular genres.  \n",
    "\n",
    "We will then go back to Goodread's and scrape their Best Books list:\n",
    "\n",
    "https://www.goodreads.com/list/show/1.Best_Books_Ever?page=1 .\n",
    "\n",
    "We'll walk through scraping the list pages for the book names/urls. First, we start with an even simpler example.\n",
    "\n",
    "\n",
    "By the end of this lab, you should be able to:\n",
    "\n",
    "- Load and systematically address missing values, ancoded as `NaN` values in our data set, for example, by removing observations associated with these values.\n",
    "- Parse columns in the dataframe to create new dataframe columns.\n",
    "- Use groupby to aggregate data on a particular feature column, such as author.\n",
    "- Understand the structure of a web page\n",
    "- Understand how to use Beautiful soup to scrape content from web pages.\n",
    "- Feel comfortable storing and manipulating the content in various formats.\n",
    "- Understand how to convert structured format into a Pandas DataFrame\n",
    "\n",
    "*This lab corresponds to lectures #1, #2, and maps on to homework #1 and further.*\n"
   ]
  },
  {
   "cell_type": "markdown",
   "metadata": {},
   "source": [
    "### Basic EDA workflow\n",
    "\n",
    "(From the lecture, repeated here for convenience).\n",
    "\n",
    "The basic workflow is as follows:\n",
    "\n",
    "1. **Build** a DataFrame from the data (ideally, put all data in this object)\n",
    "2. **Clean** the DataFrame. It should have the following properties:\n",
    "    - Each row describes a single object\n",
    "    - Each column describes a property of that object\n",
    "    - Columns are numeric whenever appropriate\n",
    "    - Columns contain atomic properties that cannot be further decomposed\n",
    "3. Explore **global properties**. Use histograms, scatter plots, and aggregation functions to summarize the data.\n",
    "4. Explore **group properties**. Use groupby and small multiples to compare subsets of the data.\n",
    "\n",
    "This process transforms your data into a format which is easier to work with, gives you a basic overview of the data's properties, and likely generates several questions for you to followup in subsequent analysis."
   ]
  },
  {
   "cell_type": "markdown",
   "metadata": {},
   "source": [
    "## Part 1: Loading and Cleaning with Pandas \n",
    "Read in the `goodreads.csv` file, examine the data, and do any necessary data cleaning. \n",
    "\n",
    "Here is a description of the columns (in order) present in this csv file:\n",
    "\n",
    "```\n",
    "rating: the average rating on a 1-5 scale achieved by the book\n",
    "review_count: the number of Goodreads users who reviewed this book\n",
    "isbn: the ISBN code for the book\n",
    "booktype: an internal Goodreads identifier for the book\n",
    "author_url: the Goodreads (relative) URL for the author of the book\n",
    "year: the year the book was published\n",
    "genre_urls: a string with '|' separated relative URLS of Goodreads genre pages\n",
    "dir: a directory identifier internal to the scraping code\n",
    "rating_count: the number of ratings for this book (this is different from the number of reviews)\n",
    "name: the name of the book\n",
    "```\n",
    "\n",
    "Let us see what issues we find with the data and resolve them.  \n",
    "\n",
    "\n",
    "\n",
    "----"
   ]
  },
  {
   "cell_type": "markdown",
   "metadata": {},
   "source": [
    "\n",
    "\n",
    "\n",
    "After loading appropriate libraries\n"
   ]
  },
  {
   "cell_type": "code",
   "execution_count": 2,
   "metadata": {},
   "outputs": [],
   "source": [
    "%matplotlib inline\n",
    "import numpy as np\n",
    "import matplotlib.pyplot as plt\n",
    "import pandas as pd\n",
    "import seaborn as sns\n",
    "import time\n",
    "pd.set_option('display.width', 500)\n",
    "pd.set_option('display.max_columns', 100)"
   ]
  },
  {
   "cell_type": "markdown",
   "metadata": {},
   "source": [
    "### Cleaning: Reading in the data\n",
    "We read in and clean the data from `goodreads.csv`."
   ]
  },
  {
   "cell_type": "code",
   "execution_count": 3,
   "metadata": {},
   "outputs": [
    {
     "data": {
      "text/html": [
       "<div>\n",
       "<style scoped>\n",
       "    .dataframe tbody tr th:only-of-type {\n",
       "        vertical-align: middle;\n",
       "    }\n",
       "\n",
       "    .dataframe tbody tr th {\n",
       "        vertical-align: top;\n",
       "    }\n",
       "\n",
       "    .dataframe thead th {\n",
       "        text-align: right;\n",
       "    }\n",
       "</style>\n",
       "<table border=\"1\" class=\"dataframe\">\n",
       "  <thead>\n",
       "    <tr style=\"text-align: right;\">\n",
       "      <th></th>\n",
       "      <th>4.40</th>\n",
       "      <th>136455</th>\n",
       "      <th>0439023483</th>\n",
       "      <th>good_reads:book</th>\n",
       "      <th>https://www.goodreads.com/author/show/153394.Suzanne_Collins</th>\n",
       "      <th>2008</th>\n",
       "      <th>/genres/young-adult|/genres/science-fiction|/genres/dystopia|/genres/fantasy|/genres/science-fiction|/genres/romance|/genres/adventure|/genres/book-club|/genres/young-adult|/genres/teen|/genres/apocalyptic|/genres/post-apocalyptic|/genres/action</th>\n",
       "      <th>dir01/2767052-the-hunger-games.html</th>\n",
       "      <th>2958974</th>\n",
       "      <th>The Hunger Games (The Hunger Games, #1)</th>\n",
       "    </tr>\n",
       "  </thead>\n",
       "  <tbody>\n",
       "    <tr>\n",
       "      <th>0</th>\n",
       "      <td>4.41</td>\n",
       "      <td>16648</td>\n",
       "      <td>0439358078</td>\n",
       "      <td>good_reads:book</td>\n",
       "      <td>https://www.goodreads.com/author/show/1077326....</td>\n",
       "      <td>2003.0</td>\n",
       "      <td>/genres/fantasy|/genres/young-adult|/genres/fi...</td>\n",
       "      <td>dir01/2.Harry_Potter_and_the_Order_of_the_Phoe...</td>\n",
       "      <td>1284478</td>\n",
       "      <td>Harry Potter and the Order of the Phoenix (Har...</td>\n",
       "    </tr>\n",
       "    <tr>\n",
       "      <th>1</th>\n",
       "      <td>3.56</td>\n",
       "      <td>85746</td>\n",
       "      <td>0316015849</td>\n",
       "      <td>good_reads:book</td>\n",
       "      <td>https://www.goodreads.com/author/show/941441.S...</td>\n",
       "      <td>2005.0</td>\n",
       "      <td>/genres/young-adult|/genres/fantasy|/genres/ro...</td>\n",
       "      <td>dir01/41865.Twilight.html</td>\n",
       "      <td>2579564</td>\n",
       "      <td>Twilight (Twilight, #1)</td>\n",
       "    </tr>\n",
       "    <tr>\n",
       "      <th>2</th>\n",
       "      <td>4.23</td>\n",
       "      <td>47906</td>\n",
       "      <td>0061120081</td>\n",
       "      <td>good_reads:book</td>\n",
       "      <td>https://www.goodreads.com/author/show/1825.Har...</td>\n",
       "      <td>1960.0</td>\n",
       "      <td>/genres/classics|/genres/fiction|/genres/histo...</td>\n",
       "      <td>dir01/2657.To_Kill_a_Mockingbird.html</td>\n",
       "      <td>2078123</td>\n",
       "      <td>To Kill a Mockingbird</td>\n",
       "    </tr>\n",
       "    <tr>\n",
       "      <th>3</th>\n",
       "      <td>4.23</td>\n",
       "      <td>34772</td>\n",
       "      <td>0679783261</td>\n",
       "      <td>good_reads:book</td>\n",
       "      <td>https://www.goodreads.com/author/show/1265.Jan...</td>\n",
       "      <td>1813.0</td>\n",
       "      <td>/genres/classics|/genres/fiction|/genres/roman...</td>\n",
       "      <td>dir01/1885.Pride_and_Prejudice.html</td>\n",
       "      <td>1388992</td>\n",
       "      <td>Pride and Prejudice</td>\n",
       "    </tr>\n",
       "    <tr>\n",
       "      <th>4</th>\n",
       "      <td>4.25</td>\n",
       "      <td>12363</td>\n",
       "      <td>0446675539</td>\n",
       "      <td>good_reads:book</td>\n",
       "      <td>https://www.goodreads.com/author/show/11081.Ma...</td>\n",
       "      <td>1936.0</td>\n",
       "      <td>/genres/classics|/genres/historical-fiction|/g...</td>\n",
       "      <td>dir01/18405.Gone_with_the_Wind.html</td>\n",
       "      <td>645470</td>\n",
       "      <td>Gone with the Wind</td>\n",
       "    </tr>\n",
       "    <tr>\n",
       "      <th>...</th>\n",
       "      <td>...</td>\n",
       "      <td>...</td>\n",
       "      <td>...</td>\n",
       "      <td>...</td>\n",
       "      <td>...</td>\n",
       "      <td>...</td>\n",
       "      <td>...</td>\n",
       "      <td>...</td>\n",
       "      <td>...</td>\n",
       "      <td>...</td>\n",
       "    </tr>\n",
       "    <tr>\n",
       "      <th>5994</th>\n",
       "      <td>4.17</td>\n",
       "      <td>2226</td>\n",
       "      <td>0767913736</td>\n",
       "      <td>good_reads:book</td>\n",
       "      <td>https://www.goodreads.com/author/show/44565.Ca...</td>\n",
       "      <td>2005.0</td>\n",
       "      <td>/genres/history|/genres/non-fiction|/genres/bi...</td>\n",
       "      <td>dir60/78508.The_River_of_Doubt.html</td>\n",
       "      <td>16618</td>\n",
       "      <td>The River of Doubt</td>\n",
       "    </tr>\n",
       "    <tr>\n",
       "      <th>5995</th>\n",
       "      <td>3.99</td>\n",
       "      <td>775</td>\n",
       "      <td>1416909427</td>\n",
       "      <td>good_reads:book</td>\n",
       "      <td>https://www.goodreads.com/author/show/151371.J...</td>\n",
       "      <td>2006.0</td>\n",
       "      <td>/genres/young-adult|/genres/realistic-fiction|...</td>\n",
       "      <td>dir60/259068.Shug.html</td>\n",
       "      <td>6179</td>\n",
       "      <td>Shug</td>\n",
       "    </tr>\n",
       "    <tr>\n",
       "      <th>5996</th>\n",
       "      <td>3.78</td>\n",
       "      <td>540</td>\n",
       "      <td>1620612321</td>\n",
       "      <td>good_reads:book</td>\n",
       "      <td>https://www.goodreads.com/author/show/5761314....</td>\n",
       "      <td>2012.0</td>\n",
       "      <td>/genres/contemporary|/genres/romance|/genres/y...</td>\n",
       "      <td>dir60/13503247-flawed.html</td>\n",
       "      <td>2971</td>\n",
       "      <td>Flawed</td>\n",
       "    </tr>\n",
       "    <tr>\n",
       "      <th>5997</th>\n",
       "      <td>3.91</td>\n",
       "      <td>281</td>\n",
       "      <td>NaN</td>\n",
       "      <td>good_reads:book</td>\n",
       "      <td>https://www.goodreads.com/author/show/1201952....</td>\n",
       "      <td>2006.0</td>\n",
       "      <td>/genres/religion|/genres/islam|/genres/religio...</td>\n",
       "      <td>dir60/2750008.html</td>\n",
       "      <td>3083</td>\n",
       "      <td>Ø£Ø³Ø¹Ø¯ Ø§Ù",
       "Ø±Ø£Ø© ÙÙ Ø§ÙØ¹Ø§ÙÙ</td>\n",
       "    </tr>\n",
       "    <tr>\n",
       "      <th>5998</th>\n",
       "      <td>4.35</td>\n",
       "      <td>61</td>\n",
       "      <td>0786929081</td>\n",
       "      <td>good_reads:book</td>\n",
       "      <td>https://www.goodreads.com/author/show/1023510....</td>\n",
       "      <td>2001.0</td>\n",
       "      <td>/genres/fiction|/genres/fantasy|/genres/magic|...</td>\n",
       "      <td>dir60/66677.Legacy_of_the_Drow_Collector_s_Edi...</td>\n",
       "      <td>3982</td>\n",
       "      <td>Legacy of the Drow Collector's Edition (Legacy...</td>\n",
       "    </tr>\n",
       "  </tbody>\n",
       "</table>\n",
       "<p>5999 rows × 10 columns</p>\n",
       "</div>"
      ],
      "text/plain": [
       "      4.40 136455  0439023483  good_reads:book https://www.goodreads.com/author/show/153394.Suzanne_Collins    2008 /genres/young-adult|/genres/science-fiction|/genres/dystopia|/genres/fantasy|/genres/science-fiction|/genres/romance|/genres/adventure|/genres/book-club|/genres/young-adult|/genres/teen|/genres/apocalyptic|/genres/post-apocalyptic|/genres/action                dir01/2767052-the-hunger-games.html  2958974            The Hunger Games (The Hunger Games, #1)\n",
       "0     4.41  16648  0439358078  good_reads:book  https://www.goodreads.com/author/show/1077326....            2003.0  /genres/fantasy|/genres/young-adult|/genres/fi...                                                                                                                                                                                                     dir01/2.Harry_Potter_and_the_Order_of_the_Phoe...  1284478  Harry Potter and the Order of the Phoenix (Har...\n",
       "1     3.56  85746  0316015849  good_reads:book  https://www.goodreads.com/author/show/941441.S...            2005.0  /genres/young-adult|/genres/fantasy|/genres/ro...                                                                                                                                                                                                                             dir01/41865.Twilight.html  2579564                            Twilight (Twilight, #1)\n",
       "2     4.23  47906  0061120081  good_reads:book  https://www.goodreads.com/author/show/1825.Har...            1960.0  /genres/classics|/genres/fiction|/genres/histo...                                                                                                                                                                                                                 dir01/2657.To_Kill_a_Mockingbird.html  2078123                              To Kill a Mockingbird\n",
       "3     4.23  34772  0679783261  good_reads:book  https://www.goodreads.com/author/show/1265.Jan...            1813.0  /genres/classics|/genres/fiction|/genres/roman...                                                                                                                                                                                                                   dir01/1885.Pride_and_Prejudice.html  1388992                                Pride and Prejudice\n",
       "4     4.25  12363  0446675539  good_reads:book  https://www.goodreads.com/author/show/11081.Ma...            1936.0  /genres/classics|/genres/historical-fiction|/g...                                                                                                                                                                                                                   dir01/18405.Gone_with_the_Wind.html   645470                                 Gone with the Wind\n",
       "...    ...    ...         ...              ...                                                ...               ...                                                ...                                                                                                                                                                                                                                                   ...      ...                                                ...\n",
       "5994  4.17   2226  0767913736  good_reads:book  https://www.goodreads.com/author/show/44565.Ca...            2005.0  /genres/history|/genres/non-fiction|/genres/bi...                                                                                                                                                                                                                   dir60/78508.The_River_of_Doubt.html    16618                                 The River of Doubt\n",
       "5995  3.99    775  1416909427  good_reads:book  https://www.goodreads.com/author/show/151371.J...            2006.0  /genres/young-adult|/genres/realistic-fiction|...                                                                                                                                                                                                                                dir60/259068.Shug.html     6179                                               Shug\n",
       "5996  3.78    540  1620612321  good_reads:book  https://www.goodreads.com/author/show/5761314....            2012.0  /genres/contemporary|/genres/romance|/genres/y...                                                                                                                                                                                                                            dir60/13503247-flawed.html     2971                                             Flawed\n",
       "5997  3.91    281         NaN  good_reads:book  https://www.goodreads.com/author/show/1201952....            2006.0  /genres/religion|/genres/islam|/genres/religio...                                                                                                                                                                                                                                    dir60/2750008.html     3083              Ø£Ø³Ø¹Ø¯ Ø§Ù\n",
       "Ø±Ø£Ø© ÙÙ Ø§ÙØ¹Ø§ÙÙ\n",
       "\n",
       "5998  4.35     61  0786929081  good_reads:book  https://www.goodreads.com/author/show/1023510....            2001.0  /genres/fiction|/genres/fantasy|/genres/magic|...                                                                                                                                                                                                     dir60/66677.Legacy_of_the_Drow_Collector_s_Edi...     3982  Legacy of the Drow Collector's Edition (Legacy...\n",
       "\n",
       "[5999 rows x 10 columns]"
      ]
     },
     "execution_count": 3,
     "metadata": {},
     "output_type": "execute_result"
    }
   ],
   "source": [
    "#Read the data into a dataframe\n",
    "df = pd.read_csv(\"../data/goodreads.csv\", encoding='utf-8')\n",
    "\n",
    "#Examine the first few rows of the dataframe\n",
    "df"
   ]
  },
  {
   "cell_type": "markdown",
   "metadata": {},
   "source": [
    "Oh no! That does not quite seem to be right. We are missing the column names. We need to add these in! But what are they?\n",
    "\n",
    "Here is a list of them in order:\n",
    "\n",
    "`[\"rating\", 'review_count', 'isbn', 'booktype','author_url', 'year', 'genre_urls', 'dir','rating_count', 'name']`\n"
   ]
  },
  {
   "cell_type": "markdown",
   "metadata": {},
   "source": [
    "<div class=\"exercise\"><b>Q1.1</b></div>\n",
    "Use these to load the dataframe properly! And then \"head\" the dataframe... (you will need to look at the read_csv docs)"
   ]
  },
  {
   "cell_type": "code",
   "execution_count": 4,
   "metadata": {},
   "outputs": [
    {
     "data": {
      "text/html": [
       "<div>\n",
       "<style scoped>\n",
       "    .dataframe tbody tr th:only-of-type {\n",
       "        vertical-align: middle;\n",
       "    }\n",
       "\n",
       "    .dataframe tbody tr th {\n",
       "        vertical-align: top;\n",
       "    }\n",
       "\n",
       "    .dataframe thead th {\n",
       "        text-align: right;\n",
       "    }\n",
       "</style>\n",
       "<table border=\"1\" class=\"dataframe\">\n",
       "  <thead>\n",
       "    <tr style=\"text-align: right;\">\n",
       "      <th></th>\n",
       "      <th>rating</th>\n",
       "      <th>review_count</th>\n",
       "      <th>isbn</th>\n",
       "      <th>booktype</th>\n",
       "      <th>author_url</th>\n",
       "      <th>year</th>\n",
       "      <th>genre_urls</th>\n",
       "      <th>dir</th>\n",
       "      <th>rating_count</th>\n",
       "      <th>name</th>\n",
       "    </tr>\n",
       "  </thead>\n",
       "  <tbody>\n",
       "    <tr>\n",
       "      <th>0</th>\n",
       "      <td>4.40</td>\n",
       "      <td>136455</td>\n",
       "      <td>0439023483</td>\n",
       "      <td>good_reads:book</td>\n",
       "      <td>https://www.goodreads.com/author/show/153394.S...</td>\n",
       "      <td>2008.0</td>\n",
       "      <td>/genres/young-adult|/genres/science-fiction|/g...</td>\n",
       "      <td>dir01/2767052-the-hunger-games.html</td>\n",
       "      <td>2958974</td>\n",
       "      <td>The Hunger Games (The Hunger Games, #1)</td>\n",
       "    </tr>\n",
       "    <tr>\n",
       "      <th>1</th>\n",
       "      <td>4.41</td>\n",
       "      <td>16648</td>\n",
       "      <td>0439358078</td>\n",
       "      <td>good_reads:book</td>\n",
       "      <td>https://www.goodreads.com/author/show/1077326....</td>\n",
       "      <td>2003.0</td>\n",
       "      <td>/genres/fantasy|/genres/young-adult|/genres/fi...</td>\n",
       "      <td>dir01/2.Harry_Potter_and_the_Order_of_the_Phoe...</td>\n",
       "      <td>1284478</td>\n",
       "      <td>Harry Potter and the Order of the Phoenix (Har...</td>\n",
       "    </tr>\n",
       "    <tr>\n",
       "      <th>2</th>\n",
       "      <td>3.56</td>\n",
       "      <td>85746</td>\n",
       "      <td>0316015849</td>\n",
       "      <td>good_reads:book</td>\n",
       "      <td>https://www.goodreads.com/author/show/941441.S...</td>\n",
       "      <td>2005.0</td>\n",
       "      <td>/genres/young-adult|/genres/fantasy|/genres/ro...</td>\n",
       "      <td>dir01/41865.Twilight.html</td>\n",
       "      <td>2579564</td>\n",
       "      <td>Twilight (Twilight, #1)</td>\n",
       "    </tr>\n",
       "    <tr>\n",
       "      <th>3</th>\n",
       "      <td>4.23</td>\n",
       "      <td>47906</td>\n",
       "      <td>0061120081</td>\n",
       "      <td>good_reads:book</td>\n",
       "      <td>https://www.goodreads.com/author/show/1825.Har...</td>\n",
       "      <td>1960.0</td>\n",
       "      <td>/genres/classics|/genres/fiction|/genres/histo...</td>\n",
       "      <td>dir01/2657.To_Kill_a_Mockingbird.html</td>\n",
       "      <td>2078123</td>\n",
       "      <td>To Kill a Mockingbird</td>\n",
       "    </tr>\n",
       "    <tr>\n",
       "      <th>4</th>\n",
       "      <td>4.23</td>\n",
       "      <td>34772</td>\n",
       "      <td>0679783261</td>\n",
       "      <td>good_reads:book</td>\n",
       "      <td>https://www.goodreads.com/author/show/1265.Jan...</td>\n",
       "      <td>1813.0</td>\n",
       "      <td>/genres/classics|/genres/fiction|/genres/roman...</td>\n",
       "      <td>dir01/1885.Pride_and_Prejudice.html</td>\n",
       "      <td>1388992</td>\n",
       "      <td>Pride and Prejudice</td>\n",
       "    </tr>\n",
       "  </tbody>\n",
       "</table>\n",
       "</div>"
      ],
      "text/plain": [
       "   rating review_count        isbn         booktype                                         author_url    year                                         genre_urls                                                dir rating_count                                               name\n",
       "0    4.40       136455  0439023483  good_reads:book  https://www.goodreads.com/author/show/153394.S...  2008.0  /genres/young-adult|/genres/science-fiction|/g...                dir01/2767052-the-hunger-games.html      2958974            The Hunger Games (The Hunger Games, #1)\n",
       "1    4.41        16648  0439358078  good_reads:book  https://www.goodreads.com/author/show/1077326....  2003.0  /genres/fantasy|/genres/young-adult|/genres/fi...  dir01/2.Harry_Potter_and_the_Order_of_the_Phoe...      1284478  Harry Potter and the Order of the Phoenix (Har...\n",
       "2    3.56        85746  0316015849  good_reads:book  https://www.goodreads.com/author/show/941441.S...  2005.0  /genres/young-adult|/genres/fantasy|/genres/ro...                          dir01/41865.Twilight.html      2579564                            Twilight (Twilight, #1)\n",
       "3    4.23        47906  0061120081  good_reads:book  https://www.goodreads.com/author/show/1825.Har...  1960.0  /genres/classics|/genres/fiction|/genres/histo...              dir01/2657.To_Kill_a_Mockingbird.html      2078123                              To Kill a Mockingbird\n",
       "4    4.23        34772  0679783261  good_reads:book  https://www.goodreads.com/author/show/1265.Jan...  1813.0  /genres/classics|/genres/fiction|/genres/roman...                dir01/1885.Pride_and_Prejudice.html      1388992                                Pride and Prejudice"
      ]
     },
     "execution_count": 4,
     "metadata": {},
     "output_type": "execute_result"
    }
   ],
   "source": [
    "######\n",
    "# your code here\n",
    "######\n",
    "\n",
    "df=pd.read_csv(\"../data/goodreads.csv\", header=None,\n",
    "               names=[\"rating\", 'review_count', 'isbn', 'booktype','author_url', 'year', 'genre_urls', 'dir','rating_count', 'name'],\n",
    ")\n",
    "\n",
    "#Examine the first few rows of the dataframe\n",
    "df.head()"
   ]
  },
  {
   "cell_type": "markdown",
   "metadata": {},
   "source": [
    "### Cleaning: Examing the dataframe - quick checks\n",
    "\n",
    "We should examine the dataframe to get a overall sense of the content. \n",
    "\n",
    "<div class=\"exercise\"><b>Q1.2</b></div>\n",
    "Lets check the types of the columns. What do you find?"
   ]
  },
  {
   "cell_type": "code",
   "execution_count": 5,
   "metadata": {},
   "outputs": [
    {
     "data": {
      "text/plain": [
       "rating          float64\n",
       "review_count     object\n",
       "isbn             object\n",
       "booktype         object\n",
       "author_url       object\n",
       "year            float64\n",
       "genre_urls       object\n",
       "dir              object\n",
       "rating_count     object\n",
       "name             object\n",
       "dtype: object"
      ]
     },
     "execution_count": 5,
     "metadata": {},
     "output_type": "execute_result"
    }
   ],
   "source": [
    "######\n",
    "# your code here\n",
    "######\n",
    "df.dtypes\n",
    "\n"
   ]
  },
  {
   "cell_type": "markdown",
   "metadata": {},
   "source": [
    "*your answer here*\n",
    "\n",
    "Notice that `review_count` and `rating_counts` are objects instead of ints, and the `year` is a float!"
   ]
  },
  {
   "cell_type": "markdown",
   "metadata": {},
   "source": [
    "There are a couple more quick sanity checks to perform on the dataframe. "
   ]
  },
  {
   "cell_type": "code",
   "execution_count": 6,
   "metadata": {},
   "outputs": [
    {
     "name": "stdout",
     "output_type": "stream",
     "text": [
      "(6000, 10)\n"
     ]
    },
    {
     "data": {
      "text/plain": [
       "Index(['rating', 'review_count', 'isbn', 'booktype', 'author_url', 'year', 'genre_urls', 'dir', 'rating_count', 'name'], dtype='object')"
      ]
     },
     "execution_count": 6,
     "metadata": {},
     "output_type": "execute_result"
    }
   ],
   "source": [
    "print(df.shape)\n",
    "df.columns"
   ]
  },
  {
   "cell_type": "code",
   "execution_count": 7,
   "metadata": {},
   "outputs": [
    {
     "data": {
      "text/html": [
       "<div>\n",
       "<style scoped>\n",
       "    .dataframe tbody tr th:only-of-type {\n",
       "        vertical-align: middle;\n",
       "    }\n",
       "\n",
       "    .dataframe tbody tr th {\n",
       "        vertical-align: top;\n",
       "    }\n",
       "\n",
       "    .dataframe thead th {\n",
       "        text-align: right;\n",
       "    }\n",
       "</style>\n",
       "<table border=\"1\" class=\"dataframe\">\n",
       "  <thead>\n",
       "    <tr style=\"text-align: right;\">\n",
       "      <th></th>\n",
       "      <th>rating</th>\n",
       "      <th>year</th>\n",
       "    </tr>\n",
       "  </thead>\n",
       "  <tbody>\n",
       "    <tr>\n",
       "      <th>count</th>\n",
       "      <td>5998.000000</td>\n",
       "      <td>5993.000000</td>\n",
       "    </tr>\n",
       "    <tr>\n",
       "      <th>mean</th>\n",
       "      <td>4.042201</td>\n",
       "      <td>1969.085099</td>\n",
       "    </tr>\n",
       "    <tr>\n",
       "      <th>std</th>\n",
       "      <td>0.260661</td>\n",
       "      <td>185.383169</td>\n",
       "    </tr>\n",
       "    <tr>\n",
       "      <th>min</th>\n",
       "      <td>2.000000</td>\n",
       "      <td>-1500.000000</td>\n",
       "    </tr>\n",
       "    <tr>\n",
       "      <th>25%</th>\n",
       "      <td>3.870000</td>\n",
       "      <td>1980.000000</td>\n",
       "    </tr>\n",
       "    <tr>\n",
       "      <th>50%</th>\n",
       "      <td>4.050000</td>\n",
       "      <td>2002.000000</td>\n",
       "    </tr>\n",
       "    <tr>\n",
       "      <th>75%</th>\n",
       "      <td>4.210000</td>\n",
       "      <td>2009.000000</td>\n",
       "    </tr>\n",
       "    <tr>\n",
       "      <th>max</th>\n",
       "      <td>5.000000</td>\n",
       "      <td>2014.000000</td>\n",
       "    </tr>\n",
       "  </tbody>\n",
       "</table>\n",
       "</div>"
      ],
      "text/plain": [
       "            rating         year\n",
       "count  5998.000000  5993.000000\n",
       "mean      4.042201  1969.085099\n",
       "std       0.260661   185.383169\n",
       "min       2.000000 -1500.000000\n",
       "25%       3.870000  1980.000000\n",
       "50%       4.050000  2002.000000\n",
       "75%       4.210000  2009.000000\n",
       "max       5.000000  2014.000000"
      ]
     },
     "execution_count": 7,
     "metadata": {},
     "output_type": "execute_result"
    }
   ],
   "source": [
    "df.describe()"
   ]
  },
  {
   "cell_type": "markdown",
   "metadata": {},
   "source": [
    "### Cleaning: Examining the dataframe - a deeper look"
   ]
  },
  {
   "cell_type": "markdown",
   "metadata": {},
   "source": [
    "Beyond performing checking some quick general properties of the data frame and looking at the first $n$ rows, we can dig a bit deeper into the values being stored. If you haven't already, check to see if there are any missing values in the data frame.\n",
    "\n",
    "Let's see for a column which seemed OK to us."
   ]
  },
  {
   "cell_type": "markdown",
   "metadata": {},
   "source": [
    "\n",
    "<div class=\"exercise\"><b>Q1.3</b></div>\n",
    "\n",
    "Use a combination of `np.sum` and `df.isnull()` to determine where missingness occurs\n"
   ]
  },
  {
   "cell_type": "code",
   "execution_count": 8,
   "metadata": {},
   "outputs": [
    {
     "data": {
      "text/plain": [
       "rating            2\n",
       "review_count      0\n",
       "isbn            475\n",
       "booktype          0\n",
       "author_url        0\n",
       "year              7\n",
       "genre_urls       62\n",
       "dir               0\n",
       "rating_count      0\n",
       "name              0\n",
       "dtype: int64"
      ]
     },
     "execution_count": 8,
     "metadata": {},
     "output_type": "execute_result"
    }
   ],
   "source": [
    "######\n",
    "# your code here\n",
    "######\n",
    "\n",
    "np.sum(df.isnull())"
   ]
  },
  {
   "cell_type": "code",
   "execution_count": 9,
   "metadata": {},
   "outputs": [
    {
     "data": {
      "text/html": [
       "<div>\n",
       "<style scoped>\n",
       "    .dataframe tbody tr th:only-of-type {\n",
       "        vertical-align: middle;\n",
       "    }\n",
       "\n",
       "    .dataframe tbody tr th {\n",
       "        vertical-align: top;\n",
       "    }\n",
       "\n",
       "    .dataframe thead th {\n",
       "        text-align: right;\n",
       "    }\n",
       "</style>\n",
       "<table border=\"1\" class=\"dataframe\">\n",
       "  <thead>\n",
       "    <tr style=\"text-align: right;\">\n",
       "      <th></th>\n",
       "      <th>rating</th>\n",
       "      <th>review_count</th>\n",
       "      <th>isbn</th>\n",
       "      <th>booktype</th>\n",
       "      <th>author_url</th>\n",
       "      <th>year</th>\n",
       "      <th>genre_urls</th>\n",
       "      <th>dir</th>\n",
       "      <th>rating_count</th>\n",
       "      <th>name</th>\n",
       "    </tr>\n",
       "  </thead>\n",
       "  <tbody>\n",
       "    <tr>\n",
       "      <th>3643</th>\n",
       "      <td>NaN</td>\n",
       "      <td>None</td>\n",
       "      <td>None</td>\n",
       "      <td>None</td>\n",
       "      <td>None</td>\n",
       "      <td>NaN</td>\n",
       "      <td>NaN</td>\n",
       "      <td>dir37/9658936-harry-potter.html</td>\n",
       "      <td>None</td>\n",
       "      <td>None</td>\n",
       "    </tr>\n",
       "    <tr>\n",
       "      <th>5282</th>\n",
       "      <td>NaN</td>\n",
       "      <td>None</td>\n",
       "      <td>None</td>\n",
       "      <td>None</td>\n",
       "      <td>None</td>\n",
       "      <td>NaN</td>\n",
       "      <td>NaN</td>\n",
       "      <td>dir53/113138.The_Winner.html</td>\n",
       "      <td>None</td>\n",
       "      <td>None</td>\n",
       "    </tr>\n",
       "  </tbody>\n",
       "</table>\n",
       "</div>"
      ],
      "text/plain": [
       "      rating review_count  isbn booktype author_url  year genre_urls                              dir rating_count  name\n",
       "3643     NaN         None  None     None       None   NaN        NaN  dir37/9658936-harry-potter.html         None  None\n",
       "5282     NaN         None  None     None       None   NaN        NaN     dir53/113138.The_Winner.html         None  None"
      ]
     },
     "execution_count": 9,
     "metadata": {},
     "output_type": "execute_result"
    }
   ],
   "source": [
    "#Try to locate where the missing values occur in rating:\n",
    "df[df.rating.isnull()]"
   ]
  },
  {
   "cell_type": "markdown",
   "metadata": {},
   "source": [
    "How does `pandas` or `numpy` handle missing values when we try to compute with data sets that include them?"
   ]
  },
  {
   "cell_type": "markdown",
   "metadata": {},
   "source": [
    "We'll now check if any of the other suspicious columns have missing values.  Let's look at `year` and `review_count` first.\n",
    "\n",
    "One thing you can do is to try and convert to the type you expect the column to be. If something goes wrong, it likely means your data are bad."
   ]
  },
  {
   "cell_type": "markdown",
   "metadata": {},
   "source": [
    "Lets test for missing data:"
   ]
  },
  {
   "cell_type": "code",
   "execution_count": 10,
   "metadata": {},
   "outputs": [
    {
     "data": {
      "text/plain": [
       "(6000, 10)"
      ]
     },
     "execution_count": 10,
     "metadata": {},
     "output_type": "execute_result"
    }
   ],
   "source": [
    "df[df.year.isnull()]\n",
    "\n",
    "df.year.isnull()\n",
    "df.shape"
   ]
  },
  {
   "cell_type": "markdown",
   "metadata": {},
   "source": [
    "### Cleaning: Dealing with Missing Values\n",
    "How should we interpret 'missing' or 'invalid' values in the data (hint: look at where these values occur)? One approach is to simply exclude them from the dataframe. Is this appropriate for all 'missing' or 'invalid' values? "
   ]
  },
  {
   "cell_type": "code",
   "execution_count": 11,
   "metadata": {},
   "outputs": [
    {
     "name": "stdout",
     "output_type": "stream",
     "text": [
      "(5993, 10)\n",
      "(5993, 10)\n"
     ]
    }
   ],
   "source": [
    "#Treat the missing or invalid values in your dataframe\n",
    "####### \n",
    "\n",
    "df = df[df.year.notnull()]\n",
    "df2 = df[-df.year.isnull()]\n",
    "print(df.shape)\n",
    "print(df2.shape)"
   ]
  },
  {
   "cell_type": "markdown",
   "metadata": {},
   "source": [
    "Ok so we have done some cleaning. What do things look like now? Notice the float has not yet changed."
   ]
  },
  {
   "cell_type": "code",
   "execution_count": 12,
   "metadata": {},
   "outputs": [
    {
     "data": {
      "text/plain": [
       "rating          float64\n",
       "review_count     object\n",
       "isbn             object\n",
       "booktype         object\n",
       "author_url       object\n",
       "year            float64\n",
       "genre_urls       object\n",
       "dir              object\n",
       "rating_count     object\n",
       "name             object\n",
       "dtype: object"
      ]
     },
     "execution_count": 12,
     "metadata": {},
     "output_type": "execute_result"
    }
   ],
   "source": [
    "df.dtypes"
   ]
  },
  {
   "cell_type": "code",
   "execution_count": 13,
   "metadata": {},
   "outputs": [
    {
     "name": "stdout",
     "output_type": "stream",
     "text": [
      "0\n"
     ]
    },
    {
     "data": {
      "text/plain": [
       "(5993, 10)"
      ]
     },
     "execution_count": 13,
     "metadata": {},
     "output_type": "execute_result"
    }
   ],
   "source": [
    "print(np.sum(df.year.isnull()))\n",
    "df.shape # We removed seven rows"
   ]
  },
  {
   "cell_type": "markdown",
   "metadata": {},
   "source": [
    "<div class=\"exercise\"><b>Q1.4</b></div>\n",
    "\n",
    "Ok so lets fix those types. Convert them to ints. If the type conversion fails, we now know we have further problems.\n",
    "Hint: use `pd.astype()`."
   ]
  },
  {
   "cell_type": "code",
   "execution_count": 14,
   "metadata": {},
   "outputs": [],
   "source": [
    "######\n",
    "# your code here\n",
    "######\n",
    "df.rating_count=df.rating_count.astype(int)\n",
    "df.review_count=df.review_count.astype(int)\n",
    "df.year=df.year.astype(int)"
   ]
  },
  {
   "cell_type": "markdown",
   "metadata": {},
   "source": [
    "Once you do this, we seem to be good on these columns (no errors in conversion). Lets look:"
   ]
  },
  {
   "cell_type": "code",
   "execution_count": 15,
   "metadata": {},
   "outputs": [
    {
     "data": {
      "text/plain": [
       "rating          float64\n",
       "review_count      int64\n",
       "isbn             object\n",
       "booktype         object\n",
       "author_url       object\n",
       "year              int64\n",
       "genre_urls       object\n",
       "dir              object\n",
       "rating_count      int64\n",
       "name             object\n",
       "dtype: object"
      ]
     },
     "execution_count": 15,
     "metadata": {},
     "output_type": "execute_result"
    }
   ],
   "source": [
    "df.dtypes"
   ]
  },
  {
   "cell_type": "markdown",
   "metadata": {},
   "source": [
    "Sweet!"
   ]
  },
  {
   "cell_type": "markdown",
   "metadata": {},
   "source": [
    "Some of the other colums that should be strings have NaN."
   ]
  },
  {
   "cell_type": "code",
   "execution_count": 16,
   "metadata": {},
   "outputs": [],
   "source": [
    "df.loc[df.genre_urls.isnull(), 'genre_urls']=\"\"\n",
    "df.loc[df.isbn.isnull(), 'isbn']=\"\""
   ]
  },
  {
   "cell_type": "markdown",
   "metadata": {},
   "source": [
    "##  Part 2: Parsing and Completing the Data Frame \n",
    "\n",
    "We will parse the `author` column from the author_url and `genres` column from the genre_urls. Keep the `genres` column as a string separated by '|'.\n",
    "\n",
    "We will use panda's `map` to assign new columns to the dataframe.  "
   ]
  },
  {
   "cell_type": "markdown",
   "metadata": {},
   "source": [
    "Examine an example `author_url` and reason about which sequence of string operations must be performed in order to isolate the author's name."
   ]
  },
  {
   "cell_type": "code",
   "execution_count": 17,
   "metadata": {},
   "outputs": [
    {
     "data": {
      "text/plain": [
       "'https://www.goodreads.com/author/show/153394.Suzanne_Collins'"
      ]
     },
     "execution_count": 17,
     "metadata": {},
     "output_type": "execute_result"
    }
   ],
   "source": [
    "#Get the first author_url\n",
    "test_string = df.author_url[0]\n",
    "test_string"
   ]
  },
  {
   "cell_type": "code",
   "execution_count": 18,
   "metadata": {},
   "outputs": [
    {
     "data": {
      "text/plain": [
       "'Suzanne_Collins'"
      ]
     },
     "execution_count": 18,
     "metadata": {},
     "output_type": "execute_result"
    }
   ],
   "source": [
    "#Test out some string operations to isolate the author name\n",
    "\n",
    "test_string.split('/')[-1].split('.')[1:][0]"
   ]
  },
  {
   "cell_type": "markdown",
   "metadata": {},
   "source": [
    "<div class=\"exercise\"><b>Q2.1</b></div>\n",
    "\n",
    "Lets wrap the above code into a function which we will then use"
   ]
  },
  {
   "cell_type": "code",
   "execution_count": 19,
   "metadata": {},
   "outputs": [],
   "source": [
    "# Write a function that accepts an author url and returns the author's name based on your experimentation above\n",
    "def get_author(url):\n",
    "    # your code here\n",
    "    name = url.split('/')[-1].split('.')[1:][0]\n",
    "    ####### \n",
    "    return name"
   ]
  },
  {
   "cell_type": "code",
   "execution_count": 20,
   "metadata": {},
   "outputs": [
    {
     "data": {
      "text/plain": [
       "0    Suzanne_Collins\n",
       "1        J_K_Rowling\n",
       "2    Stephenie_Meyer\n",
       "3         Harper_Lee\n",
       "4        Jane_Austen\n",
       "Name: author, dtype: object"
      ]
     },
     "execution_count": 20,
     "metadata": {},
     "output_type": "execute_result"
    }
   ],
   "source": [
    "#Apply the get_author function to the 'author_url' column using '.map' \n",
    "#and add a new column 'author' to store the names\n",
    "df['author'] = df.author_url.map(get_author)\n",
    "df.author[0:5]"
   ]
  },
  {
   "cell_type": "markdown",
   "metadata": {},
   "source": [
    "<div class=\"exercise\"><b>Q2.2</b></div>\n",
    "\n",
    "Now parse out the genres from `genre_url`.  \n",
    "\n",
    "This is a little more complicated because there be more than one genre.\n"
   ]
  },
  {
   "cell_type": "code",
   "execution_count": 21,
   "metadata": {},
   "outputs": [
    {
     "data": {
      "text/plain": [
       "0    /genres/young-adult|/genres/science-fiction|/g...\n",
       "1    /genres/fantasy|/genres/young-adult|/genres/fi...\n",
       "2    /genres/young-adult|/genres/fantasy|/genres/ro...\n",
       "3    /genres/classics|/genres/fiction|/genres/histo...\n",
       "4    /genres/classics|/genres/fiction|/genres/roman...\n",
       "Name: genre_urls, dtype: object"
      ]
     },
     "execution_count": 21,
     "metadata": {},
     "output_type": "execute_result"
    }
   ],
   "source": [
    "df.genre_urls.head()"
   ]
  },
  {
   "cell_type": "code",
   "execution_count": 22,
   "metadata": {},
   "outputs": [
    {
     "name": "stdout",
     "output_type": "stream",
     "text": [
      "young-adult\n",
      "science-fiction\n",
      "dystopia\n",
      "fantasy\n",
      "science-fiction\n",
      "romance\n",
      "adventure\n",
      "book-club\n",
      "young-adult\n",
      "teen\n",
      "apocalyptic\n",
      "post-apocalyptic\n",
      "action\n"
     ]
    }
   ],
   "source": [
    "######\n",
    "#your code here\n",
    "######\n",
    "\n",
    "#Examine some examples of genre_urls\n",
    "\n",
    "#Test out some string operations to isolate the genre name\n",
    "test_genre_string=df.genre_urls[0]\n",
    "genres=test_genre_string.strip().split('|')\n",
    "for e in genres:\n",
    "    print(e.split('/')[-1])\n",
    "    #\"|\".join(genres)"
   ]
  },
  {
   "cell_type": "markdown",
   "metadata": {},
   "source": [
    "<div class=\"exercise\"><b>Q2.3</b></div>\n",
    "\n",
    "Write a function that accepts a genre url and returns the genre name based on your experimentation above\n",
    "\n"
   ]
  },
  {
   "cell_type": "code",
   "execution_count": 23,
   "metadata": {},
   "outputs": [],
   "source": [
    "def split_and_join_genres(url):\n",
    "    ######\n",
    "    # your code here\n",
    "    ######\n",
    "    genres=url.strip().split('|')\n",
    "    genres=[e.split('/')[-1] for e in genres]\n",
    "    return \"|\".join(genres)"
   ]
  },
  {
   "cell_type": "markdown",
   "metadata": {},
   "source": [
    "Test your function"
   ]
  },
  {
   "cell_type": "code",
   "execution_count": 24,
   "metadata": {},
   "outputs": [
    {
     "data": {
      "text/plain": [
       "'young-adult|science-fiction'"
      ]
     },
     "execution_count": 24,
     "metadata": {},
     "output_type": "execute_result"
    }
   ],
   "source": [
    "split_and_join_genres(\"/genres/young-adult|/genres/science-fiction\")"
   ]
  },
  {
   "cell_type": "code",
   "execution_count": 25,
   "metadata": {},
   "outputs": [
    {
     "data": {
      "text/plain": [
       "''"
      ]
     },
     "execution_count": 25,
     "metadata": {},
     "output_type": "execute_result"
    }
   ],
   "source": [
    "split_and_join_genres(\"\")"
   ]
  },
  {
   "cell_type": "markdown",
   "metadata": {},
   "source": [
    "<div class=\"exercise\"><b>Q2.4</b></div>\n",
    "\n",
    "Use map again to create a new \"genres\" column"
   ]
  },
  {
   "cell_type": "code",
   "execution_count": 26,
   "metadata": {},
   "outputs": [
    {
     "data": {
      "text/html": [
       "<div>\n",
       "<style scoped>\n",
       "    .dataframe tbody tr th:only-of-type {\n",
       "        vertical-align: middle;\n",
       "    }\n",
       "\n",
       "    .dataframe tbody tr th {\n",
       "        vertical-align: top;\n",
       "    }\n",
       "\n",
       "    .dataframe thead th {\n",
       "        text-align: right;\n",
       "    }\n",
       "</style>\n",
       "<table border=\"1\" class=\"dataframe\">\n",
       "  <thead>\n",
       "    <tr style=\"text-align: right;\">\n",
       "      <th></th>\n",
       "      <th>rating</th>\n",
       "      <th>review_count</th>\n",
       "      <th>isbn</th>\n",
       "      <th>booktype</th>\n",
       "      <th>author_url</th>\n",
       "      <th>year</th>\n",
       "      <th>genre_urls</th>\n",
       "      <th>dir</th>\n",
       "      <th>rating_count</th>\n",
       "      <th>name</th>\n",
       "      <th>author</th>\n",
       "      <th>genres</th>\n",
       "    </tr>\n",
       "  </thead>\n",
       "  <tbody>\n",
       "    <tr>\n",
       "      <th>0</th>\n",
       "      <td>4.40</td>\n",
       "      <td>136455</td>\n",
       "      <td>0439023483</td>\n",
       "      <td>good_reads:book</td>\n",
       "      <td>https://www.goodreads.com/author/show/153394.S...</td>\n",
       "      <td>2008</td>\n",
       "      <td>/genres/young-adult|/genres/science-fiction|/g...</td>\n",
       "      <td>dir01/2767052-the-hunger-games.html</td>\n",
       "      <td>2958974</td>\n",
       "      <td>The Hunger Games (The Hunger Games, #1)</td>\n",
       "      <td>Suzanne_Collins</td>\n",
       "      <td>young-adult|science-fiction|dystopia|fantasy|s...</td>\n",
       "    </tr>\n",
       "    <tr>\n",
       "      <th>1</th>\n",
       "      <td>4.41</td>\n",
       "      <td>16648</td>\n",
       "      <td>0439358078</td>\n",
       "      <td>good_reads:book</td>\n",
       "      <td>https://www.goodreads.com/author/show/1077326....</td>\n",
       "      <td>2003</td>\n",
       "      <td>/genres/fantasy|/genres/young-adult|/genres/fi...</td>\n",
       "      <td>dir01/2.Harry_Potter_and_the_Order_of_the_Phoe...</td>\n",
       "      <td>1284478</td>\n",
       "      <td>Harry Potter and the Order of the Phoenix (Har...</td>\n",
       "      <td>J_K_Rowling</td>\n",
       "      <td>fantasy|young-adult|fiction|fantasy|magic|chil...</td>\n",
       "    </tr>\n",
       "    <tr>\n",
       "      <th>2</th>\n",
       "      <td>3.56</td>\n",
       "      <td>85746</td>\n",
       "      <td>0316015849</td>\n",
       "      <td>good_reads:book</td>\n",
       "      <td>https://www.goodreads.com/author/show/941441.S...</td>\n",
       "      <td>2005</td>\n",
       "      <td>/genres/young-adult|/genres/fantasy|/genres/ro...</td>\n",
       "      <td>dir01/41865.Twilight.html</td>\n",
       "      <td>2579564</td>\n",
       "      <td>Twilight (Twilight, #1)</td>\n",
       "      <td>Stephenie_Meyer</td>\n",
       "      <td>young-adult|fantasy|romance|paranormal|vampire...</td>\n",
       "    </tr>\n",
       "    <tr>\n",
       "      <th>3</th>\n",
       "      <td>4.23</td>\n",
       "      <td>47906</td>\n",
       "      <td>0061120081</td>\n",
       "      <td>good_reads:book</td>\n",
       "      <td>https://www.goodreads.com/author/show/1825.Har...</td>\n",
       "      <td>1960</td>\n",
       "      <td>/genres/classics|/genres/fiction|/genres/histo...</td>\n",
       "      <td>dir01/2657.To_Kill_a_Mockingbird.html</td>\n",
       "      <td>2078123</td>\n",
       "      <td>To Kill a Mockingbird</td>\n",
       "      <td>Harper_Lee</td>\n",
       "      <td>classics|fiction|historical-fiction|academic|s...</td>\n",
       "    </tr>\n",
       "    <tr>\n",
       "      <th>4</th>\n",
       "      <td>4.23</td>\n",
       "      <td>34772</td>\n",
       "      <td>0679783261</td>\n",
       "      <td>good_reads:book</td>\n",
       "      <td>https://www.goodreads.com/author/show/1265.Jan...</td>\n",
       "      <td>1813</td>\n",
       "      <td>/genres/classics|/genres/fiction|/genres/roman...</td>\n",
       "      <td>dir01/1885.Pride_and_Prejudice.html</td>\n",
       "      <td>1388992</td>\n",
       "      <td>Pride and Prejudice</td>\n",
       "      <td>Jane_Austen</td>\n",
       "      <td>classics|fiction|romance|historical-fiction|li...</td>\n",
       "    </tr>\n",
       "  </tbody>\n",
       "</table>\n",
       "</div>"
      ],
      "text/plain": [
       "   rating  review_count        isbn         booktype                                         author_url  year                                         genre_urls                                                dir  rating_count                                               name           author                                             genres\n",
       "0    4.40        136455  0439023483  good_reads:book  https://www.goodreads.com/author/show/153394.S...  2008  /genres/young-adult|/genres/science-fiction|/g...                dir01/2767052-the-hunger-games.html       2958974            The Hunger Games (The Hunger Games, #1)  Suzanne_Collins  young-adult|science-fiction|dystopia|fantasy|s...\n",
       "1    4.41         16648  0439358078  good_reads:book  https://www.goodreads.com/author/show/1077326....  2003  /genres/fantasy|/genres/young-adult|/genres/fi...  dir01/2.Harry_Potter_and_the_Order_of_the_Phoe...       1284478  Harry Potter and the Order of the Phoenix (Har...      J_K_Rowling  fantasy|young-adult|fiction|fantasy|magic|chil...\n",
       "2    3.56         85746  0316015849  good_reads:book  https://www.goodreads.com/author/show/941441.S...  2005  /genres/young-adult|/genres/fantasy|/genres/ro...                          dir01/41865.Twilight.html       2579564                            Twilight (Twilight, #1)  Stephenie_Meyer  young-adult|fantasy|romance|paranormal|vampire...\n",
       "3    4.23         47906  0061120081  good_reads:book  https://www.goodreads.com/author/show/1825.Har...  1960  /genres/classics|/genres/fiction|/genres/histo...              dir01/2657.To_Kill_a_Mockingbird.html       2078123                              To Kill a Mockingbird       Harper_Lee  classics|fiction|historical-fiction|academic|s...\n",
       "4    4.23         34772  0679783261  good_reads:book  https://www.goodreads.com/author/show/1265.Jan...  1813  /genres/classics|/genres/fiction|/genres/roman...                dir01/1885.Pride_and_Prejudice.html       1388992                                Pride and Prejudice      Jane_Austen  classics|fiction|romance|historical-fiction|li..."
      ]
     },
     "execution_count": 26,
     "metadata": {},
     "output_type": "execute_result"
    }
   ],
   "source": [
    "\n",
    "df['genres']=df.genre_urls.map(split_and_join_genres)\n",
    "df.head()"
   ]
  },
  {
   "cell_type": "markdown",
   "metadata": {},
   "source": [
    "Finally, let's pick an author at random so we can see the results of the transformations.  Scroll to see the `author` and `genre` columns that we added to the dataframe."
   ]
  },
  {
   "cell_type": "code",
   "execution_count": 27,
   "metadata": {},
   "outputs": [
    {
     "data": {
      "text/html": [
       "<div>\n",
       "<style scoped>\n",
       "    .dataframe tbody tr th:only-of-type {\n",
       "        vertical-align: middle;\n",
       "    }\n",
       "\n",
       "    .dataframe tbody tr th {\n",
       "        vertical-align: top;\n",
       "    }\n",
       "\n",
       "    .dataframe thead th {\n",
       "        text-align: right;\n",
       "    }\n",
       "</style>\n",
       "<table border=\"1\" class=\"dataframe\">\n",
       "  <thead>\n",
       "    <tr style=\"text-align: right;\">\n",
       "      <th></th>\n",
       "      <th>rating</th>\n",
       "      <th>review_count</th>\n",
       "      <th>isbn</th>\n",
       "      <th>booktype</th>\n",
       "      <th>author_url</th>\n",
       "      <th>year</th>\n",
       "      <th>genre_urls</th>\n",
       "      <th>dir</th>\n",
       "      <th>rating_count</th>\n",
       "      <th>name</th>\n",
       "      <th>author</th>\n",
       "      <th>genres</th>\n",
       "    </tr>\n",
       "  </thead>\n",
       "  <tbody>\n",
       "    <tr>\n",
       "      <th>1014</th>\n",
       "      <td>4.23</td>\n",
       "      <td>483</td>\n",
       "      <td>0374529264</td>\n",
       "      <td>good_reads:book</td>\n",
       "      <td>https://www.goodreads.com/author/show/7732.Mar...</td>\n",
       "      <td>1951</td>\n",
       "      <td>/genres/historical-fiction|/genres/fiction|/ge...</td>\n",
       "      <td>dir11/12172.Memoirs_of_Hadrian.html</td>\n",
       "      <td>6258</td>\n",
       "      <td>Memoirs of Hadrian</td>\n",
       "      <td>Marguerite_Yourcenar</td>\n",
       "      <td>historical-fiction|fiction|cultural|france|cla...</td>\n",
       "    </tr>\n",
       "    <tr>\n",
       "      <th>5620</th>\n",
       "      <td>4.11</td>\n",
       "      <td>74</td>\n",
       "      <td>2070367983</td>\n",
       "      <td>good_reads:book</td>\n",
       "      <td>https://www.goodreads.com/author/show/7732.Mar...</td>\n",
       "      <td>1968</td>\n",
       "      <td>/genres/fiction|/genres/historical-fiction|/ge...</td>\n",
       "      <td>dir57/953435.L_uvre_au_noir.html</td>\n",
       "      <td>1601</td>\n",
       "      <td>L'Åuvre au noir</td>\n",
       "      <td>Marguerite_Yourcenar</td>\n",
       "      <td>fiction|historical-fiction|cultural|france|eur...</td>\n",
       "    </tr>\n",
       "  </tbody>\n",
       "</table>\n",
       "</div>"
      ],
      "text/plain": [
       "      rating  review_count        isbn         booktype                                         author_url  year                                         genre_urls                                  dir  rating_count                name                author                                             genres\n",
       "1014    4.23           483  0374529264  good_reads:book  https://www.goodreads.com/author/show/7732.Mar...  1951  /genres/historical-fiction|/genres/fiction|/ge...  dir11/12172.Memoirs_of_Hadrian.html          6258  Memoirs of Hadrian  Marguerite_Yourcenar  historical-fiction|fiction|cultural|france|cla...\n",
       "5620    4.11            74  2070367983  good_reads:book  https://www.goodreads.com/author/show/7732.Mar...  1968  /genres/fiction|/genres/historical-fiction|/ge...     dir57/953435.L_uvre_au_noir.html          1601    L'Åuvre au noir  Marguerite_Yourcenar  fiction|historical-fiction|cultural|france|eur..."
      ]
     },
     "execution_count": 27,
     "metadata": {},
     "output_type": "execute_result"
    }
   ],
   "source": [
    "df[df.author == \"Marguerite_Yourcenar\"]"
   ]
  },
  {
   "cell_type": "markdown",
   "metadata": {},
   "source": [
    "Let us delete the `genre_urls` column."
   ]
  },
  {
   "cell_type": "code",
   "execution_count": 28,
   "metadata": {},
   "outputs": [],
   "source": [
    "del df['genre_urls']"
   ]
  },
  {
   "cell_type": "markdown",
   "metadata": {},
   "source": [
    "And then save the dataframe out!"
   ]
  },
  {
   "cell_type": "code",
   "execution_count": 29,
   "metadata": {},
   "outputs": [],
   "source": [
    "df.to_csv(\"../data/cleaned-goodreads.csv\", index=False, header=True)"
   ]
  },
  {
   "cell_type": "markdown",
   "metadata": {},
   "source": [
    "---"
   ]
  },
  {
   "cell_type": "markdown",
   "metadata": {},
   "source": [
    "## Part 3: Grouping "
   ]
  },
  {
   "cell_type": "markdown",
   "metadata": {},
   "source": [
    "<div class=\"exercise\"><b>Q3.1</b></div>\n",
    "\n",
    "It appears that some books were written in negative years!  Print out the observations that correspond to negative years.  What do you notice about these books?  "
   ]
  },
  {
   "cell_type": "code",
   "execution_count": 30,
   "metadata": {},
   "outputs": [
    {
     "data": {
      "text/plain": [
       "47                               The Odyssey\n",
       "246                    The Iliad/The Odyssey\n",
       "455                             The Republic\n",
       "596                               The Aeneid\n",
       "629                              Oedipus Rex\n",
       "674                           The Art of War\n",
       "746                        The Bhagavad Gita\n",
       "777                                 Antigone\n",
       "1233                       The Oedipus Cycle\n",
       "1397                          Aesop's Fables\n",
       "1398                   The Epic of Gilgamesh\n",
       "1428                                   Medea\n",
       "1815                            The Oresteia\n",
       "1882         The Trial and Death of Socrates\n",
       "2078    The History of the Peloponnesian War\n",
       "2527                           The Histories\n",
       "3133                          Complete Works\n",
       "3274                  The Nicomachean Ethics\n",
       "3757                              Lysistrata\n",
       "4402                           The Symposium\n",
       "4475                                 Apology\n",
       "5367                          Five Dialogues\n",
       "Name: name, dtype: object"
      ]
     },
     "execution_count": 30,
     "metadata": {},
     "output_type": "execute_result"
    }
   ],
   "source": [
    "######\n",
    "# your code here\n",
    "######\n",
    "\n",
    "df[df.year < 0]['name']\n",
    "#These are books written before the Common Era (BCE, equivalent to BC)."
   ]
  },
  {
   "cell_type": "markdown",
   "metadata": {},
   "source": [
    "We could determine the \"best book\" by year! For this we use Panda's `groupby()`. `Groupby()` allows grouping a dataframe by any (usually categorical) variable. Would it make sense to ever groupby integer variables? Floating point variables?\n",
    "\n",
    "But more useful, let's consider grouping by author:"
   ]
  },
  {
   "cell_type": "code",
   "execution_count": null,
   "metadata": {},
   "outputs": [],
   "source": [
    "df"
   ]
  },
  {
   "cell_type": "code",
   "execution_count": 31,
   "metadata": {},
   "outputs": [
    {
     "data": {
      "text/plain": [
       "pandas.core.groupby.generic.DataFrameGroupBy"
      ]
     },
     "execution_count": 31,
     "metadata": {},
     "output_type": "execute_result"
    }
   ],
   "source": [
    "dfgb_author = df.groupby('author')\n",
    "type(dfgb_author)"
   ]
  },
  {
   "cell_type": "markdown",
   "metadata": {},
   "source": [
    "Perhaps we want the number of books each author wrote"
   ]
  },
  {
   "cell_type": "code",
   "execution_count": 32,
   "metadata": {},
   "outputs": [
    {
     "data": {
      "text/html": [
       "<div>\n",
       "<style scoped>\n",
       "    .dataframe tbody tr th:only-of-type {\n",
       "        vertical-align: middle;\n",
       "    }\n",
       "\n",
       "    .dataframe tbody tr th {\n",
       "        vertical-align: top;\n",
       "    }\n",
       "\n",
       "    .dataframe thead th {\n",
       "        text-align: right;\n",
       "    }\n",
       "</style>\n",
       "<table border=\"1\" class=\"dataframe\">\n",
       "  <thead>\n",
       "    <tr style=\"text-align: right;\">\n",
       "      <th></th>\n",
       "      <th>rating</th>\n",
       "      <th>review_count</th>\n",
       "      <th>isbn</th>\n",
       "      <th>booktype</th>\n",
       "      <th>author_url</th>\n",
       "      <th>year</th>\n",
       "      <th>dir</th>\n",
       "      <th>rating_count</th>\n",
       "      <th>name</th>\n",
       "      <th>genres</th>\n",
       "    </tr>\n",
       "    <tr>\n",
       "      <th>author</th>\n",
       "      <th></th>\n",
       "      <th></th>\n",
       "      <th></th>\n",
       "      <th></th>\n",
       "      <th></th>\n",
       "      <th></th>\n",
       "      <th></th>\n",
       "      <th></th>\n",
       "      <th></th>\n",
       "      <th></th>\n",
       "    </tr>\n",
       "  </thead>\n",
       "  <tbody>\n",
       "    <tr>\n",
       "      <th>A_A_Milne</th>\n",
       "      <td>6</td>\n",
       "      <td>6</td>\n",
       "      <td>6</td>\n",
       "      <td>6</td>\n",
       "      <td>6</td>\n",
       "      <td>6</td>\n",
       "      <td>6</td>\n",
       "      <td>6</td>\n",
       "      <td>6</td>\n",
       "      <td>6</td>\n",
       "    </tr>\n",
       "    <tr>\n",
       "      <th>A_G_Howard</th>\n",
       "      <td>1</td>\n",
       "      <td>1</td>\n",
       "      <td>1</td>\n",
       "      <td>1</td>\n",
       "      <td>1</td>\n",
       "      <td>1</td>\n",
       "      <td>1</td>\n",
       "      <td>1</td>\n",
       "      <td>1</td>\n",
       "      <td>1</td>\n",
       "    </tr>\n",
       "    <tr>\n",
       "      <th>A_J_Cronin</th>\n",
       "      <td>1</td>\n",
       "      <td>1</td>\n",
       "      <td>1</td>\n",
       "      <td>1</td>\n",
       "      <td>1</td>\n",
       "      <td>1</td>\n",
       "      <td>1</td>\n",
       "      <td>1</td>\n",
       "      <td>1</td>\n",
       "      <td>1</td>\n",
       "    </tr>\n",
       "    <tr>\n",
       "      <th>A_J_Jacobs</th>\n",
       "      <td>1</td>\n",
       "      <td>1</td>\n",
       "      <td>1</td>\n",
       "      <td>1</td>\n",
       "      <td>1</td>\n",
       "      <td>1</td>\n",
       "      <td>1</td>\n",
       "      <td>1</td>\n",
       "      <td>1</td>\n",
       "      <td>1</td>\n",
       "    </tr>\n",
       "    <tr>\n",
       "      <th>A_J_Salt</th>\n",
       "      <td>1</td>\n",
       "      <td>1</td>\n",
       "      <td>1</td>\n",
       "      <td>1</td>\n",
       "      <td>1</td>\n",
       "      <td>1</td>\n",
       "      <td>1</td>\n",
       "      <td>1</td>\n",
       "      <td>1</td>\n",
       "      <td>1</td>\n",
       "    </tr>\n",
       "  </tbody>\n",
       "</table>\n",
       "</div>"
      ],
      "text/plain": [
       "            rating  review_count  isbn  booktype  author_url  year  dir  rating_count  name  genres\n",
       "author                                                                                             \n",
       "A_A_Milne        6             6     6         6           6     6    6             6     6       6\n",
       "A_G_Howard       1             1     1         1           1     1    1             1     1       1\n",
       "A_J_Cronin       1             1     1         1           1     1    1             1     1       1\n",
       "A_J_Jacobs       1             1     1         1           1     1    1             1     1       1\n",
       "A_J_Salt         1             1     1         1           1     1    1             1     1       1"
      ]
     },
     "execution_count": 32,
     "metadata": {},
     "output_type": "execute_result"
    }
   ],
   "source": [
    "dfgb_author.count().head()"
   ]
  },
  {
   "cell_type": "markdown",
   "metadata": {},
   "source": [
    "Lots of useless info there. One column should suffice.  But perhaps you want more detailed info..."
   ]
  },
  {
   "cell_type": "code",
   "execution_count": 33,
   "metadata": {
    "scrolled": true
   },
   "outputs": [
    {
     "data": {
      "text/html": [
       "<div>\n",
       "<style scoped>\n",
       "    .dataframe tbody tr th:only-of-type {\n",
       "        vertical-align: middle;\n",
       "    }\n",
       "\n",
       "    .dataframe tbody tr th {\n",
       "        vertical-align: top;\n",
       "    }\n",
       "\n",
       "    .dataframe thead tr th {\n",
       "        text-align: left;\n",
       "    }\n",
       "\n",
       "    .dataframe thead tr:last-of-type th {\n",
       "        text-align: right;\n",
       "    }\n",
       "</style>\n",
       "<table border=\"1\" class=\"dataframe\">\n",
       "  <thead>\n",
       "    <tr>\n",
       "      <th></th>\n",
       "      <th colspan=\"8\" halign=\"left\">rating</th>\n",
       "      <th colspan=\"8\" halign=\"left\">rating_count</th>\n",
       "      <th colspan=\"8\" halign=\"left\">review_count</th>\n",
       "      <th colspan=\"8\" halign=\"left\">year</th>\n",
       "    </tr>\n",
       "    <tr>\n",
       "      <th></th>\n",
       "      <th>count</th>\n",
       "      <th>mean</th>\n",
       "      <th>std</th>\n",
       "      <th>min</th>\n",
       "      <th>25%</th>\n",
       "      <th>50%</th>\n",
       "      <th>75%</th>\n",
       "      <th>max</th>\n",
       "      <th>count</th>\n",
       "      <th>mean</th>\n",
       "      <th>std</th>\n",
       "      <th>min</th>\n",
       "      <th>25%</th>\n",
       "      <th>50%</th>\n",
       "      <th>75%</th>\n",
       "      <th>max</th>\n",
       "      <th>count</th>\n",
       "      <th>mean</th>\n",
       "      <th>std</th>\n",
       "      <th>min</th>\n",
       "      <th>25%</th>\n",
       "      <th>50%</th>\n",
       "      <th>75%</th>\n",
       "      <th>max</th>\n",
       "      <th>count</th>\n",
       "      <th>mean</th>\n",
       "      <th>std</th>\n",
       "      <th>min</th>\n",
       "      <th>25%</th>\n",
       "      <th>50%</th>\n",
       "      <th>75%</th>\n",
       "      <th>max</th>\n",
       "    </tr>\n",
       "    <tr>\n",
       "      <th>author</th>\n",
       "      <th></th>\n",
       "      <th></th>\n",
       "      <th></th>\n",
       "      <th></th>\n",
       "      <th></th>\n",
       "      <th></th>\n",
       "      <th></th>\n",
       "      <th></th>\n",
       "      <th></th>\n",
       "      <th></th>\n",
       "      <th></th>\n",
       "      <th></th>\n",
       "      <th></th>\n",
       "      <th></th>\n",
       "      <th></th>\n",
       "      <th></th>\n",
       "      <th></th>\n",
       "      <th></th>\n",
       "      <th></th>\n",
       "      <th></th>\n",
       "      <th></th>\n",
       "      <th></th>\n",
       "      <th></th>\n",
       "      <th></th>\n",
       "      <th></th>\n",
       "      <th></th>\n",
       "      <th></th>\n",
       "      <th></th>\n",
       "      <th></th>\n",
       "      <th></th>\n",
       "      <th></th>\n",
       "      <th></th>\n",
       "    </tr>\n",
       "  </thead>\n",
       "  <tbody>\n",
       "    <tr>\n",
       "      <th>A_A_Milne</th>\n",
       "      <td>6.0</td>\n",
       "      <td>4.365000</td>\n",
       "      <td>0.078677</td>\n",
       "      <td>4.25</td>\n",
       "      <td>4.3275</td>\n",
       "      <td>4.365</td>\n",
       "      <td>4.4025</td>\n",
       "      <td>4.48</td>\n",
       "      <td>6.0</td>\n",
       "      <td>47842.333333</td>\n",
       "      <td>57135.314010</td>\n",
       "      <td>544.0</td>\n",
       "      <td>15559.50</td>\n",
       "      <td>30547.0</td>\n",
       "      <td>50401.25</td>\n",
       "      <td>157833.0</td>\n",
       "      <td>6.0</td>\n",
       "      <td>543.000000</td>\n",
       "      <td>682.473150</td>\n",
       "      <td>1.0</td>\n",
       "      <td>219.50</td>\n",
       "      <td>309.5</td>\n",
       "      <td>499.25</td>\n",
       "      <td>1886.0</td>\n",
       "      <td>6.0</td>\n",
       "      <td>1944.166667</td>\n",
       "      <td>29.294482</td>\n",
       "      <td>1926.0</td>\n",
       "      <td>1926.25</td>\n",
       "      <td>1927.5</td>\n",
       "      <td>1952.75</td>\n",
       "      <td>1997.0</td>\n",
       "    </tr>\n",
       "    <tr>\n",
       "      <th>A_G_Howard</th>\n",
       "      <td>1.0</td>\n",
       "      <td>4.020000</td>\n",
       "      <td>NaN</td>\n",
       "      <td>4.02</td>\n",
       "      <td>4.0200</td>\n",
       "      <td>4.020</td>\n",
       "      <td>4.0200</td>\n",
       "      <td>4.02</td>\n",
       "      <td>1.0</td>\n",
       "      <td>17073.000000</td>\n",
       "      <td>NaN</td>\n",
       "      <td>17073.0</td>\n",
       "      <td>17073.00</td>\n",
       "      <td>17073.0</td>\n",
       "      <td>17073.00</td>\n",
       "      <td>17073.0</td>\n",
       "      <td>1.0</td>\n",
       "      <td>3194.000000</td>\n",
       "      <td>NaN</td>\n",
       "      <td>3194.0</td>\n",
       "      <td>3194.00</td>\n",
       "      <td>3194.0</td>\n",
       "      <td>3194.00</td>\n",
       "      <td>3194.0</td>\n",
       "      <td>1.0</td>\n",
       "      <td>2013.000000</td>\n",
       "      <td>NaN</td>\n",
       "      <td>2013.0</td>\n",
       "      <td>2013.00</td>\n",
       "      <td>2013.0</td>\n",
       "      <td>2013.00</td>\n",
       "      <td>2013.0</td>\n",
       "    </tr>\n",
       "    <tr>\n",
       "      <th>A_J_Cronin</th>\n",
       "      <td>1.0</td>\n",
       "      <td>4.220000</td>\n",
       "      <td>NaN</td>\n",
       "      <td>4.22</td>\n",
       "      <td>4.2200</td>\n",
       "      <td>4.220</td>\n",
       "      <td>4.2200</td>\n",
       "      <td>4.22</td>\n",
       "      <td>1.0</td>\n",
       "      <td>1015.000000</td>\n",
       "      <td>NaN</td>\n",
       "      <td>1015.0</td>\n",
       "      <td>1015.00</td>\n",
       "      <td>1015.0</td>\n",
       "      <td>1015.00</td>\n",
       "      <td>1015.0</td>\n",
       "      <td>1.0</td>\n",
       "      <td>109.000000</td>\n",
       "      <td>NaN</td>\n",
       "      <td>109.0</td>\n",
       "      <td>109.00</td>\n",
       "      <td>109.0</td>\n",
       "      <td>109.00</td>\n",
       "      <td>109.0</td>\n",
       "      <td>1.0</td>\n",
       "      <td>1941.000000</td>\n",
       "      <td>NaN</td>\n",
       "      <td>1941.0</td>\n",
       "      <td>1941.00</td>\n",
       "      <td>1941.0</td>\n",
       "      <td>1941.00</td>\n",
       "      <td>1941.0</td>\n",
       "    </tr>\n",
       "    <tr>\n",
       "      <th>A_J_Jacobs</th>\n",
       "      <td>1.0</td>\n",
       "      <td>3.750000</td>\n",
       "      <td>NaN</td>\n",
       "      <td>3.75</td>\n",
       "      <td>3.7500</td>\n",
       "      <td>3.750</td>\n",
       "      <td>3.7500</td>\n",
       "      <td>3.75</td>\n",
       "      <td>1.0</td>\n",
       "      <td>39489.000000</td>\n",
       "      <td>NaN</td>\n",
       "      <td>39489.0</td>\n",
       "      <td>39489.00</td>\n",
       "      <td>39489.0</td>\n",
       "      <td>39489.00</td>\n",
       "      <td>39489.0</td>\n",
       "      <td>1.0</td>\n",
       "      <td>4371.000000</td>\n",
       "      <td>NaN</td>\n",
       "      <td>4371.0</td>\n",
       "      <td>4371.00</td>\n",
       "      <td>4371.0</td>\n",
       "      <td>4371.00</td>\n",
       "      <td>4371.0</td>\n",
       "      <td>1.0</td>\n",
       "      <td>2007.000000</td>\n",
       "      <td>NaN</td>\n",
       "      <td>2007.0</td>\n",
       "      <td>2007.00</td>\n",
       "      <td>2007.0</td>\n",
       "      <td>2007.00</td>\n",
       "      <td>2007.0</td>\n",
       "    </tr>\n",
       "    <tr>\n",
       "      <th>A_J_Salt</th>\n",
       "      <td>1.0</td>\n",
       "      <td>4.940000</td>\n",
       "      <td>NaN</td>\n",
       "      <td>4.94</td>\n",
       "      <td>4.9400</td>\n",
       "      <td>4.940</td>\n",
       "      <td>4.9400</td>\n",
       "      <td>4.94</td>\n",
       "      <td>1.0</td>\n",
       "      <td>16.000000</td>\n",
       "      <td>NaN</td>\n",
       "      <td>16.0</td>\n",
       "      <td>16.00</td>\n",
       "      <td>16.0</td>\n",
       "      <td>16.00</td>\n",
       "      <td>16.0</td>\n",
       "      <td>1.0</td>\n",
       "      <td>6.000000</td>\n",
       "      <td>NaN</td>\n",
       "      <td>6.0</td>\n",
       "      <td>6.00</td>\n",
       "      <td>6.0</td>\n",
       "      <td>6.00</td>\n",
       "      <td>6.0</td>\n",
       "      <td>1.0</td>\n",
       "      <td>2014.000000</td>\n",
       "      <td>NaN</td>\n",
       "      <td>2014.0</td>\n",
       "      <td>2014.00</td>\n",
       "      <td>2014.0</td>\n",
       "      <td>2014.00</td>\n",
       "      <td>2014.0</td>\n",
       "    </tr>\n",
       "    <tr>\n",
       "      <th>...</th>\n",
       "      <td>...</td>\n",
       "      <td>...</td>\n",
       "      <td>...</td>\n",
       "      <td>...</td>\n",
       "      <td>...</td>\n",
       "      <td>...</td>\n",
       "      <td>...</td>\n",
       "      <td>...</td>\n",
       "      <td>...</td>\n",
       "      <td>...</td>\n",
       "      <td>...</td>\n",
       "      <td>...</td>\n",
       "      <td>...</td>\n",
       "      <td>...</td>\n",
       "      <td>...</td>\n",
       "      <td>...</td>\n",
       "      <td>...</td>\n",
       "      <td>...</td>\n",
       "      <td>...</td>\n",
       "      <td>...</td>\n",
       "      <td>...</td>\n",
       "      <td>...</td>\n",
       "      <td>...</td>\n",
       "      <td>...</td>\n",
       "      <td>...</td>\n",
       "      <td>...</td>\n",
       "      <td>...</td>\n",
       "      <td>...</td>\n",
       "      <td>...</td>\n",
       "      <td>...</td>\n",
       "      <td>...</td>\n",
       "      <td>...</td>\n",
       "    </tr>\n",
       "    <tr>\n",
       "      <th>_</th>\n",
       "      <td>42.0</td>\n",
       "      <td>3.988095</td>\n",
       "      <td>0.301211</td>\n",
       "      <td>3.15</td>\n",
       "      <td>3.8000</td>\n",
       "      <td>4.075</td>\n",
       "      <td>4.2075</td>\n",
       "      <td>4.47</td>\n",
       "      <td>42.0</td>\n",
       "      <td>11574.642857</td>\n",
       "      <td>9368.218450</td>\n",
       "      <td>10.0</td>\n",
       "      <td>4724.00</td>\n",
       "      <td>8709.5</td>\n",
       "      <td>15572.75</td>\n",
       "      <td>39302.0</td>\n",
       "      <td>42.0</td>\n",
       "      <td>1437.214286</td>\n",
       "      <td>1216.421371</td>\n",
       "      <td>1.0</td>\n",
       "      <td>534.75</td>\n",
       "      <td>1020.5</td>\n",
       "      <td>1745.75</td>\n",
       "      <td>4785.0</td>\n",
       "      <td>42.0</td>\n",
       "      <td>1998.904762</td>\n",
       "      <td>18.721071</td>\n",
       "      <td>1941.0</td>\n",
       "      <td>1994.75</td>\n",
       "      <td>2007.0</td>\n",
       "      <td>2010.75</td>\n",
       "      <td>2014.0</td>\n",
       "    </tr>\n",
       "    <tr>\n",
       "      <th>_gota_Krist_f</th>\n",
       "      <td>1.0</td>\n",
       "      <td>4.340000</td>\n",
       "      <td>NaN</td>\n",
       "      <td>4.34</td>\n",
       "      <td>4.3400</td>\n",
       "      <td>4.340</td>\n",
       "      <td>4.3400</td>\n",
       "      <td>4.34</td>\n",
       "      <td>1.0</td>\n",
       "      <td>2628.000000</td>\n",
       "      <td>NaN</td>\n",
       "      <td>2628.0</td>\n",
       "      <td>2628.00</td>\n",
       "      <td>2628.0</td>\n",
       "      <td>2628.00</td>\n",
       "      <td>2628.0</td>\n",
       "      <td>1.0</td>\n",
       "      <td>243.000000</td>\n",
       "      <td>NaN</td>\n",
       "      <td>243.0</td>\n",
       "      <td>243.00</td>\n",
       "      <td>243.0</td>\n",
       "      <td>243.00</td>\n",
       "      <td>243.0</td>\n",
       "      <td>1.0</td>\n",
       "      <td>1986.000000</td>\n",
       "      <td>NaN</td>\n",
       "      <td>1986.0</td>\n",
       "      <td>1986.00</td>\n",
       "      <td>1986.0</td>\n",
       "      <td>1986.00</td>\n",
       "      <td>1986.0</td>\n",
       "    </tr>\n",
       "    <tr>\n",
       "      <th>_mile_Zola</th>\n",
       "      <td>4.0</td>\n",
       "      <td>3.990000</td>\n",
       "      <td>0.100995</td>\n",
       "      <td>3.84</td>\n",
       "      <td>3.9750</td>\n",
       "      <td>4.035</td>\n",
       "      <td>4.0500</td>\n",
       "      <td>4.05</td>\n",
       "      <td>4.0</td>\n",
       "      <td>8358.250000</td>\n",
       "      <td>4553.226942</td>\n",
       "      <td>3594.0</td>\n",
       "      <td>5181.75</td>\n",
       "      <td>8095.0</td>\n",
       "      <td>11271.50</td>\n",
       "      <td>13649.0</td>\n",
       "      <td>4.0</td>\n",
       "      <td>283.750000</td>\n",
       "      <td>171.069917</td>\n",
       "      <td>125.0</td>\n",
       "      <td>189.50</td>\n",
       "      <td>243.5</td>\n",
       "      <td>337.75</td>\n",
       "      <td>523.0</td>\n",
       "      <td>4.0</td>\n",
       "      <td>1652.500000</td>\n",
       "      <td>456.345264</td>\n",
       "      <td>968.0</td>\n",
       "      <td>1649.75</td>\n",
       "      <td>1878.5</td>\n",
       "      <td>1881.25</td>\n",
       "      <td>1885.0</td>\n",
       "    </tr>\n",
       "    <tr>\n",
       "      <th>_ric_Emmanuel_Schmitt</th>\n",
       "      <td>1.0</td>\n",
       "      <td>4.160000</td>\n",
       "      <td>NaN</td>\n",
       "      <td>4.16</td>\n",
       "      <td>4.1600</td>\n",
       "      <td>4.160</td>\n",
       "      <td>4.1600</td>\n",
       "      <td>4.16</td>\n",
       "      <td>1.0</td>\n",
       "      <td>6439.000000</td>\n",
       "      <td>NaN</td>\n",
       "      <td>6439.0</td>\n",
       "      <td>6439.00</td>\n",
       "      <td>6439.0</td>\n",
       "      <td>6439.00</td>\n",
       "      <td>6439.0</td>\n",
       "      <td>1.0</td>\n",
       "      <td>424.000000</td>\n",
       "      <td>NaN</td>\n",
       "      <td>424.0</td>\n",
       "      <td>424.00</td>\n",
       "      <td>424.0</td>\n",
       "      <td>424.00</td>\n",
       "      <td>424.0</td>\n",
       "      <td>1.0</td>\n",
       "      <td>2002.000000</td>\n",
       "      <td>NaN</td>\n",
       "      <td>2002.0</td>\n",
       "      <td>2002.00</td>\n",
       "      <td>2002.0</td>\n",
       "      <td>2002.00</td>\n",
       "      <td>2002.0</td>\n",
       "    </tr>\n",
       "    <tr>\n",
       "      <th>_sne_Seierstad</th>\n",
       "      <td>1.0</td>\n",
       "      <td>3.740000</td>\n",
       "      <td>NaN</td>\n",
       "      <td>3.74</td>\n",
       "      <td>3.7400</td>\n",
       "      <td>3.740</td>\n",
       "      <td>3.7400</td>\n",
       "      <td>3.74</td>\n",
       "      <td>1.0</td>\n",
       "      <td>24993.000000</td>\n",
       "      <td>NaN</td>\n",
       "      <td>24993.0</td>\n",
       "      <td>24993.00</td>\n",
       "      <td>24993.0</td>\n",
       "      <td>24993.00</td>\n",
       "      <td>24993.0</td>\n",
       "      <td>1.0</td>\n",
       "      <td>2088.000000</td>\n",
       "      <td>NaN</td>\n",
       "      <td>2088.0</td>\n",
       "      <td>2088.00</td>\n",
       "      <td>2088.0</td>\n",
       "      <td>2088.00</td>\n",
       "      <td>2088.0</td>\n",
       "      <td>1.0</td>\n",
       "      <td>2002.000000</td>\n",
       "      <td>NaN</td>\n",
       "      <td>2002.0</td>\n",
       "      <td>2002.00</td>\n",
       "      <td>2002.0</td>\n",
       "      <td>2002.00</td>\n",
       "      <td>2002.0</td>\n",
       "    </tr>\n",
       "  </tbody>\n",
       "</table>\n",
       "<p>2645 rows × 32 columns</p>\n",
       "</div>"
      ],
      "text/plain": [
       "                      rating                                                        rating_count                                                                             review_count                                                                      year                                                                   \n",
       "                       count      mean       std   min     25%    50%     75%   max        count          mean           std      min       25%      50%       75%       max        count         mean          std     min      25%     50%      75%     max count         mean         std     min      25%     50%      75%     max\n",
       "author                                                                                                                                                                                                                                                                                                                                \n",
       "A_A_Milne                6.0  4.365000  0.078677  4.25  4.3275  4.365  4.4025  4.48          6.0  47842.333333  57135.314010    544.0  15559.50  30547.0  50401.25  157833.0          6.0   543.000000   682.473150     1.0   219.50   309.5   499.25  1886.0   6.0  1944.166667   29.294482  1926.0  1926.25  1927.5  1952.75  1997.0\n",
       "A_G_Howard               1.0  4.020000       NaN  4.02  4.0200  4.020  4.0200  4.02          1.0  17073.000000           NaN  17073.0  17073.00  17073.0  17073.00   17073.0          1.0  3194.000000          NaN  3194.0  3194.00  3194.0  3194.00  3194.0   1.0  2013.000000         NaN  2013.0  2013.00  2013.0  2013.00  2013.0\n",
       "A_J_Cronin               1.0  4.220000       NaN  4.22  4.2200  4.220  4.2200  4.22          1.0   1015.000000           NaN   1015.0   1015.00   1015.0   1015.00    1015.0          1.0   109.000000          NaN   109.0   109.00   109.0   109.00   109.0   1.0  1941.000000         NaN  1941.0  1941.00  1941.0  1941.00  1941.0\n",
       "A_J_Jacobs               1.0  3.750000       NaN  3.75  3.7500  3.750  3.7500  3.75          1.0  39489.000000           NaN  39489.0  39489.00  39489.0  39489.00   39489.0          1.0  4371.000000          NaN  4371.0  4371.00  4371.0  4371.00  4371.0   1.0  2007.000000         NaN  2007.0  2007.00  2007.0  2007.00  2007.0\n",
       "A_J_Salt                 1.0  4.940000       NaN  4.94  4.9400  4.940  4.9400  4.94          1.0     16.000000           NaN     16.0     16.00     16.0     16.00      16.0          1.0     6.000000          NaN     6.0     6.00     6.0     6.00     6.0   1.0  2014.000000         NaN  2014.0  2014.00  2014.0  2014.00  2014.0\n",
       "...                      ...       ...       ...   ...     ...    ...     ...   ...          ...           ...           ...      ...       ...      ...       ...       ...          ...          ...          ...     ...      ...     ...      ...     ...   ...          ...         ...     ...      ...     ...      ...     ...\n",
       "_                       42.0  3.988095  0.301211  3.15  3.8000  4.075  4.2075  4.47         42.0  11574.642857   9368.218450     10.0   4724.00   8709.5  15572.75   39302.0         42.0  1437.214286  1216.421371     1.0   534.75  1020.5  1745.75  4785.0  42.0  1998.904762   18.721071  1941.0  1994.75  2007.0  2010.75  2014.0\n",
       "_gota_Krist_f            1.0  4.340000       NaN  4.34  4.3400  4.340  4.3400  4.34          1.0   2628.000000           NaN   2628.0   2628.00   2628.0   2628.00    2628.0          1.0   243.000000          NaN   243.0   243.00   243.0   243.00   243.0   1.0  1986.000000         NaN  1986.0  1986.00  1986.0  1986.00  1986.0\n",
       "_mile_Zola               4.0  3.990000  0.100995  3.84  3.9750  4.035  4.0500  4.05          4.0   8358.250000   4553.226942   3594.0   5181.75   8095.0  11271.50   13649.0          4.0   283.750000   171.069917   125.0   189.50   243.5   337.75   523.0   4.0  1652.500000  456.345264   968.0  1649.75  1878.5  1881.25  1885.0\n",
       "_ric_Emmanuel_Schmitt    1.0  4.160000       NaN  4.16  4.1600  4.160  4.1600  4.16          1.0   6439.000000           NaN   6439.0   6439.00   6439.0   6439.00    6439.0          1.0   424.000000          NaN   424.0   424.00   424.0   424.00   424.0   1.0  2002.000000         NaN  2002.0  2002.00  2002.0  2002.00  2002.0\n",
       "_sne_Seierstad           1.0  3.740000       NaN  3.74  3.7400  3.740  3.7400  3.74          1.0  24993.000000           NaN  24993.0  24993.00  24993.0  24993.00   24993.0          1.0  2088.000000          NaN  2088.0  2088.00  2088.0  2088.00  2088.0   1.0  2002.000000         NaN  2002.0  2002.00  2002.0  2002.00  2002.0\n",
       "\n",
       "[2645 rows x 32 columns]"
      ]
     },
     "execution_count": 33,
     "metadata": {},
     "output_type": "execute_result"
    }
   ],
   "source": [
    "dfgb_author[['rating', 'rating_count', 'review_count', 'year']].describe()"
   ]
  },
  {
   "cell_type": "markdown",
   "metadata": {},
   "source": [
    "You can also access a `groupby` dictionary style."
   ]
  },
  {
   "cell_type": "code",
   "execution_count": null,
   "metadata": {
    "scrolled": false
   },
   "outputs": [],
   "source": [
    "ratingdict = {}\n",
    "for author, subset in dfgb_author:\n",
    "    ratingdict[author] = (subset['rating'].mean(), subset['rating'].std())\n",
    "#ratingdict"
   ]
  },
  {
   "cell_type": "markdown",
   "metadata": {},
   "source": [
    "<div class=\"exercise\"><b>Q3.2</b></div>\n",
    "\n",
    "This is a longer exercise, and you may want to use several cells to answer the following:\"\n",
    "\n",
    "- Group the dataframe by `author`. Include the following columns: `rating`, `name`, `author`. For the aggregation of the `name` column which includes the names of the books create a list with the strings containing the name of each book. Make sure that the way you aggregate the rest of the columns make sense! \n",
    "\n",
    "- Create a new column with number of books for each author and find the most prolific author!"
   ]
  },
  {
   "cell_type": "code",
   "execution_count": 34,
   "metadata": {},
   "outputs": [
    {
     "data": {
      "text/html": [
       "<div>\n",
       "<style scoped>\n",
       "    .dataframe tbody tr th:only-of-type {\n",
       "        vertical-align: middle;\n",
       "    }\n",
       "\n",
       "    .dataframe tbody tr th {\n",
       "        vertical-align: top;\n",
       "    }\n",
       "\n",
       "    .dataframe thead th {\n",
       "        text-align: right;\n",
       "    }\n",
       "</style>\n",
       "<table border=\"1\" class=\"dataframe\">\n",
       "  <thead>\n",
       "    <tr style=\"text-align: right;\">\n",
       "      <th></th>\n",
       "      <th>rating</th>\n",
       "      <th>review_count</th>\n",
       "      <th>isbn</th>\n",
       "      <th>booktype</th>\n",
       "      <th>author_url</th>\n",
       "      <th>year</th>\n",
       "      <th>dir</th>\n",
       "      <th>rating_count</th>\n",
       "      <th>name</th>\n",
       "      <th>author</th>\n",
       "      <th>genres</th>\n",
       "    </tr>\n",
       "  </thead>\n",
       "  <tbody>\n",
       "    <tr>\n",
       "      <th>2213</th>\n",
       "      <td>4.19</td>\n",
       "      <td>1169</td>\n",
       "      <td></td>\n",
       "      <td>good_reads:book</td>\n",
       "      <td>https://www.goodreads.com/author/show/1201952....</td>\n",
       "      <td>2003</td>\n",
       "      <td>dir23/2750180.html</td>\n",
       "      <td>15781</td>\n",
       "      <td>ÙØ§ ØªØ­Ø²Ù</td>\n",
       "      <td>A_id_al_Qarni</td>\n",
       "      <td>religion|religion|islam|self-help|non-fiction|...</td>\n",
       "    </tr>\n",
       "    <tr>\n",
       "      <th>5998</th>\n",
       "      <td>3.91</td>\n",
       "      <td>281</td>\n",
       "      <td></td>\n",
       "      <td>good_reads:book</td>\n",
       "      <td>https://www.goodreads.com/author/show/1201952....</td>\n",
       "      <td>2006</td>\n",
       "      <td>dir60/2750008.html</td>\n",
       "      <td>3083</td>\n",
       "      <td>Ø£Ø³Ø¹Ø¯ Ø§Ù",
       "Ø±Ø£Ø© ÙÙ Ø§ÙØ¹Ø§ÙÙ</td>\n",
       "      <td>A_id_al_Qarni</td>\n",
       "      <td>religion|islam|religion|self-help|spirituality...</td>\n",
       "    </tr>\n",
       "  </tbody>\n",
       "</table>\n",
       "</div>"
      ],
      "text/plain": [
       "      rating  review_count isbn         booktype                                         author_url  year                 dir  rating_count                                   name         author                                             genres\n",
       "2213    4.19          1169       good_reads:book  https://www.goodreads.com/author/show/1201952....  2003  dir23/2750180.html         15781                          ÙØ§ ØªØ­Ø²Ù  A_id_al_Qarni  religion|religion|islam|self-help|non-fiction|...\n",
       "5998    3.91           281       good_reads:book  https://www.goodreads.com/author/show/1201952....  2006  dir60/2750008.html          3083  Ø£Ø³Ø¹Ø¯ Ø§Ù\n",
       "Ø±Ø£Ø© ÙÙ Ø§ÙØ¹Ø§ÙÙ\n",
       "  A_id_al_Qarni  religion|islam|religion|self-help|spirituality..."
      ]
     },
     "execution_count": 34,
     "metadata": {},
     "output_type": "execute_result"
    }
   ],
   "source": [
    "###### Before we start : what do we do about these titles where 'name' is unreadable? Try different encodings?\n",
    "auth_name = 'A_id_al_Qarni'\n",
    "df[df.author == auth_name].head()"
   ]
  },
  {
   "cell_type": "code",
   "execution_count": 46,
   "metadata": {},
   "outputs": [
    {
     "data": {
      "text/plain": [
       "b'\\xff\\xfe\\xd9\\x00\\x84\\x00\\xd8\\x00\\xa7\\x00 \\x00\\xd8\\x00\\xaa\\x00\\xd8\\x00\\xad\\x00\\xd8\\x00\\xb2\\x00\\xd9\\x00\\x86\\x00'"
      ]
     },
     "execution_count": 46,
     "metadata": {},
     "output_type": "execute_result"
    }
   ],
   "source": [
    "df[df.author == auth_name].iloc[0,8].encode('UTF-16')"
   ]
  },
  {
   "cell_type": "code",
   "execution_count": null,
   "metadata": {},
   "outputs": [],
   "source": [
    "# let's examine the columns we have\n",
    "df.columns"
   ]
  },
  {
   "cell_type": "markdown",
   "metadata": {},
   "source": [
    "Create the GroupBy table"
   ]
  },
  {
   "cell_type": "code",
   "execution_count": 71,
   "metadata": {},
   "outputs": [],
   "source": [
    "authors = df.copy()\n",
    "authors = authors[['rating','name','author','review_count','genres']].groupby('author').agg(\n",
    "    ######\n",
    "    # your code here\n",
    "    # Hint1: calculate the mean of 'rating' across authors and\n",
    "    # Hint2: .join the 'name' (of books) into a single string with | as the separator\n",
    "    ######\n",
    "    {'rating' : np.mean,\n",
    "    'name' : '|'.join,\n",
    "    'review_count' : np.sum,\n",
    "    'genres' : np.size}\n",
    ")"
   ]
  },
  {
   "cell_type": "code",
   "execution_count": 72,
   "metadata": {},
   "outputs": [
    {
     "data": {
      "text/plain": [
       "Index(['rating', 'review_count', 'isbn', 'booktype', 'author_url', 'year', 'dir', 'rating_count', 'name', 'author', 'genres'], dtype='object')"
      ]
     },
     "execution_count": 72,
     "metadata": {},
     "output_type": "execute_result"
    }
   ],
   "source": [
    "df.columns"
   ]
  },
  {
   "cell_type": "code",
   "execution_count": 73,
   "metadata": {},
   "outputs": [
    {
     "data": {
      "text/html": [
       "<div>\n",
       "<style scoped>\n",
       "    .dataframe tbody tr th:only-of-type {\n",
       "        vertical-align: middle;\n",
       "    }\n",
       "\n",
       "    .dataframe tbody tr th {\n",
       "        vertical-align: top;\n",
       "    }\n",
       "\n",
       "    .dataframe thead th {\n",
       "        text-align: right;\n",
       "    }\n",
       "</style>\n",
       "<table border=\"1\" class=\"dataframe\">\n",
       "  <thead>\n",
       "    <tr style=\"text-align: right;\">\n",
       "      <th></th>\n",
       "      <th>author</th>\n",
       "      <th>rating</th>\n",
       "      <th>name</th>\n",
       "      <th>review_count</th>\n",
       "      <th>genres</th>\n",
       "    </tr>\n",
       "  </thead>\n",
       "  <tbody>\n",
       "    <tr>\n",
       "      <th>0</th>\n",
       "      <td>A_A_Milne</td>\n",
       "      <td>4.365</td>\n",
       "      <td>Winnie-the-Pooh|The House at Pooh Corner|The H...</td>\n",
       "      <td>3258</td>\n",
       "      <td>6</td>\n",
       "    </tr>\n",
       "    <tr>\n",
       "      <th>1</th>\n",
       "      <td>A_G_Howard</td>\n",
       "      <td>4.020</td>\n",
       "      <td>Splintered (Splintered, #1)</td>\n",
       "      <td>3194</td>\n",
       "      <td>1</td>\n",
       "    </tr>\n",
       "    <tr>\n",
       "      <th>2</th>\n",
       "      <td>A_J_Cronin</td>\n",
       "      <td>4.220</td>\n",
       "      <td>The Keys of the Kingdom</td>\n",
       "      <td>109</td>\n",
       "      <td>1</td>\n",
       "    </tr>\n",
       "    <tr>\n",
       "      <th>3</th>\n",
       "      <td>A_J_Jacobs</td>\n",
       "      <td>3.750</td>\n",
       "      <td>The Year of Living Biblically</td>\n",
       "      <td>4371</td>\n",
       "      <td>1</td>\n",
       "    </tr>\n",
       "    <tr>\n",
       "      <th>4</th>\n",
       "      <td>A_J_Salt</td>\n",
       "      <td>4.940</td>\n",
       "      <td>Nik Nassa &amp; the Mark of Destiny</td>\n",
       "      <td>6</td>\n",
       "      <td>1</td>\n",
       "    </tr>\n",
       "  </tbody>\n",
       "</table>\n",
       "</div>"
      ],
      "text/plain": [
       "       author  rating                                               name  review_count  genres\n",
       "0   A_A_Milne   4.365  Winnie-the-Pooh|The House at Pooh Corner|The H...          3258       6\n",
       "1  A_G_Howard   4.020                        Splintered (Splintered, #1)          3194       1\n",
       "2  A_J_Cronin   4.220                            The Keys of the Kingdom           109       1\n",
       "3  A_J_Jacobs   3.750                      The Year of Living Biblically          4371       1\n",
       "4    A_J_Salt   4.940                    Nik Nassa & the Mark of Destiny             6       1"
      ]
     },
     "execution_count": 73,
     "metadata": {},
     "output_type": "execute_result"
    }
   ],
   "source": [
    "authors = authors.reset_index()\n",
    "authors.head()"
   ]
  },
  {
   "cell_type": "code",
   "execution_count": 74,
   "metadata": {},
   "outputs": [
    {
     "data": {
      "text/html": [
       "<div>\n",
       "<style scoped>\n",
       "    .dataframe tbody tr th:only-of-type {\n",
       "        vertical-align: middle;\n",
       "    }\n",
       "\n",
       "    .dataframe tbody tr th {\n",
       "        vertical-align: top;\n",
       "    }\n",
       "\n",
       "    .dataframe thead th {\n",
       "        text-align: right;\n",
       "    }\n",
       "</style>\n",
       "<table border=\"1\" class=\"dataframe\">\n",
       "  <thead>\n",
       "    <tr style=\"text-align: right;\">\n",
       "      <th></th>\n",
       "      <th>author</th>\n",
       "      <th>rating</th>\n",
       "      <th>name</th>\n",
       "      <th>review_count</th>\n",
       "      <th>genres</th>\n",
       "    </tr>\n",
       "  </thead>\n",
       "  <tbody>\n",
       "    <tr>\n",
       "      <th>0</th>\n",
       "      <td>A_A_Milne</td>\n",
       "      <td>4.365</td>\n",
       "      <td>[Winnie-the-Pooh, The House at Pooh Corner, Th...</td>\n",
       "      <td>3258</td>\n",
       "      <td>6</td>\n",
       "    </tr>\n",
       "    <tr>\n",
       "      <th>1</th>\n",
       "      <td>A_G_Howard</td>\n",
       "      <td>4.020</td>\n",
       "      <td>[Splintered (Splintered, #1)]</td>\n",
       "      <td>3194</td>\n",
       "      <td>1</td>\n",
       "    </tr>\n",
       "    <tr>\n",
       "      <th>2</th>\n",
       "      <td>A_J_Cronin</td>\n",
       "      <td>4.220</td>\n",
       "      <td>[The Keys of the Kingdom]</td>\n",
       "      <td>109</td>\n",
       "      <td>1</td>\n",
       "    </tr>\n",
       "    <tr>\n",
       "      <th>3</th>\n",
       "      <td>A_J_Jacobs</td>\n",
       "      <td>3.750</td>\n",
       "      <td>[The Year of Living Biblically]</td>\n",
       "      <td>4371</td>\n",
       "      <td>1</td>\n",
       "    </tr>\n",
       "    <tr>\n",
       "      <th>4</th>\n",
       "      <td>A_J_Salt</td>\n",
       "      <td>4.940</td>\n",
       "      <td>[Nik Nassa &amp; the Mark of Destiny]</td>\n",
       "      <td>6</td>\n",
       "      <td>1</td>\n",
       "    </tr>\n",
       "  </tbody>\n",
       "</table>\n",
       "</div>"
      ],
      "text/plain": [
       "       author  rating                                               name  review_count  genres\n",
       "0   A_A_Milne   4.365  [Winnie-the-Pooh, The House at Pooh Corner, Th...          3258       6\n",
       "1  A_G_Howard   4.020                      [Splintered (Splintered, #1)]          3194       1\n",
       "2  A_J_Cronin   4.220                          [The Keys of the Kingdom]           109       1\n",
       "3  A_J_Jacobs   3.750                    [The Year of Living Biblically]          4371       1\n",
       "4    A_J_Salt   4.940                  [Nik Nassa & the Mark of Destiny]             6       1"
      ]
     },
     "execution_count": 74,
     "metadata": {},
     "output_type": "execute_result"
    }
   ],
   "source": [
    "# replace 'name' with a list of book names after using str.split\n",
    "######\n",
    "# your code here\n",
    "######\n",
    "authors['name'] = authors.name.str.split('|')\n",
    "\n",
    "authors.head()"
   ]
  },
  {
   "cell_type": "code",
   "execution_count": 69,
   "metadata": {},
   "outputs": [
    {
     "data": {
      "text/plain": [
       "6"
      ]
     },
     "execution_count": 69,
     "metadata": {},
     "output_type": "execute_result"
    }
   ],
   "source": [
    "# count the books - create new column\n",
    "len(authors.name[0])"
   ]
  },
  {
   "cell_type": "code",
   "execution_count": 75,
   "metadata": {},
   "outputs": [
    {
     "data": {
      "text/html": [
       "<div>\n",
       "<style scoped>\n",
       "    .dataframe tbody tr th:only-of-type {\n",
       "        vertical-align: middle;\n",
       "    }\n",
       "\n",
       "    .dataframe tbody tr th {\n",
       "        vertical-align: top;\n",
       "    }\n",
       "\n",
       "    .dataframe thead th {\n",
       "        text-align: right;\n",
       "    }\n",
       "</style>\n",
       "<table border=\"1\" class=\"dataframe\">\n",
       "  <thead>\n",
       "    <tr style=\"text-align: right;\">\n",
       "      <th></th>\n",
       "      <th>author</th>\n",
       "      <th>rating</th>\n",
       "      <th>name</th>\n",
       "      <th>review_count</th>\n",
       "      <th>genres</th>\n",
       "      <th>num_books</th>\n",
       "    </tr>\n",
       "  </thead>\n",
       "  <tbody>\n",
       "    <tr>\n",
       "      <th>0</th>\n",
       "      <td>A_A_Milne</td>\n",
       "      <td>4.365000</td>\n",
       "      <td>[Winnie-the-Pooh, The House at Pooh Corner, Th...</td>\n",
       "      <td>3258</td>\n",
       "      <td>6</td>\n",
       "      <td>6</td>\n",
       "    </tr>\n",
       "    <tr>\n",
       "      <th>1</th>\n",
       "      <td>A_G_Howard</td>\n",
       "      <td>4.020000</td>\n",
       "      <td>[Splintered (Splintered, #1)]</td>\n",
       "      <td>3194</td>\n",
       "      <td>1</td>\n",
       "      <td>1</td>\n",
       "    </tr>\n",
       "    <tr>\n",
       "      <th>2</th>\n",
       "      <td>A_J_Cronin</td>\n",
       "      <td>4.220000</td>\n",
       "      <td>[The Keys of the Kingdom]</td>\n",
       "      <td>109</td>\n",
       "      <td>1</td>\n",
       "      <td>1</td>\n",
       "    </tr>\n",
       "    <tr>\n",
       "      <th>3</th>\n",
       "      <td>A_J_Jacobs</td>\n",
       "      <td>3.750000</td>\n",
       "      <td>[The Year of Living Biblically]</td>\n",
       "      <td>4371</td>\n",
       "      <td>1</td>\n",
       "      <td>1</td>\n",
       "    </tr>\n",
       "    <tr>\n",
       "      <th>4</th>\n",
       "      <td>A_J_Salt</td>\n",
       "      <td>4.940000</td>\n",
       "      <td>[Nik Nassa &amp; the Mark of Destiny]</td>\n",
       "      <td>6</td>\n",
       "      <td>1</td>\n",
       "      <td>1</td>\n",
       "    </tr>\n",
       "    <tr>\n",
       "      <th>...</th>\n",
       "      <td>...</td>\n",
       "      <td>...</td>\n",
       "      <td>...</td>\n",
       "      <td>...</td>\n",
       "      <td>...</td>\n",
       "      <td>...</td>\n",
       "    </tr>\n",
       "    <tr>\n",
       "      <th>2640</th>\n",
       "      <td>_</td>\n",
       "      <td>3.988095</td>\n",
       "      <td>[Ø¹Ø²Ø§Ø²ÙÙ, Ø«ÙØ§Ø«ÙØ© ØºØ±ÙØ§Ø·Ø©, ØªØ±...</td>\n",
       "      <td>60363</td>\n",
       "      <td>42</td>\n",
       "      <td>42</td>\n",
       "    </tr>\n",
       "    <tr>\n",
       "      <th>2641</th>\n",
       "      <td>_gota_Krist_f</td>\n",
       "      <td>4.340000</td>\n",
       "      <td>[The Notebook, The Proof, The Third Lie]</td>\n",
       "      <td>243</td>\n",
       "      <td>1</td>\n",
       "      <td>1</td>\n",
       "    </tr>\n",
       "    <tr>\n",
       "      <th>2642</th>\n",
       "      <td>_mile_Zola</td>\n",
       "      <td>3.990000</td>\n",
       "      <td>[Germinal (Les Rougon-Macquart, #13), L'Assomm...</td>\n",
       "      <td>1135</td>\n",
       "      <td>4</td>\n",
       "      <td>4</td>\n",
       "    </tr>\n",
       "    <tr>\n",
       "      <th>2643</th>\n",
       "      <td>_ric_Emmanuel_Schmitt</td>\n",
       "      <td>4.160000</td>\n",
       "      <td>[Oscar et la dame rose]</td>\n",
       "      <td>424</td>\n",
       "      <td>1</td>\n",
       "      <td>1</td>\n",
       "    </tr>\n",
       "    <tr>\n",
       "      <th>2644</th>\n",
       "      <td>_sne_Seierstad</td>\n",
       "      <td>3.740000</td>\n",
       "      <td>[The Bookseller of Kabul]</td>\n",
       "      <td>2088</td>\n",
       "      <td>1</td>\n",
       "      <td>1</td>\n",
       "    </tr>\n",
       "  </tbody>\n",
       "</table>\n",
       "<p>2645 rows × 6 columns</p>\n",
       "</div>"
      ],
      "text/plain": [
       "                     author    rating                                               name  review_count  genres  num_books\n",
       "0                 A_A_Milne  4.365000  [Winnie-the-Pooh, The House at Pooh Corner, Th...          3258       6          6\n",
       "1                A_G_Howard  4.020000                      [Splintered (Splintered, #1)]          3194       1          1\n",
       "2                A_J_Cronin  4.220000                          [The Keys of the Kingdom]           109       1          1\n",
       "3                A_J_Jacobs  3.750000                    [The Year of Living Biblically]          4371       1          1\n",
       "4                  A_J_Salt  4.940000                  [Nik Nassa & the Mark of Destiny]             6       1          1\n",
       "...                     ...       ...                                                ...           ...     ...        ...\n",
       "2640                      _  3.988095  [Ø¹Ø²Ø§Ø²ÙÙ, Ø«ÙØ§Ø«ÙØ© ØºØ±ÙØ§Ø·Ø©, ØªØ±...         60363      42         42\n",
       "2641          _gota_Krist_f  4.340000           [The Notebook, The Proof, The Third Lie]           243       1          1\n",
       "2642             _mile_Zola  3.990000  [Germinal (Les Rougon-Macquart, #13), L'Assomm...          1135       4          4\n",
       "2643  _ric_Emmanuel_Schmitt  4.160000                            [Oscar et la dame rose]           424       1          1\n",
       "2644         _sne_Seierstad  3.740000                          [The Bookseller of Kabul]          2088       1          1\n",
       "\n",
       "[2645 rows x 6 columns]"
      ]
     },
     "execution_count": 75,
     "metadata": {},
     "output_type": "execute_result"
    }
   ],
   "source": [
    "# count the number of books for each author \n",
    "\n",
    "######\n",
    "# your code here\n",
    "######\n",
    "\n",
    "authors['num_books'] = authors['name'].str.len()\n",
    "authors"
   ]
  },
  {
   "cell_type": "code",
   "execution_count": 76,
   "metadata": {},
   "outputs": [
    {
     "data": {
      "text/plain": [
       "author                                               Stephen_King\n",
       "rating                                                    3.91875\n",
       "name            [The Stand, The Shining (The Shining #1), It, ...\n",
       "review_count                                               172789\n",
       "genres                                                         56\n",
       "num_books                                                      56\n",
       "Name: 2349, dtype: object"
      ]
     },
     "execution_count": 76,
     "metadata": {},
     "output_type": "execute_result"
    }
   ],
   "source": [
    "# determine who has been the most prolific (in this list)\n",
    "\n",
    "######\n",
    "# your code here\n",
    "######\n",
    "\n",
    "authors.sort_values(by='num_books', ascending=False).iloc[0]"
   ]
  },
  {
   "cell_type": "markdown",
   "metadata": {},
   "source": [
    "Wow! **Stephen King** wins with **56 books**!"
   ]
  },
  {
   "cell_type": "markdown",
   "metadata": {},
   "source": [
    "<div class=\"exercise\"><b>BONUS QUESTION</b></div>\n",
    "\n",
    "Lets get the best-rated book(s) for every year in our Goodreads dataframe."
   ]
  },
  {
   "cell_type": "code",
   "execution_count": null,
   "metadata": {},
   "outputs": [],
   "source": [
    "\n",
    "######\n",
    "# your code here\n",
    "# Hint: don't try to slice, rather use a for loop to iterate through each  \n",
    "# 'group' within the groupBy object\n",
    "######\n",
    "\n",
    "\n",
    "dfgb_year = df.groupby('year')\n",
    "\n",
    "for name, group in dfgb_year:\n",
    "    print(\"In\",name,\", the book\",group['name'][group['rating'].idxmax], \"had a rating of\",np.max(group['rating']))\n",
    "    \n"
   ]
  },
  {
   "cell_type": "code",
   "execution_count": null,
   "metadata": {},
   "outputs": [],
   "source": [
    "years"
   ]
  },
  {
   "cell_type": "markdown",
   "metadata": {},
   "source": [
    "---"
   ]
  },
  {
   "cell_type": "markdown",
   "metadata": {},
   "source": [
    "# Introduction to Web Servers and HTTP\n",
    "\n",
    "A web server is just a computer -- usually a powerful one, but ultimately it's just another computer -- that runs a long/continuous process that listens for requests on a pre-specified (Internet) _port_ on your computer. It responds to those requests via a protocol called HTTP (HyperText Transfer Protocol). HTTPS is the secure version. When we use a web browser and navigate to a web page, our browser is actually sending a request on our behalf to a specific web server. The browser request is essentially saying \"hey, please give me the web page contents\", and it's up to the browser to correctly render that raw content into a coherent manner, dependent on the format of the file. For example, HTML is one format, XML is another format, and so on.\n",
    "\n",
    "Ideally (and usually), the web server complies with the request and all is fine. As part of this communication exchange with web servers, the server also sends a status code.\n",
    "- If the code starts with a **2**, it means the request was successful.\n",
    "- If the code starts with a **4**, it means there was a client error (you, as the user, are the client). For example, ever receive a 404 File Not Found error because a web page doesn't exist? This is an example of a client error, because you are requesting a bogus item.\n",
    "- If the code starts with a **5**, it means there was a server error (often that your request was incorrectly formed).\n",
    "\n",
    "[Click here](https://www.restapitutorial.com/httpstatuscodes.html) for a full list of status codes.\n",
    "\n",
    "As an analogy, you can think of a web server as being like a server at a restaurant; its goal is _serve_ you your requests. When you try to order something not on the menu (i.e., ask for a web page at a wrong location), the server says 'sorry, we don't have that' (i.e., 404, client error; your mistake).\n",
    "\n",
    "**IMPORTANT:**\n",
    "As humans, we visit pages in a sane, reasonable rate. However, as we start to scrape web pages with our computers, we will be sending requests with our code, and thus, we can make requests at an incredible rate. This is potentially dangerous because it's akin to going to a restaurant and bombarding the server(s) with thousands of food orders. Very often, the restaurant will ban you (i.e., Harvard's network gets banned from the website, and you are potentially held responsible in some capacity?). It is imperative to be responsible and careful. In fact, this act of flooding web pages with requests is the single-most popular, yet archiac, method for maliciously attacking websites / computers with Internet connections. In short, be respectful and careful with your decisions and code. It is better to err on the side of caution, which includes using the **``time.sleep()`` function** to pause your code's execution between subsequent requests. ``time.sleep(2)`` should be fine when making just a few dozen requests. Each site has its own rules, which are often visible via their site's ``robots.txt`` file.\n",
    "\n",
    "### Additional Resources\n",
    "\n",
    "**HTML:** if you are not familiar with HTML see https://www.w3schools.com/html/ or one of the many tutorials on the internet.\n",
    "\n",
    "**Document Object Model (DOM):** for more on this programming interface for HTML and XML documents see https://www.w3schools.com/js/js_htmldom.asp."
   ]
  },
  {
   "cell_type": "markdown",
   "metadata": {},
   "source": [
    "## Part 4: Download webpages and get basic properties\n",
    "\n",
    "``Requests`` is a highly useful Python library that allows us to fetch web pages.\n",
    "``BeautifulSoup`` is a phenomenal Python library that allows us to easily parse web content and perform basic extraction.\n",
    "\n",
    "If one wishes to scrape webpages, one usually uses ``requests`` to fetch the page and ``BeautifulSoup`` to parse the page's meaningful components. Webpages can be messy, despite having a structured format, which is why BeautifulSoup is so handy.\n",
    "\n",
    "Let's get started:"
   ]
  },
  {
   "cell_type": "code",
   "execution_count": null,
   "metadata": {},
   "outputs": [],
   "source": [
    "from bs4 import BeautifulSoup\n",
    "import requests"
   ]
  },
  {
   "cell_type": "markdown",
   "metadata": {},
   "source": [
    "To fetch a webpage's content, we can simply use the ``get()`` function within the requests library:"
   ]
  },
  {
   "cell_type": "code",
   "execution_count": null,
   "metadata": {},
   "outputs": [],
   "source": [
    "url = \"https://www.npr.org/2018/11/05/664395755/what-if-the-polls-are-wrong-again-4-scenarios-for-what-might-happen-in-the-elect\"\n",
    "response = requests.get(url) # you can use any URL that you wish"
   ]
  },
  {
   "cell_type": "markdown",
   "metadata": {},
   "source": [
    "The response variable has many highly useful attributes, such as:\n",
    "- status_code\n",
    "- text\n",
    "- content\n",
    "\n",
    "Let's try each of them!"
   ]
  },
  {
   "cell_type": "markdown",
   "metadata": {},
   "source": [
    "### response.status_code"
   ]
  },
  {
   "cell_type": "code",
   "execution_count": null,
   "metadata": {},
   "outputs": [],
   "source": [
    "response.status_code"
   ]
  },
  {
   "cell_type": "markdown",
   "metadata": {},
   "source": [
    "You should have received a status code of 200, which means the page was successfully found on the server and sent to receiver (aka client/user/you). [Again, you can click here](https://www.restapitutorial.com/httpstatuscodes.html) for a full list of status codes.\n",
    "\n",
    "### response.text\n"
   ]
  },
  {
   "cell_type": "code",
   "execution_count": null,
   "metadata": {},
   "outputs": [],
   "source": [
    "response.text"
   ]
  },
  {
   "cell_type": "markdown",
   "metadata": {},
   "source": [
    "Holy moly! That looks awful. If we use our browser to visit the URL, then right-click the page and click 'View Page Source', we see that it is identical to this chunk of glorious text.\n",
    "\n",
    "### response.content"
   ]
  },
  {
   "cell_type": "code",
   "execution_count": null,
   "metadata": {},
   "outputs": [],
   "source": [
    "response.content"
   ]
  },
  {
   "cell_type": "markdown",
   "metadata": {},
   "source": [
    "What?! This seems identical to the ``.text`` field. However, the careful eye would notice that the very 1st characters differ; that is, ``.content`` has a *b'* character at the beginning, which in Python syntax denotes that the data type is bytes, whereas the ``.text`` field did not have it and is a regular String.\n",
    "\n",
    "Ok, so that's great, but how do we make sense of this text? We could manually parse it, but that's tedious and difficult. As mentioned, BeautifulSoup is specifically designed to parse this exact content (any webpage content).\n",
    "\n",
    "## BEAUTIFUL SOUP\n",
    "![title](../images/soup_for_you.jpg) (property of NBC)\n",
    "\n",
    "\n",
    "The [documentation for BeautifulSoup is found here](https://www.crummy.com/software/BeautifulSoup/bs4/doc/).\n",
    "\n",
    "A BeautifulSoup object can be initialized with the ``.content`` from request and a flag denoting the type of parser that we should use. For example, we could specify ``html.parser``, ``lxml``, etc [documentation here](https://www.crummy.com/software/BeautifulSoup/bs4/doc/#differences-between-parsers). Since we are interested in standard webpages that use HTML, let's specify the html.parser:"
   ]
  },
  {
   "cell_type": "code",
   "execution_count": null,
   "metadata": {},
   "outputs": [],
   "source": [
    "soup = BeautifulSoup(response.content, \"html.parser\")\n",
    "soup"
   ]
  },
  {
   "cell_type": "markdown",
   "metadata": {},
   "source": [
    "Alright! That looks a little better; there's some whitespace formatting, adding some structure to our content! HTML code is structured by `<tags>`. Every tag has an opening and closing portion, denoted by ``< >`` and ``</ >``, respectively. If we want just the text (not the tags), we can use:"
   ]
  },
  {
   "cell_type": "code",
   "execution_count": null,
   "metadata": {},
   "outputs": [],
   "source": [
    "soup.get_text()"
   ]
  },
  {
   "cell_type": "markdown",
   "metadata": {},
   "source": [
    "There's some tricky Javascript still nesting within it, but it definitely cleaned up a bit. On other websites, you may find even clearer text extraction.\n",
    "\n",
    "As detailed in the [BeautifulSoup documentation](https://www.crummy.com/software/BeautifulSoup/bs4/doc/), the easiest way to navigate through the tags is to simply name the tag you're interested in. For example:"
   ]
  },
  {
   "cell_type": "code",
   "execution_count": null,
   "metadata": {},
   "outputs": [],
   "source": [
    "soup.head # fetches the head tag, which ecompasses the title tag"
   ]
  },
  {
   "cell_type": "markdown",
   "metadata": {},
   "source": [
    "Usually head tags are small and only contain the most important contents; however, here, there's some Javascript code. The ``title`` tag resides within the head tag."
   ]
  },
  {
   "cell_type": "code",
   "execution_count": null,
   "metadata": {},
   "outputs": [],
   "source": [
    "soup.title # we can specifically call for the title tag"
   ]
  },
  {
   "cell_type": "markdown",
   "metadata": {},
   "source": [
    "This result includes the tag itself. To get just the text within the tags, we can use the ``.name`` property."
   ]
  },
  {
   "cell_type": "code",
   "execution_count": null,
   "metadata": {},
   "outputs": [],
   "source": [
    "soup.title.string"
   ]
  },
  {
   "cell_type": "markdown",
   "metadata": {},
   "source": [
    "We can navigate to the parent tag (the tag that encompasses the current tag) via the ``.parent`` attribute:"
   ]
  },
  {
   "cell_type": "code",
   "execution_count": null,
   "metadata": {},
   "outputs": [],
   "source": [
    "soup.title.parent.name"
   ]
  },
  {
   "cell_type": "markdown",
   "metadata": {},
   "source": [
    "## Parse the page with Beautiful Soup\n",
    "In HTML code, paragraphs are often denoated with a ``<p>`` tag."
   ]
  },
  {
   "cell_type": "code",
   "execution_count": null,
   "metadata": {},
   "outputs": [],
   "source": [
    "soup.p"
   ]
  },
  {
   "cell_type": "markdown",
   "metadata": {},
   "source": [
    "This returns the first paragraph, and we can access properties of the given tag with the same syntax we use for dictionaries and dataframes:"
   ]
  },
  {
   "cell_type": "code",
   "execution_count": null,
   "metadata": {},
   "outputs": [],
   "source": [
    "soup.p['class']"
   ]
  },
  {
   "cell_type": "markdown",
   "metadata": {},
   "source": [
    "In addition to 'paragraph' (aka p) tags, link tags are also very common and are denoted by ``<a>`` tags"
   ]
  },
  {
   "cell_type": "code",
   "execution_count": null,
   "metadata": {},
   "outputs": [],
   "source": [
    "soup.a"
   ]
  },
  {
   "cell_type": "markdown",
   "metadata": {},
   "source": [
    "It is called the a tag because links are also called 'anchors'. Nearly every page has multiple paragraphs and anchors, so how do we access the subsequent tags? There are two common functions, `.find()` and `.find_all()`."
   ]
  },
  {
   "cell_type": "code",
   "execution_count": null,
   "metadata": {},
   "outputs": [],
   "source": [
    "soup.find('title')"
   ]
  },
  {
   "cell_type": "code",
   "execution_count": null,
   "metadata": {},
   "outputs": [],
   "source": [
    "soup.find_all('title')"
   ]
  },
  {
   "cell_type": "markdown",
   "metadata": {},
   "source": [
    "Here, the results were seemingly the same, since there is only one title to a webpage. However, you'll notice that ``.find_all()`` returned a list, not a single item. Sure, there was only one item in the list, but it returned a list. As the name implies, find_all() returns all items that match the passed-in tag."
   ]
  },
  {
   "cell_type": "code",
   "execution_count": null,
   "metadata": {},
   "outputs": [],
   "source": [
    "soup.find_all('a')"
   ]
  },
  {
   "cell_type": "markdown",
   "metadata": {},
   "source": [
    "Look at all of those links! Amazing. It might be hard to read but the **href** portion of an *a* tag denotes the URL, and we can capture it via the ``.get()`` function."
   ]
  },
  {
   "cell_type": "code",
   "execution_count": null,
   "metadata": {},
   "outputs": [],
   "source": [
    "for link in soup.find_all('a'): # we could optionally pass the href=True flag .find_all('a', href=True)\n",
    "    print(link.get('href'))"
   ]
  },
  {
   "cell_type": "markdown",
   "metadata": {},
   "source": [
    "Many of those links are relative to the current URL (e.g., /section/news/)."
   ]
  },
  {
   "cell_type": "code",
   "execution_count": null,
   "metadata": {},
   "outputs": [],
   "source": [
    "paragraphs = soup.find_all('p')\n",
    "paragraphs"
   ]
  },
  {
   "cell_type": "markdown",
   "metadata": {},
   "source": [
    "If we want just the paragraph text:"
   ]
  },
  {
   "cell_type": "code",
   "execution_count": null,
   "metadata": {},
   "outputs": [],
   "source": [
    "for pa in paragraphs:\n",
    "    print(pa.get_text())"
   ]
  },
  {
   "cell_type": "markdown",
   "metadata": {},
   "source": [
    "Since there are multiple tags and various attributes, it is useful to check the data type of BeautifulSoup objects:"
   ]
  },
  {
   "cell_type": "code",
   "execution_count": null,
   "metadata": {},
   "outputs": [],
   "source": [
    "type(soup.find('p'))"
   ]
  },
  {
   "cell_type": "markdown",
   "metadata": {},
   "source": [
    "Since the ``.find()`` function returns a BeautifulSoup element, we can tack on multiple calls that continue to return elements:"
   ]
  },
  {
   "cell_type": "code",
   "execution_count": null,
   "metadata": {},
   "outputs": [],
   "source": [
    "soup.find('p')"
   ]
  },
  {
   "cell_type": "code",
   "execution_count": null,
   "metadata": {},
   "outputs": [],
   "source": [
    "soup.find('p').find('a')"
   ]
  },
  {
   "cell_type": "code",
   "execution_count": null,
   "metadata": {},
   "outputs": [],
   "source": [
    "soup.find('p').find('a').attrs['href'] # att"
   ]
  },
  {
   "cell_type": "code",
   "execution_count": null,
   "metadata": {},
   "outputs": [],
   "source": [
    "soup.find('p').find('a').text"
   ]
  },
  {
   "cell_type": "markdown",
   "metadata": {},
   "source": [
    "That doesn't look pretty, but it makes sense because if you look at what ``.find('a')`` returned, there is plenty of whitespace. We can remove that with Python's built-in ``.strip()`` function."
   ]
  },
  {
   "cell_type": "code",
   "execution_count": null,
   "metadata": {},
   "outputs": [],
   "source": [
    "soup.find('p').find('a').text.strip()"
   ]
  },
  {
   "cell_type": "markdown",
   "metadata": {},
   "source": [
    "**NOTE:** above, we accessed the attributes of a link by using the property ``.attrs``. ``.attrs`` takes a dictionary as a parameter, and in the example above, we only provided the _key_, not a _value_, too. That is, we only cared that the ``<a>`` tag had an attribute named ``href`` (which we grabbed by typing that command), and we made no specific demands on what the value must be. In other words, regardless of the value of _href_, we grabbed that element. Alternatively, if you inspect your HTML code and notice select regions for which you'd like to extract text, you can specify it as part of the attributes, too!\n",
    "\n",
    "For example, in the full ``response.text``, we see the following line:\n",
    "\n",
    "``<header class=\"npr-header\" id=\"globalheader\" aria-label=\"NPR header\">``\n",
    "\n",
    "Let's say that we know that the information we care about is within tags that match this template (i.e., **class** is an attribute, and its value is **'npr-header'**)."
   ]
  },
  {
   "cell_type": "code",
   "execution_count": null,
   "metadata": {},
   "outputs": [],
   "source": [
    "soup.find('header', attrs={'class':'npr-header'})"
   ]
  },
  {
   "cell_type": "markdown",
   "metadata": {},
   "source": [
    "This matched it! We could then continue further processing by tacking on other commands:"
   ]
  },
  {
   "cell_type": "code",
   "execution_count": null,
   "metadata": {},
   "outputs": [],
   "source": [
    "soup.find('header', attrs={'class':'npr-header'}).find_all(\"li\") # li stands for list items"
   ]
  },
  {
   "cell_type": "markdown",
   "metadata": {},
   "source": [
    "This returns all of our list items, and since it's within a particular header section of the page, it appears they are links to menu items for navigating the webpage. If we wanted to grab just the links within these:"
   ]
  },
  {
   "cell_type": "code",
   "execution_count": null,
   "metadata": {},
   "outputs": [],
   "source": [
    "menu_links = set()\n",
    "for list_item in soup.find('header', attrs={'class':'npr-header'}).find_all(\"li\"):\n",
    "    for link in list_item.find_all('a', href=True):\n",
    "        menu_links.add(link)\n",
    "menu_links # a unique set of all the seemingly important links in the header"
   ]
  },
  {
   "cell_type": "markdown",
   "metadata": {},
   "source": [
    "## TAKEAWAY LESSON\n",
    "The above tutorial isn't meant to be a study guide to memorize; its point is to show you the most important functionaity that exist within BeautifulSoup, and to illustrate how one can access different pieces of content. No two web scraping tasks are identical, so it's useful to play around with code and try different things, while using the above as examples of how you may navigate between different tags and properties of a page. Don't worry; we are always here to help when you get stuck!\n",
    "\n",
    "# String formatting\n",
    "As we parse webpages, we may often want to further adjust and format the text to a certain way.\n",
    "\n",
    "For example, say we wanted to scrape a polical website that lists all US Senators' name and office phone number. We may want to store information for each senator in a dictionary. All senators' information may be stored in a list. Thus, we'd have a list of dictionaries. Below, we will initialize such a list of dictionary (it has only 3 senators, for illustrative purposes, but imagine it contains many more)."
   ]
  },
  {
   "cell_type": "code",
   "execution_count": 77,
   "metadata": {},
   "outputs": [
    {
     "name": "stdout",
     "output_type": "stream",
     "text": [
      "[{'name': 'Lamar Alexander', 'number': '555-229-2812'}, {'name': 'Tammy Baldwin', 'number': '555-922-8393'}, {'name': 'John Barrasso', 'number': '555-827-2281'}]\n"
     ]
    }
   ],
   "source": [
    "# this is a bit clumsy of an initialization, but we spell it out this way for clarity purposes\n",
    "# NOTE: imagine the dictionary were constructed in a more organic manner\n",
    "senator1 = {\"name\":\"Lamar Alexander\", \"number\":\"555-229-2812\"}\n",
    "senator2 = {\"name\":\"Tammy Baldwin\", \"number\":\"555-922-8393\"}\n",
    "senator3 = {\"name\":\"John Barrasso\", \"number\":\"555-827-2281\"}\n",
    "senators = [senator1, senator2, senator3]\n",
    "print(senators)"
   ]
  },
  {
   "cell_type": "markdown",
   "metadata": {},
   "source": [
    "In the real-world, we may not want the final form of our information to be in a Python dictionary; rather, we may need to send an email to people in our mailing list, urging them to call their senators. If we have a templated format in mind, we can do the following:"
   ]
  },
  {
   "cell_type": "code",
   "execution_count": 78,
   "metadata": {},
   "outputs": [
    {
     "name": "stdout",
     "output_type": "stream",
     "text": [
      "Please call Lamar Alexander at 555-229-2812\n",
      "Please call Tammy Baldwin at 555-922-8393\n",
      "Please call John Barrasso at 555-827-2281\n"
     ]
    }
   ],
   "source": [
    "email_template = \"\"\"Please call {name} at {number}\"\"\"\n",
    "for senator in senators:\n",
    "    print(email_template.format(**senator))"
   ]
  },
  {
   "cell_type": "markdown",
   "metadata": {},
   "source": [
    "**Please [visit here](https://docs.python.org/3/library/stdtypes.html#str.format)** for further documentation\n",
    "                      \n",
    "Alternatively, one can also format their text via the ``f'-strings`` property. [See documentation here](https://docs.python.org/3/reference/lexical_analysis.html#f-strings). For example, using the above data structure and goal, one could yield identical results via:"
   ]
  },
  {
   "cell_type": "code",
   "execution_count": 79,
   "metadata": {},
   "outputs": [
    {
     "name": "stdout",
     "output_type": "stream",
     "text": [
      "Please call Lamar Alexander at 555-229-2812\n",
      "Please call Tammy Baldwin at 555-922-8393\n",
      "Please call John Barrasso at 555-827-2281\n"
     ]
    }
   ],
   "source": [
    "for senator in senators:\n",
    "    print(f\"Please call {senator['name']} at {senator['number']}\")"
   ]
  },
  {
   "cell_type": "markdown",
   "metadata": {},
   "source": [
    "Additionally, sometimes we wish to search large strings of text. If we wish to find all occurrences within a given string, a very mechanical, procedural way of doing it would be to use the ``.find()`` function in Python and to repeatedly update the starting index from which we are looking.\n",
    "\n",
    "## Regular Expressions\n",
    "A way more suitable and powerful way is to use Regular Expressions, which is a pattern matching mechanism used throughout Computer Science and programming (it's not just specific to Python). A tutorial on Regular Expressions (aka regex) is beond this lab, but below are many great resources that we recommend, if you are interested in them (could be very useful for a homework problem):\n",
    "- https://docs.python.org/3.3/library/re.html\n",
    "- https://regexone.com\n",
    "- https://docs.python.org/3/howto/regex.html.\n",
    "\n",
    "# Additonal Python/Homework Comment\n",
    "In Homework #1, we ask you to complete functions that have signatures with a syntax you may not have seen before:\n",
    "\n",
    "``def create_star_table(starlist: list) -> list:``\n",
    "\n",
    "To be clear, this syntax merely means that the input parameter must be a list, and the output must be a list. It's no different than any other function, it just puts a requirement on the behavior of the function.\n",
    "\n",
    "It is **typing** our function. Please [see this documention if you have more questions.](https://docs.python.org/3/library/typing.html)\n",
    "\n",
    "# Walkthrough Example (of Web Scraping)\n",
    "We're going to see the structure of Goodread's best books list online. We'll use the Developer tools in chrome, safari and firefox have similar tools available. To get this page we use the `requests` module. But first we should check if the company's policy allows scraping. Check the [robots.txt](https://www.goodreads.com/robots.txt) to find what sites/elements are not accessible. Please read and verify.\n",
    "\n",
    "![](images/goodreads1.png)"
   ]
  },
  {
   "cell_type": "code",
   "execution_count": null,
   "metadata": {},
   "outputs": [],
   "source": [
    "url=\"https://www.npr.org/2018/11/05/664395755/what-if-the-polls-are-wrong-again-4-scenarios-for-what-might-happen-in-the-elect\"\n",
    "response = requests.get(url)\n",
    "# response.status_code\n",
    "# response.content\n",
    "\n",
    "# Beautiful Soup (library) time!\n",
    "soup = BeautifulSoup(response.content, \"html.parser\")\n",
    "    #print(soup)\n",
    "    # soup.prettify()\n",
    "soup.find(\"title\")\n",
    "\n",
    "    # Q1: how do we get the title's text?\n",
    "\n",
    "    # Q2: how do we get the webpage's entire content?"
   ]
  },
  {
   "cell_type": "code",
   "execution_count": null,
   "metadata": {},
   "outputs": [],
   "source": [
    "URLSTART=\"https://www.goodreads.com\"\n",
    "BESTBOOKS=\"/list/show/1.Best_Books_Ever?page=\"\n",
    "url = URLSTART+BESTBOOKS+'1'\n",
    "print(url)\n",
    "page = requests.get(url)"
   ]
  },
  {
   "cell_type": "markdown",
   "metadata": {},
   "source": [
    "We can see properties of the page. Most relevant are `status_code` and `text`. The former tells us  if the web-page was found, and if found , ok. (See lecture notes.)"
   ]
  },
  {
   "cell_type": "code",
   "execution_count": null,
   "metadata": {},
   "outputs": [],
   "source": [
    "page.status_code # 200 is good"
   ]
  },
  {
   "cell_type": "code",
   "execution_count": null,
   "metadata": {},
   "outputs": [],
   "source": [
    "page.text[:5000]"
   ]
  },
  {
   "cell_type": "markdown",
   "metadata": {},
   "source": [
    "Let us write a loop to fetch 2 pages of \"best-books\" from goodreads. Notice the use of a format string. This is an example of old-style python format strings"
   ]
  },
  {
   "cell_type": "code",
   "execution_count": null,
   "metadata": {},
   "outputs": [],
   "source": [
    "URLSTART=\"https://www.goodreads.com\"\n",
    "BESTBOOKS=\"/list/show/1.Best_Books_Ever?page=\"\n",
    "for i in range(1,3):\n",
    "    bookpage=str(i)\n",
    "    stuff=requests.get(URLSTART+BESTBOOKS+bookpage)\n",
    "    filetowrite=\"../data/page\"+ '%02d' % i + \".html\"\n",
    "    print(\"FTW\", filetowrite)\n",
    "    fd=open(filetowrite,\"w\")\n",
    "    fd.write(stuff.text)\n",
    "    fd.close()\n",
    "    time.sleep(2)"
   ]
  },
  {
   "cell_type": "markdown",
   "metadata": {},
   "source": [
    "## 2. Parse the page, extract book urls\n",
    "\n",
    "Notice how we do file input-output, and use beautiful soup in the code below. The `with` construct ensures that the file being read is closed, something we do explicitly for the file being written. We look for the elements with class `bookTitle`, extract the urls, and write them into a file"
   ]
  },
  {
   "cell_type": "code",
   "execution_count": null,
   "metadata": {},
   "outputs": [],
   "source": [
    "bookdict={}\n",
    "for i in range(1,3):\n",
    "    books=[]\n",
    "    stri = '%02d' % i\n",
    "    filetoread=\"../data/page\"+ stri + '.html'\n",
    "    print(\"FTW\", filetoread)\n",
    "    with open(filetoread) as fdr:\n",
    "        data = fdr.read()\n",
    "    soup = BeautifulSoup(data, 'html.parser')\n",
    "    for e in soup.select('.bookTitle'):\n",
    "        books.append(e['href'])\n",
    "    print(books[:10])\n",
    "    bookdict[stri]=books\n",
    "    fd=open(\"../data/list\"+stri+\".txt\",\"w\")\n",
    "    fd.write(\"\\n\".join(books))\n",
    "    fd.close()"
   ]
  },
  {
   "cell_type": "markdown",
   "metadata": {},
   "source": [
    "Here is one of everyone's favorite books from HS American Lit. class:"
   ]
  },
  {
   "cell_type": "code",
   "execution_count": null,
   "metadata": {},
   "outputs": [],
   "source": [
    "bookdict['02'][0]"
   ]
  },
  {
   "cell_type": "markdown",
   "metadata": {},
   "source": [
    " Lets go look at the first URLs on both pages"
   ]
  },
  {
   "cell_type": "markdown",
   "metadata": {},
   "source": [
    "![](images/goodreads2.png)"
   ]
  },
  {
   "cell_type": "markdown",
   "metadata": {},
   "source": [
    "## 3. Parse a book page, extract book properties\n",
    "\n",
    "Ok so now lets dive in and get one of these these files and parse them."
   ]
  },
  {
   "cell_type": "code",
   "execution_count": null,
   "metadata": {},
   "outputs": [],
   "source": [
    "furl=URLSTART+bookdict['02'][0]\n",
    "furl"
   ]
  },
  {
   "cell_type": "markdown",
   "metadata": {},
   "source": [
    "![](images/goodreads3.png)"
   ]
  },
  {
   "cell_type": "code",
   "execution_count": null,
   "metadata": {},
   "outputs": [],
   "source": [
    "fstuff=requests.get(furl)\n",
    "print(fstuff.status_code)"
   ]
  },
  {
   "cell_type": "code",
   "execution_count": null,
   "metadata": {},
   "outputs": [],
   "source": [
    "#d=BeautifulSoup(fstuff.text, 'html.parser')\n",
    "# try this to take care of arabic strings\n",
    "d = BeautifulSoup(fstuff.text, 'html.parser')"
   ]
  },
  {
   "cell_type": "code",
   "execution_count": null,
   "metadata": {},
   "outputs": [],
   "source": [
    "d.select(\"meta[property='og:title']\")[0]['content']"
   ]
  },
  {
   "cell_type": "markdown",
   "metadata": {},
   "source": [
    "Lets get everything we want..."
   ]
  },
  {
   "cell_type": "code",
   "execution_count": null,
   "metadata": {},
   "outputs": [],
   "source": [
    "#d=BeautifulSoup(fstuff.text, 'html.parser', from_encoding=\"utf-8\")\n",
    "print(\n",
    "\"title:\", d.select_one(\"meta[property='og:title']\")['content'],\"\\n\",\n",
    "\"isbn:\", d.select(\"meta[property='books:isbn']\")[0]['content'],\"\\n\",\n",
    "\"type:\", d.select(\"meta[property='og:type']\")[0]['content'],\"\\n\",\n",
    "\"author:\", d.select(\"meta[property='books:author']\")[0]['content'],\"\\n\",\n",
    "#\"average rating\", d.select_one(\"span.average\").text,\"\\n\",\n",
    "\"ratingCount:\", d.select(\"meta[itemprop='ratingCount']\")[0][\"content\"],\"\\n\"\n",
    "#\"reviewCount\", d.select_one(\"span.count\")[\"title\"]\n",
    ")"
   ]
  },
  {
   "cell_type": "markdown",
   "metadata": {},
   "source": [
    "Ok, now that we know what to do, lets wrap our fetching into a proper script. So that we dont overwhelm their servers, we will only fetch 5 from each page, but you get the idea...\n",
    "\n",
    "We'll segue of a bit to explore new style format strings. See https://pyformat.info for more info."
   ]
  },
  {
   "cell_type": "code",
   "execution_count": null,
   "metadata": {},
   "outputs": [],
   "source": [
    "\"list{:0>2}.txt\".format(3)"
   ]
  },
  {
   "cell_type": "code",
   "execution_count": null,
   "metadata": {},
   "outputs": [],
   "source": [
    "a = \"4\"\n",
    "b = 4\n",
    "class Four:\n",
    "    def __str__(self):\n",
    "        return \"Fourteen\"\n",
    "c=Four()"
   ]
  },
  {
   "cell_type": "code",
   "execution_count": null,
   "metadata": {},
   "outputs": [],
   "source": [
    "\"The hazy cat jumped over the {} and {} and {}\".format(a, b, c)"
   ]
  },
  {
   "cell_type": "markdown",
   "metadata": {},
   "source": [
    "## 4. Set up a pipeline for fetching and parsing\n",
    "\n",
    "Ok lets get back to the fetching..."
   ]
  },
  {
   "cell_type": "code",
   "execution_count": null,
   "metadata": {},
   "outputs": [],
   "source": [
    "fetched=[]\n",
    "for i in range(1,3):\n",
    "    with open(\"../data/list{:0>2}.txt\".format(i)) as fd:\n",
    "        counter=0\n",
    "        for bookurl_line in fd:\n",
    "            if counter > 4:\n",
    "                break\n",
    "            bookurl=bookurl_line.strip()\n",
    "            stuff=requests.get(URLSTART+bookurl)\n",
    "            filetowrite=bookurl.split('/')[-1]\n",
    "            filetowrite=\"../data/\"+str(i)+\"_\"+filetowrite+\".html\"\n",
    "            print(\"FTW\", filetowrite)\n",
    "            fd=open(filetowrite,\"w\")\n",
    "            fd.write(stuff.text)\n",
    "            fd.close()\n",
    "            fetched.append(filetowrite)\n",
    "            time.sleep(2)\n",
    "            counter=counter+1\n",
    "            \n",
    "print(fetched)"
   ]
  },
  {
   "cell_type": "markdown",
   "metadata": {},
   "source": [
    "Ok we are off to parse each one of the html pages we fetched. We have provided the skeleton of the code and the code to parse the year, since it is a bit more complex...see the difference in the screenshots above. "
   ]
  },
  {
   "cell_type": "code",
   "execution_count": null,
   "metadata": {},
   "outputs": [],
   "source": [
    "import re\n",
    "yearre = r'\\d{4}'\n",
    "def get_year(d):\n",
    "    if d.select_one(\"nobr.greyText\"):\n",
    "        return d.select_one(\"nobr.greyText\").text.strip().split()[-1][:-1]\n",
    "    else:\n",
    "        thetext=d.select(\"div#details div.row\")[1].text.strip()\n",
    "        rowmatch=re.findall(yearre, thetext)\n",
    "        if len(rowmatch) > 0:\n",
    "            rowtext=rowmatch[0].strip()\n",
    "        else:\n",
    "            rowtext=\"NA\"\n",
    "        return rowtext"
   ]
  },
  {
   "cell_type": "markdown",
   "metadata": {},
   "source": [
    "<div class=\"exercise\"><b>Q4.1</b></div>\n",
    "\n",
    "Your job is to fill in the code to get the genres."
   ]
  },
  {
   "cell_type": "code",
   "execution_count": null,
   "metadata": {},
   "outputs": [],
   "source": [
    "def get_genres(d):\n",
    "    ######\n",
    "    # your code here\n",
    "    ######\n",
    "    genres=d.select(\"div.elementList div.left a\")\n",
    "    glist=[]\n",
    "    for g in genres:\n",
    "        glist.append(g['href'])\n",
    "    return glist"
   ]
  },
  {
   "cell_type": "code",
   "execution_count": null,
   "metadata": {},
   "outputs": [],
   "source": [
    "\n",
    "listofdicts=[]\n",
    "for filetoread in fetched:\n",
    "    print(filetoread)\n",
    "    td={}\n",
    "    with open(filetoread) as fd:\n",
    "        datext = fd.read()\n",
    "    d=BeautifulSoup(datext, 'html.parser')\n",
    "    td['title']=d.select_one(\"meta[property='og:title']\")['content']\n",
    "    td['isbn']=d.select_one(\"meta[property='books:isbn']\")['content']\n",
    "    td['booktype']=d.select_one(\"meta[property='og:type']\")['content']\n",
    "    td['author']=d.select_one(\"meta[property='books:author']\")['content']\n",
    "    #td['rating']=d.select_one(\"span.average\").text\n",
    "    td['year'] = get_year(d)\n",
    "    td['file']=filetoread\n",
    "    glist = get_genres(d)\n",
    "    td['genres']=\"|\".join(glist)\n",
    "    listofdicts.append(td)"
   ]
  },
  {
   "cell_type": "code",
   "execution_count": null,
   "metadata": {},
   "outputs": [],
   "source": [
    "listofdicts[0]"
   ]
  },
  {
   "cell_type": "markdown",
   "metadata": {},
   "source": [
    "Finally lets write all this stuff into a csv file which we will use to do analysis."
   ]
  },
  {
   "cell_type": "code",
   "execution_count": null,
   "metadata": {},
   "outputs": [],
   "source": [
    "df2 = pd.DataFrame.from_records(listofdicts)\n",
    "df2"
   ]
  },
  {
   "cell_type": "code",
   "execution_count": null,
   "metadata": {},
   "outputs": [],
   "source": [
    "df2.to_csv(\"../data/meta_utf8_EK.csv\", index=False, header=True)"
   ]
  }
 ],
 "metadata": {
  "anaconda-cloud": {},
  "kernelspec": {
   "display_name": "Python 3",
   "language": "python",
   "name": "python3"
  },
  "language_info": {
   "codemirror_mode": {
    "name": "ipython",
    "version": 3
   },
   "file_extension": ".py",
   "mimetype": "text/x-python",
   "name": "python",
   "nbconvert_exporter": "python",
   "pygments_lexer": "ipython3",
   "version": "3.7.6"
  }
 },
 "nbformat": 4,
 "nbformat_minor": 1
}
