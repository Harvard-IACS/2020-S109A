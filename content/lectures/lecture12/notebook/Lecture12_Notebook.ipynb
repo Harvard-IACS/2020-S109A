{
 "cells": [
  {
   "cell_type": "markdown",
   "metadata": {},
   "source": [
    "# <img style=\"float: left; padding-right: 10px; width: 45px\" src=\"https://github.com/Harvard-IACS/2018-CS109A/blob/master/content/styles/iacs.png?raw=true\"> CS-S109A Introduction to Data Science \n",
    "\n",
    "## Lecture 12: A Case Study: COVID-19\n",
    "\n",
    "**Harvard University**<br>\n",
    "**Summer 2020**<br>\n",
    "**Instructors:** Kevin Rader<br>\n",
    "**Authors:** Rahul Dave, David Sondak, Pavlos Protopapas, Chris Tanner, Eleni Kaxiras, Kevin Rader\n",
    "\n",
    "---"
   ]
  },
  {
   "cell_type": "code",
   "execution_count": null,
   "metadata": {},
   "outputs": [],
   "source": [
    "## RUN THIS CELL TO GET THE RIGHT FORMATTING \n",
    "import requests\n",
    "from IPython.core.display import HTML\n",
    "styles = requests.get(\"https://raw.githubusercontent.com/Harvard-IACS/2018-CS109A/master/content/styles/cs109.css\").text\n",
    "HTML(styles)"
   ]
  },
  {
   "cell_type": "markdown",
   "metadata": {},
   "source": [
    "# Table of Contents \n",
    "<ol start=\"0\">\n",
    "<li> Learning Goals </li> \n",
    "<li> COVID-19 Data </li>\n",
    "<li> Prediction Modeling </li>\n",
    "<li> Interpretive Modeling </li>\n",
    "  "
   ]
  },
  {
   "cell_type": "code",
   "execution_count": null,
   "metadata": {},
   "outputs": [],
   "source": [
    "import pandas as pd\n",
    "import sys\n",
    "import numpy as np\n",
    "import scipy as sp\n",
    "import sklearn as sk\n",
    "import matplotlib.pyplot as plt\n",
    "import tensorflow as tf\n",
    "\n"
   ]
  },
  {
   "cell_type": "markdown",
   "metadata": {},
   "source": [
    "## Learning Goals\n",
    "\n",
    "This Jupyter notebook accompanies Lecture 12. By the end of this lecture, you should be more comfortable with:\n",
    "\n",
    "- wrangling, processing, merging, and exploring data\n",
    "- following the data science process\n",
    "- issues with prediction modeling\n",
    "- COVID-19 Data"
   ]
  },
  {
   "cell_type": "markdown",
   "metadata": {},
   "source": [
    "## Part 0: Data \n",
    "\n",
    "For this notebook we will be using 3 sources of data:\n",
    "\n",
    "1. `covid_cases_by_county.csv`: confirmed COVID-19 case counts across US counties measured daily.  [Source]()\n",
    "2. `state_policy_data.csv`: current COVID-related policy data across US states: [Source](https://www.kff.org/coronavirus-covid-19/issue-brief/state-data-and-policy-actions-to-address-coronavirus/#socialdistancing)\n",
    "3. `election2016_by_county.csv`: we've used these data before (pre-split into train and test in earlier uses).\n",
    "\n",
    "Let's take a peak at all 3 of these datasets:"
   ]
  },
  {
   "cell_type": "code",
   "execution_count": null,
   "metadata": {},
   "outputs": [],
   "source": [
    "covid = pd.read_csv('../data/covid_cases_by_county.csv')\n",
    "print(covid.shape)\n",
    "covid.head()"
   ]
  },
  {
   "cell_type": "code",
   "execution_count": null,
   "metadata": {},
   "outputs": [],
   "source": [
    "elect = pd.read_csv('../data/election2016_by_county.csv')\n",
    "print(elect.shape)\n",
    "elect.head()"
   ]
  },
  {
   "cell_type": "code",
   "execution_count": null,
   "metadata": {},
   "outputs": [],
   "source": [
    "policy = pd.read_csv('../data/state_policy_data.csv')\n",
    "print(policy.shape)\n",
    "policy.head()"
   ]
  },
  {
   "cell_type": "markdown",
   "metadata": {},
   "source": [
    "**Q0.1** What is being measured in the 2 new datasets (`covid` and `policy`)?  What interesting questions can be answered with these 3 datasets?  What data pitfalls could we possibly get tripped up on?  What other issues may arise?"
   ]
  },
  {
   "cell_type": "markdown",
   "metadata": {},
   "source": [
    "*your answer here*"
   ]
  },
  {
   "cell_type": "markdown",
   "metadata": {},
   "source": [
    "### Merging Data and Train-Test Split\n",
    "\n",
    "Let's first perform some merging of the data so we don't have to deal with 3 different data sources.  The code below gives you the steps, and the splits into `train` and `test` dataframes:"
   ]
  },
  {
   "cell_type": "code",
   "execution_count": null,
   "metadata": {},
   "outputs": [],
   "source": [
    "\n",
    "covid['fipscode'] = covid['FIPS']\n",
    "\n",
    "merged = covid.merge(elect,on=\"fipscode\")\n",
    "merged2 = merged.merge(policy,on=\"state\",how=\"left\")\n",
    "\n",
    "print(merged2.shape)\n",
    "\n",
    "merged2.head()"
   ]
  },
  {
   "cell_type": "code",
   "execution_count": null,
   "metadata": {},
   "outputs": [],
   "source": [
    "# split into train and test\n",
    "\n",
    "from sklearn.model_selection import train_test_split\n",
    "itrain, itest = train_test_split(range(merged2.shape[0]), train_size=0.80)\n",
    "\n",
    "train = merged.iloc[itrain, :]\n",
    "test = merged.iloc[itest, :]\n"
   ]
  },
  {
   "cell_type": "markdown",
   "metadata": {},
   "source": [
    "## Part 1: Data Exploration\n",
    "\n",
    "There are [at least] 2 perspective we can take on using this data set:\n",
    "1. Build a prediction model to predict how many cases there will be tomorrow within each county\n",
    "2. Look at what factors are influencing the number of cases\n",
    "\n",
    "No matter the perspective, let's look at the cases for the most recent date:\n",
    "\n",
    "*Note: always use train ONLY when doing any analysis, including explorations:"
   ]
  },
  {
   "cell_type": "code",
   "execution_count": null,
   "metadata": {},
   "outputs": [],
   "source": [
    "y_train = train['7/28/20']\n",
    "y_test = test['7/28/20']\n",
    "\n",
    "plt.hist(y_train);"
   ]
  },
  {
   "cell_type": "markdown",
   "metadata": {},
   "source": [
    "**Q1.1** Describe this distribution.  What issues may occur if using this version of the variable in modeling?  How can this be corrected (there are many possibilities)?"
   ]
  },
  {
   "cell_type": "markdown",
   "metadata": {},
   "source": [
    "*your answer here*"
   ]
  },
  {
   "cell_type": "code",
   "execution_count": null,
   "metadata": {},
   "outputs": [],
   "source": [
    "######\n",
    "# your code here\n",
    "######\n",
    "\n"
   ]
  },
  {
   "cell_type": "markdown",
   "metadata": {},
   "source": [
    "## Part 2: Prediction modeling\n"
   ]
  },
  {
   "cell_type": "markdown",
   "metadata": {},
   "source": [
    "**Q2.1** If we were to build a model to predict the number of new cases on 7/28/20 (to be used as a prediction model to predict going forward), what factors should we include?  What would be the most obvious predictor(s)?  "
   ]
  },
  {
   "cell_type": "markdown",
   "metadata": {},
   "source": [
    "*your answer here*\n"
   ]
  },
  {
   "cell_type": "markdown",
   "metadata": {},
   "source": [
    "**Q2.2** Build a model to predict the **new cases** on 7/28/20 based on the number of **new cases** on 7/27/20.  Evaluate the model's accuracy on the test set, provide a visual to help interpret the model, and interpret what the model says about the relationship.  Which counties are the outliers?"
   ]
  },
  {
   "cell_type": "code",
   "execution_count": null,
   "metadata": {},
   "outputs": [],
   "source": [
    "######\n",
    "# your code here\n",
    "######"
   ]
  },
  {
   "cell_type": "markdown",
   "metadata": {},
   "source": [
    "*your answer here*"
   ]
  },
  {
   "cell_type": "markdown",
   "metadata": {},
   "source": [
    "**Q2.3** Build a model to predict the **new cases** on 7/28/20 based on any variables available that day (be selective of what variables you would like to include as predictors)."
   ]
  },
  {
   "cell_type": "code",
   "execution_count": null,
   "metadata": {},
   "outputs": [],
   "source": [
    "######\n",
    "# your code here\n",
    "######"
   ]
  },
  {
   "cell_type": "markdown",
   "metadata": {},
   "source": [
    "*your answer here*"
   ]
  },
  {
   "cell_type": "markdown",
   "metadata": {},
   "source": [
    "## Part 3: Interpretation modeling"
   ]
  },
  {
   "cell_type": "markdown",
   "metadata": {},
   "source": [
    "**Q3.1** What form(s) of the response variable should we use to answer the broad questions: \n",
    "- What factors are related to the rate of spread of the disease across counties?\n",
    "- What policies have affected the rate of spread of the disease across counties?\n",
    "- Is mask-wearing effective?\n",
    "\n",
    "Should new cases the previous day be used as a predictor in anby models to answer this question?  How would this affect the interpretation?"
   ]
  },
  {
   "cell_type": "markdown",
   "metadata": {},
   "source": [
    "*your answer here*\n"
   ]
  },
  {
   "cell_type": "markdown",
   "metadata": {},
   "source": [
    "**Q3.2** Build a model (or multiple models) and use it to answer the question \"What demographic factors are associated with differences in the rate of spread of the disease? across counties\""
   ]
  },
  {
   "cell_type": "code",
   "execution_count": null,
   "metadata": {},
   "outputs": [],
   "source": [
    "######\n",
    "# your code here\n",
    "######"
   ]
  },
  {
   "cell_type": "markdown",
   "metadata": {},
   "source": [
    "*your answer here*"
   ]
  },
  {
   "cell_type": "markdown",
   "metadata": {},
   "source": [
    "**Q3.3** Build a model (or multiple models) and use it to answer the question \"How have state re-openings affected the rate of spread of the disease across counties?\"."
   ]
  },
  {
   "cell_type": "code",
   "execution_count": null,
   "metadata": {},
   "outputs": [],
   "source": [
    "######\n",
    "# your code here\n",
    "######"
   ]
  },
  {
   "cell_type": "markdown",
   "metadata": {},
   "source": [
    "*your answer here*"
   ]
  },
  {
   "cell_type": "markdown",
   "metadata": {},
   "source": [
    "**Q3.4** Ask your own interesting applied question and use a model(s) to address it."
   ]
  },
  {
   "cell_type": "code",
   "execution_count": null,
   "metadata": {},
   "outputs": [],
   "source": [
    "######\n",
    "# your code here\n",
    "######\n"
   ]
  },
  {
   "cell_type": "markdown",
   "metadata": {},
   "source": [
    "*your answer here*"
   ]
  },
  {
   "cell_type": "code",
   "execution_count": null,
   "metadata": {},
   "outputs": [],
   "source": []
  }
 ],
 "metadata": {
  "anaconda-cloud": {},
  "kernelspec": {
   "display_name": "Python 3",
   "language": "python",
   "name": "python3"
  },
  "language_info": {
   "codemirror_mode": {
    "name": "ipython",
    "version": 3
   },
   "file_extension": ".py",
   "mimetype": "text/x-python",
   "name": "python",
   "nbconvert_exporter": "python",
   "pygments_lexer": "ipython3",
   "version": "3.7.6"
  }
 },
 "nbformat": 4,
 "nbformat_minor": 1
}
