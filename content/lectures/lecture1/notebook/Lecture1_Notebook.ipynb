{
 "cells": [
  {
   "cell_type": "markdown",
   "metadata": {
    "slideshow": {
     "slide_type": "slide"
    }
   },
   "source": [
    "# <img style=\"float: left; padding-right: 10px; width: 45px\" src=\"https://raw.githubusercontent.com/Harvard-IACS/2018-CS109A/master/content/styles/iacs.png\"> CS-S109A Introduction to Data Science \n",
    "\n",
    "## Lecture 1: Hubway Example\n",
    "\n",
    "\n",
    "**Harvard University**<br/>\n",
    "**Summer 2020**<br/>\n",
    "**Instructors**: Kevin Rader\n",
    "\n",
    "---"
   ]
  },
  {
   "cell_type": "markdown",
   "metadata": {},
   "source": [
    "## If you have not installed Conda and have Jupyter Notebooks running properly on your computer, please see *Lab 0* on the course Canvas website (or on git)."
   ]
  },
  {
   "cell_type": "code",
   "execution_count": null,
   "metadata": {
    "slideshow": {
     "slide_type": "skip"
    }
   },
   "outputs": [],
   "source": [
    "## RUN THIS CELL TO GET THE RIGHT FORMATTING \n",
    "import requests\n",
    "from IPython.core.display import HTML\n",
    "styles = requests.get(\"https://raw.githubusercontent.com/Harvard-IACS/2018-CS109A/master/content/styles/cs109.css\").text\n",
    "HTML(styles)"
   ]
  },
  {
   "cell_type": "code",
   "execution_count": null,
   "metadata": {
    "slideshow": {
     "slide_type": "-"
    }
   },
   "outputs": [],
   "source": [
    "import pandas as pd\n",
    "import sys\n",
    "import numpy as np\n",
    "import scipy as sp\n",
    "import matplotlib.pyplot as plt\n",
    "from math import radians, cos, sin, asin, sqrt\n",
    "import datetime\n",
    "%matplotlib inline\n"
   ]
  },
  {
   "cell_type": "markdown",
   "metadata": {
    "slideshow": {
     "slide_type": "slide"
    }
   },
   "source": [
    "Download the data from (29MB):\n",
    "\n",
    "https://drive.google.com/open?id=0B28c493CP9GtMzN1emFoMkJNNlU\n"
   ]
  },
  {
   "cell_type": "markdown",
   "metadata": {
    "slideshow": {
     "slide_type": "slide"
    }
   },
   "source": [
    "## 1. Data Manipulation & Wrangling\n",
    "\n",
    "Manipulation, not Modificaition (important distinction).  Fill-in the 3 different 'Your code here' sections below to perform the tasks given."
   ]
  },
  {
   "cell_type": "code",
   "execution_count": null,
   "metadata": {
    "slideshow": {
     "slide_type": "subslide"
    }
   },
   "outputs": [],
   "source": [
    "# you may need to change the path here:\n",
    "hubway_data_file = '~/Downloads/hubway_data/hubway_trips.csv'\n",
    "\n",
    "# read in the data using pandas 'read_csv' funciton\n",
    "hubway_data = pd.read_csv(hubway_data_file, low_memory=False)\n"
   ]
  },
  {
   "cell_type": "code",
   "execution_count": null,
   "metadata": {},
   "outputs": [],
   "source": [
    "# use the pd.head command to view the first 5 rows of the data set and pd.tail to print out the last 10 rows\n",
    "# https://pandas.pydata.org/pandas-docs/stable/reference/api/pandas.DataFrame.head.html\n",
    "\n",
    "\n",
    "################\n",
    "# Your code here\n",
    "################\n",
    "\n"
   ]
  },
  {
   "cell_type": "code",
   "execution_count": null,
   "metadata": {},
   "outputs": [],
   "source": [
    "# determine the size and dimensions of the data frame using df.size and df.shape \n",
    "# https://pandas.pydata.org/pandas-docs/stable/reference/api/pandas.DataFrame.shape.html\n",
    "# pull off the column and row names using df.columns and df.index.values\n",
    "\n",
    "################\n",
    "# Your code here\n",
    "################\n",
    "\n",
    "\n"
   ]
  },
  {
   "cell_type": "code",
   "execution_count": null,
   "metadata": {},
   "outputs": [],
   "source": [
    "# pull off the first 2 entries of the gender variable:\n",
    "\n",
    "print(hubway_data['gender'][0:2])\n",
    "\n",
    "# the ever important 'values' command\n",
    "\n",
    "print(hubway_data['gender'][0:2].values)\n"
   ]
  },
  {
   "cell_type": "code",
   "execution_count": null,
   "metadata": {},
   "outputs": [],
   "source": [
    "# processing the checkout dates a little \n",
    "\n",
    "print(hubway_data['start_date'][0])\n",
    "\n",
    "# pull off the hour into 'checkout_hour'\n",
    "checkout_hour = hubway_data['start_date'].apply(lambda s: int(s[-8:-6]))\n",
    "print(checkout_hour[0:3])\n",
    "\n",
    "# create 'checkout_year' to pull of the year of the checkout start time.\n",
    "\n",
    "################\n",
    "# Your code here\n",
    "################\n",
    "\n"
   ]
  },
  {
   "cell_type": "markdown",
   "metadata": {
    "slideshow": {
     "slide_type": "skip"
    }
   },
   "source": [
    "---"
   ]
  },
  {
   "cell_type": "markdown",
   "metadata": {
    "slideshow": {
     "slide_type": "slide"
    }
   },
   "source": [
    "## 2. Data Exploration\n",
    "### Who?\n",
    "\n",
    "Use the data frame to explore the distributions of user type, gender, and age (4 'Your code here' fill-ins)."
   ]
  },
  {
   "cell_type": "code",
   "execution_count": null,
   "metadata": {},
   "outputs": [],
   "source": [
    "# create a table, a barplot, and pie chart of subscriber type: 'subsc_type'\n",
    "\n",
    "# 2 ways to do the same thing:\n",
    "subsc_counts = np.unique(hubway_data['subsc_type'], return_counts=True)\n",
    "print(subsc_counts)\n",
    "\n",
    "print(np.unique(hubway_data.subsc_type,return_counts=True))\n",
    "\n",
    "# now for the barplot\n",
    "plt.bar(subsc_counts[0],subsc_counts[1])\n",
    "plt.show()"
   ]
  },
  {
   "cell_type": "code",
   "execution_count": null,
   "metadata": {},
   "outputs": [],
   "source": [
    "# Create a table of counts for each gender in the checkout data set \n",
    "# Use this table to create a bar plot of gender \n",
    "# Hint: use .dropna() on the relevant variable\n",
    "\n",
    "\n",
    "################\n",
    "# Your code here\n",
    "################\n",
    "\n"
   ]
  },
  {
   "cell_type": "code",
   "execution_count": null,
   "metadata": {
    "slideshow": {
     "slide_type": "subslide"
    }
   },
   "outputs": [],
   "source": [
    "\n",
    "# create a variable 'age' outside the data frame for the ages of users (use 'checkout_year').  \n",
    "# Then add the variable into the data frame  \n",
    "\n",
    "################\n",
    "# Your code here\n",
    "################\n",
    "\n",
    "\n",
    "\n",
    "\n",
    "# calculate mean, median, sd, min, and max of the ages of hubway users\n",
    "# be careful handling nan's in np.median (.dropna() may be helpful)\n",
    "\n",
    "################\n",
    "# Your code here\n",
    "################\n",
    "\n",
    "\n",
    "\n",
    "# Create the default histogram of age using plt.hist.  \n",
    "# Then improve the histogram with bins of 15-19, 20-24, etc. and improved labels\n",
    "# plt.xlabel, plt.ylabel, and plt.title will be useful\n",
    "\n",
    "################\n",
    "# Your code here\n",
    "################\n",
    "\n",
    "\n",
    "\n",
    "\n"
   ]
  },
  {
   "cell_type": "markdown",
   "metadata": {},
   "source": [
    "## 3. Interpretation Questions: \n",
    "\n",
    "1. Use summary statistics and the histogram above to describe the distribution of user ages in the data set.\n",
    "\n",
    "2. What is wrong with the statement \"The average age of Hubway bike share users is roughly 35.5 years old\"?.\n",
    "\n",
    "3. What would be a better interpretation of the mean age of the users calcualted here?"
   ]
  },
  {
   "cell_type": "markdown",
   "metadata": {},
   "source": [
    "*Your answer here*\n"
   ]
  },
  {
   "cell_type": "markdown",
   "metadata": {},
   "source": [
    "## 4. More Visualizations\n",
    "\n",
    "Look at creating subfigures and exploring the usage across location (distance from Boston 'center city').\n"
   ]
  },
  {
   "cell_type": "code",
   "execution_count": null,
   "metadata": {
    "slideshow": {
     "slide_type": "subslide"
    }
   },
   "outputs": [],
   "source": [
    "\n",
    "# subplots: put both the barplot of gender and histogram of time into the same figure\n",
    "\n",
    "fig, ax = plt.subplots(1, 2, figsize=(15, 6))\n",
    "\n",
    "\n",
    "# use ax[0].bar to put the barplot in the first subplot \n",
    "\n",
    "\n",
    "################\n",
    "# Your code here\n",
    "################\n",
    "\n",
    "\n",
    "################\n",
    "# Your code here\n",
    "################\n",
    "\n",
    "\n",
    "\n",
    "\n",
    "#plt.tight_layout()\n"
   ]
  },
  {
   "cell_type": "markdown",
   "metadata": {
    "slideshow": {
     "slide_type": "slide"
    }
   },
   "source": [
    "### Where"
   ]
  },
  {
   "cell_type": "code",
   "execution_count": null,
   "metadata": {
    "slideshow": {
     "slide_type": "subslide"
    }
   },
   "outputs": [],
   "source": [
    "# read in the separate station data\n",
    "\n",
    "station_data = pd.read_csv('hubway_stations.csv', low_memory=False)[['station','id', 'lat', 'lng']]\n",
    "station_data.head()"
   ]
  },
  {
   "cell_type": "code",
   "execution_count": null,
   "metadata": {
    "slideshow": {
     "slide_type": "subslide"
    }
   },
   "outputs": [],
   "source": [
    "# join the two together data\n",
    "\n",
    "hubway_data_with_gps = hubway_data.join(station_data.set_index('id'), on='strt_statn')\n",
    "hubway_data_with_gps.head()"
   ]
  },
  {
   "cell_type": "code",
   "execution_count": null,
   "metadata": {},
   "outputs": [],
   "source": [
    "\n",
    "# determine the number of checkouts at each station, and add 'checkouts' to the 'station_data' data frame\n",
    "# Hint: use .dropna() on the relevant variable\n",
    "\n",
    "################\n",
    "# Your code here\n",
    "################\n",
    "\n"
   ]
  },
  {
   "cell_type": "markdown",
   "metadata": {
    "slideshow": {
     "slide_type": "subslide"
    }
   },
   "source": [
    "![Alt](../fig/Lecture1a_g2.png)"
   ]
  },
  {
   "cell_type": "code",
   "execution_count": null,
   "metadata": {},
   "outputs": [],
   "source": [
    "# a user-defined function to calculate distances 'as the crow flies'\n",
    "\n",
    "def haversine(pt, lat2=42.3604, lon2=-71.05868):\n",
    "    \"\"\"\n",
    "    Calculate the great circle distance between two points \n",
    "    on the earth (specified in decimal degrees)\n",
    "    Center City (of Boston) is the default comparison point\n",
    "    \"\"\"\n",
    "    lon1 = pt[0]\n",
    "    lat1 = pt[1]\n",
    "    \n",
    "    # convert decimal degrees to radians \n",
    "    lon1, lat1, lon2, lat2 = map(radians, [lon1, lat1, lon2, lat2])\n",
    "\n",
    "    # haversine formula \n",
    "    dlon = lon2 - lon1 \n",
    "    dlat = lat2 - lat1 \n",
    "    a = sin(dlat/2)**2 + cos(lat1) * cos(lat2) * sin(dlon/2)**2\n",
    "    c = 2 * asin(sqrt(a)) \n",
    "    r = 3958.8 # Radius of earth in miles\n",
    "    return c * r"
   ]
  },
  {
   "cell_type": "code",
   "execution_count": null,
   "metadata": {},
   "outputs": [],
   "source": [
    "# using the hersine function to create 'dist_to_center' variable \n",
    "dist_to_center = list(map(haversine, station_data[['lng', 'lat']].values))\n",
    "\n",
    "# add 'dist_to_center' to the 'station_data' data frame\n",
    "\n",
    "################\n",
    "# Your code here \n",
    "################\n",
    "\n",
    "\n"
   ]
  },
  {
   "cell_type": "code",
   "execution_count": null,
   "metadata": {},
   "outputs": [],
   "source": [
    "fig, ax = plt.subplots(1, 1, figsize=(10, 5))\n",
    "\n",
    "# use ax.scatter to create a scatter plot of x = 'dist_to_center' and y = 'checkouts'\n",
    "\n",
    "################\n",
    "# Your code here\n",
    "################\n",
    "\n",
    "# plt.show"
   ]
  },
  {
   "cell_type": "markdown",
   "metadata": {
    "slideshow": {
     "slide_type": "slide"
    }
   },
   "source": [
    "### When...this is done for you"
   ]
  },
  {
   "cell_type": "code",
   "execution_count": null,
   "metadata": {
    "slideshow": {
     "slide_type": "subslide"
    }
   },
   "outputs": [],
   "source": [
    "fig, ax = plt.subplots(1, 1, figsize=(10, 5))\n",
    "\n",
    "# tabulating the hour of the day that users checkout the bikes\n",
    "\n",
    "checkout_counts = np.unique(checkout_hour, return_counts=True)\n",
    "plt.bar(checkout_counts[0], checkout_counts[1], align='center', width=0.8, alpha=0.6)\n",
    "ax.set_xlim([-1, 24])\n",
    "ax.set_xticks(range(24))\n",
    "ax.set_xlabel('Hour of Day')\n",
    "ax.set_ylabel('Number of Checkouts')\n",
    "ax.set_title('Time of Day vs Checkouts')\n",
    "\n",
    "plt.show()"
   ]
  },
  {
   "cell_type": "markdown",
   "metadata": {},
   "source": [
    "## 5. More Interpretations\n",
    "\n",
    "1. What do you notice in the scatterplot of checkouts vs. distance above?  What does this say about useage of the system, in general?\n",
    "\n",
    "2. What type of figre is the above plot titled 'Time of Day vs Checkouts'?  Describe what you notice in it.  Why does this make sense?\n",
    "\n",
    "3. How can Hubway use this information to improve their systems?\n",
    "\n",
    "*your answer here*\n",
    "\n"
   ]
  },
  {
   "cell_type": "markdown",
   "metadata": {
    "slideshow": {
     "slide_type": "subslide"
    }
   },
   "source": [
    "## 6. Further Investigations:\n",
    "\n",
    "Explore the data to investigate three questions:\n",
    "    \n",
    "1. Which station is most popular (for check-outs)?\n",
    "\n",
    "2. How long does it take to bike from 'Harvard Square at Mass Ave/ Dunster' (closest stop to Harvard Square center) to 'South Station - 700 Atlantic Ave.' (to catch a train)?\n",
    "\n",
    "3. What are noticeable differences between Registered and Casual users?  Consider variables we've already looked at or created.\n"
   ]
  },
  {
   "cell_type": "code",
   "execution_count": null,
   "metadata": {},
   "outputs": [],
   "source": [
    "# answering #1: Which station is most popular (for check-outs)?\n",
    "\n",
    "################\n",
    "# Your code here\n",
    "################\n",
    "\n"
   ]
  },
  {
   "cell_type": "code",
   "execution_count": null,
   "metadata": {},
   "outputs": [],
   "source": [
    "# answering #2 :  How long does it take to bike from 'Harvard Square at Mass Ave/ Dunster' \n",
    "# (closest stop to Harvard Square center) to 'South Station - 700 Atlantic Ave.' (to catch a train)?\n",
    "\n",
    "harvard_id = station_data['id'][station_data['station']=='Harvard Square at Mass Ave/ Dunster']\n",
    "\n",
    "################\n",
    "# Your code here\n",
    "################\n"
   ]
  },
  {
   "cell_type": "code",
   "execution_count": null,
   "metadata": {},
   "outputs": [],
   "source": [
    "# answering #3 What are noticeable differences between Registered and Casual users?  \n",
    "# Consider variables we've already looked at or created.\n",
    "\n",
    "################\n",
    "# Your code here\n",
    "################\n",
    "\n"
   ]
  },
  {
   "cell_type": "markdown",
   "metadata": {},
   "source": [
    "*your answer here*\n",
    "\n"
   ]
  },
  {
   "cell_type": "code",
   "execution_count": null,
   "metadata": {},
   "outputs": [],
   "source": []
  }
 ],
 "metadata": {
  "anaconda-cloud": {},
  "kernelspec": {
   "display_name": "Python 3",
   "language": "python",
   "name": "python3"
  },
  "language_info": {
   "codemirror_mode": {
    "name": "ipython",
    "version": 3
   },
   "file_extension": ".py",
   "mimetype": "text/x-python",
   "name": "python",
   "nbconvert_exporter": "python",
   "pygments_lexer": "ipython3",
   "version": "3.7.6"
  },
  "rise": {
   "scroll": true
  }
 },
 "nbformat": 4,
 "nbformat_minor": 1
}
