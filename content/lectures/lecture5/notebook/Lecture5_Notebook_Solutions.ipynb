{
 "cells": [
  {
   "cell_type": "markdown",
   "metadata": {},
   "source": [
    "# <img style=\"float: left; padding-right: 10px; width: 45px\" src=\"https://github.com/Harvard-IACS/2018-CS109A/blob/master/content/styles/iacs.png?raw=true\"> CS-S109A Introduction to Data Science \n",
    "\n",
    "## Lecture 5: Cross-Validation and Regularization\n",
    "\n",
    "**Harvard University**<br>\n",
    "**Summer 2020**<br>\n",
    "**Instructors:** Kevin Rader<br>\n",
    "**Authors:** Rahul Dave, David Sondak, Will Claybaugh, Pavlos Protopapas, Chris Tanner, Kevin Rader\n",
    "\n",
    "---"
   ]
  },
  {
   "cell_type": "code",
   "execution_count": 1,
   "metadata": {},
   "outputs": [
    {
     "data": {
      "text/html": [
       "<style>\n",
       "blockquote { background: #AEDE94; }\n",
       "h1 { \n",
       "    padding-top: 25px;\n",
       "    padding-bottom: 25px;\n",
       "    text-align: left; \n",
       "    padding-left: 10px;\n",
       "    background-color: #DDDDDD; \n",
       "    color: black;\n",
       "}\n",
       "h2 { \n",
       "    padding-top: 10px;\n",
       "    padding-bottom: 10px;\n",
       "    text-align: left; \n",
       "    padding-left: 5px;\n",
       "    background-color: #EEEEEE; \n",
       "    color: black;\n",
       "}\n",
       "\n",
       "div.exercise {\n",
       "\tbackground-color: #ffcccc;\n",
       "\tborder-color: #E9967A; \t\n",
       "\tborder-left: 5px solid #800080; \n",
       "\tpadding: 0.5em;\n",
       "}\n",
       "\n",
       "span.sub-q {\n",
       "\tfont-weight: bold;\n",
       "}\n",
       "div.theme {\n",
       "\tbackground-color: #DDDDDD;\n",
       "\tborder-color: #E9967A; \t\n",
       "\tborder-left: 5px solid #800080; \n",
       "\tpadding: 0.5em;\n",
       "\tfont-size: 18pt;\n",
       "}\n",
       "div.gc { \n",
       "\tbackground-color: #AEDE94;\n",
       "\tborder-color: #E9967A; \t \n",
       "\tborder-left: 5px solid #800080; \n",
       "\tpadding: 0.5em;\n",
       "\tfont-size: 12pt;\n",
       "}\n",
       "p.q1 { \n",
       "    padding-top: 5px;\n",
       "    padding-bottom: 5px;\n",
       "    text-align: left; \n",
       "    padding-left: 5px;\n",
       "    background-color: #EEEEEE; \n",
       "    color: black;\n",
       "}\n",
       "header {\n",
       "   padding-top: 35px;\n",
       "    padding-bottom: 35px;\n",
       "    text-align: left; \n",
       "    padding-left: 10px;\n",
       "    background-color: #DDDDDD; \n",
       "    color: black;\n",
       "}\n",
       "</style>\n",
       "\n"
      ],
      "text/plain": [
       "<IPython.core.display.HTML object>"
      ]
     },
     "execution_count": 1,
     "metadata": {},
     "output_type": "execute_result"
    }
   ],
   "source": [
    "## RUN THIS CELL TO GET THE RIGHT FORMATTING \n",
    "import requests\n",
    "from IPython.core.display import HTML\n",
    "styles = requests.get(\"https://raw.githubusercontent.com/Harvard-IACS/2018-CS109A/master/content/styles/cs109.css\").text\n",
    "HTML(styles)"
   ]
  },
  {
   "cell_type": "markdown",
   "metadata": {},
   "source": [
    "# Table of Contents \n",
    "<ol start=\"0\">\n",
    "<li> Learning Goals </li>\n",
    "<li> Cross-Validation</li>\n",
    "<li> Data Augmentation</li>    \n",
    "<li> Regulatization (Ridge and Lasso)</li>\n",
    "<li> Tuning the $\\lambda$ parameter</li>\n",
    "    "
   ]
  },
  {
   "cell_type": "markdown",
   "metadata": {},
   "source": [
    "## Learning Goals\n",
    "\n",
    "This Jupyter notebook accompanies Lecture 5. By the end of this lecture, you should be able to:\n",
    "\n",
    "- Know how to manually perform random subsets cross-validation\n",
    "- Perform $k$-fold cross-v alidation both manually and using provided libraries\n",
    "- Perform both forms of regularization (Ridge and LASSO) and understand the most basic use differences\n"
   ]
  },
  {
   "cell_type": "code",
   "execution_count": 2,
   "metadata": {},
   "outputs": [],
   "source": [
    "%matplotlib inline\n",
    "import numpy as np\n",
    "import matplotlib.pyplot as plt\n",
    "import pandas as pd\n",
    "import seaborn as sns\n",
    "import sklearn as sk\n",
    "from sklearn.linear_model import LinearRegression\n",
    "from sklearn.preprocessing import PolynomialFeatures\n",
    "import statsmodels as sm\n",
    "import statsmodels.regression.linear_model as lm\n",
    "\n",
    "from sklearn.model_selection import KFold\n",
    "\n",
    "from sklearn.linear_model import RidgeCV\n",
    "from sklearn.linear_model import Ridge\n",
    "from sklearn.linear_model import LassoCV\n",
    "from sklearn.linear_model import Lasso\n",
    "\n",
    "pd.set_option('display.width', 500)\n",
    "pd.set_option('display.max_columns', 100)"
   ]
  },
  {
   "cell_type": "markdown",
   "metadata": {},
   "source": [
    "## Part 0: Reading the data \n",
    "\n",
    "We will be using the same data as last week (both the train and test splits): modeling `votergap` from the 2016 election (Trump-Clinton) from many predictors in the `county_election` dataset.\n",
    "\n",
    "We start by reading in the datasets for you and refitting some regression models from last week:\n",
    "\n",
    "**Important note: use the training dataset for all exploratory analysis and model fitting.  Only use the test dataset to evaluate and compare models.**\n"
   ]
  },
  {
   "cell_type": "code",
   "execution_count": 3,
   "metadata": {},
   "outputs": [
    {
     "name": "stderr",
     "output_type": "stream",
     "text": [
      "/Users/kevinrader/opt/anaconda3/lib/python3.7/site-packages/pandas/core/indexing.py:670: SettingWithCopyWarning: \n",
      "A value is trying to be set on a copy of a slice from a DataFrame\n",
      "\n",
      "See the caveats in the documentation: https://pandas.pydata.org/pandas-docs/stable/user_guide/indexing.html#returning-a-view-versus-a-copy\n",
      "  self._setitem_with_indexer(indexer, value)\n"
     ]
    }
   ],
   "source": [
    "\n",
    "train = pd.read_csv(\"../data/county_election_train.csv\")\n",
    "test = pd.read_csv(\"../data/county_election_test.csv\")\n",
    "\n",
    "#recall we log-transformed several of the variables and did a little imputation in cancer variable (with the median)\n",
    "train['log_density'] = np.float64(np.log(train['density']))\n",
    "train['log_minority'] = np.float64(np.log(train['minority']))\n",
    "train['log_population'] = np.log(train['population'])\n",
    "train['log_hispanic'] = np.log(train['hispanic'])\n",
    "\n",
    "test['log_density'] = np.float64(np.log(test['density']))\n",
    "test['log_minority'] = np.float64(np.log(test['minority']))\n",
    "test['log_population'] = np.log(test['population'])\n",
    "test['log_hispanic'] = np.log(test['hispanic'])\n",
    "\n",
    "# imputing median cancer rate for the 40 or so counties with missing cancer rates\n",
    "train['cancer'].loc[train['cancer'].isnull()] = np.median(train['cancer'])\n",
    "test['cancer'].loc[test['cancer'].isnull()] = np.median(train['cancer'])\n",
    "\n"
   ]
  },
  {
   "cell_type": "markdown",
   "metadata": {},
   "source": [
    "**Q0.1** How were missing values imputed for the variable `cancer` in the test set?  Why was this choice made?"
   ]
  },
  {
   "cell_type": "markdown",
   "metadata": {},
   "source": [
    "**Solution:**\n",
    "\n",
    "The median of the train set was used as the imputed value on the test set.  This was done because the same value should be imputed in both sets, and the test set should not be analyzed (like calculating its median cancer rate) prior to the final step. "
   ]
  },
  {
   "cell_type": "code",
   "execution_count": 4,
   "metadata": {},
   "outputs": [
    {
     "name": "stdout",
     "output_type": "stream",
     "text": [
      "R-squared on the test set for the main effects model: 0.5752558339850569\n"
     ]
    }
   ],
   "source": [
    "# and we fit the simple regression model for y = votergap and x = log_density in both sklearn and statmodels\n",
    "\n",
    "predictors = ['log_population','log_hispanic', 'log_minority', 'female', \n",
    "             'unemployed', 'income', 'nodegree', 'bachelor', 'inactivity', 'obesity', 'log_density']\n",
    "X_train = train[predictors]\n",
    "X_test = test[predictors]\n",
    "\n",
    "regress_maineffects = LinearRegression(fit_intercept=True).fit(X_train, train['votergap'])\n",
    "\n",
    "r2_test_maineffects = sk.metrics.r2_score(test['votergap'], regress_maineffects.predict(X_test))\n",
    "print(\"R-squared on the test set for the main effects model:\", r2_test_maineffects)"
   ]
  },
  {
   "cell_type": "code",
   "execution_count": 5,
   "metadata": {},
   "outputs": [
    {
     "name": "stdout",
     "output_type": "stream",
     "text": [
      "There are 55 interaction terms in the design matrix for this model.\n",
      "R-squared on the test set for the full interaction model: 0.7121772296069138\n"
     ]
    }
   ],
   "source": [
    "# And then we fit a model to \n",
    "\n",
    "X_interact = PolynomialFeatures(2, interaction_only=False, include_bias=True).fit_transform(train[predictors])\n",
    "print(\"There are\", X_interact.shape[1]-2*train[predictors].shape[1]-1,\"interaction terms in the design matrix for this model.\")\n",
    "\n",
    "regress_interact = LinearRegression(fit_intercept=False).fit(X_interact, train['votergap'])\n",
    "\n",
    "r2_test_interact = sk.metrics.r2_score(test['votergap'], regress_interact.predict(\n",
    "    PolynomialFeatures(2, interaction_only=False, include_bias=True).fit_transform(test[predictors])))\n",
    "print(\"R-squared on the test set for the full interaction model:\", r2_test_interact)"
   ]
  },
  {
   "cell_type": "code",
   "execution_count": 6,
   "metadata": {},
   "outputs": [
    {
     "name": "stdout",
     "output_type": "stream",
     "text": [
      "Predictor#: 65 with associated p-value of 0.9809439044018047\n",
      "Predictor#: 59 with associated p-value of 0.9305643717295858\n",
      "Predictor#: 30 with associated p-value of 0.9249852513988832\n",
      "Predictor#: 46 with associated p-value of 0.9084284356381296\n",
      "Predictor#: 73 with associated p-value of 0.904567392409066\n",
      "Predictor#: 5 with associated p-value of 0.8819331854474379\n",
      "Predictor#: 66 with associated p-value of 0.8358331725654966\n",
      "Predictor#: 67 with associated p-value of 0.8368796332970155\n",
      "Predictor#: 30 with associated p-value of 0.7874028696899534\n",
      "Predictor#: 56 with associated p-value of 0.7419892871253285\n",
      "Predictor#: 27 with associated p-value of 0.6873645504482577\n",
      "Predictor#: 51 with associated p-value of 0.7072222207250043\n",
      "Predictor#: 19 with associated p-value of 0.6831101803566574\n",
      "Predictor#: 1 with associated p-value of 0.4927574564274103\n",
      "Predictor#: 36 with associated p-value of 0.5778097134311744\n",
      "Predictor#: 56 with associated p-value of 0.4142757137247888\n",
      "Predictor#: 61 with associated p-value of 0.366759470528254\n",
      "Predictor#: 18 with associated p-value of 0.38232083005823847\n",
      "Predictor#: 5 with associated p-value of 0.3756674690672982\n",
      "Predictor#: 39 with associated p-value of 0.42635897598132944\n",
      "Predictor#: 8 with associated p-value of 0.5836746256789866\n",
      "Predictor#: 43 with associated p-value of 0.31414897873805203\n",
      "Predictor#: 7 with associated p-value of 0.2894822945287821\n",
      "Predictor#: 54 with associated p-value of 0.4239903800011564\n",
      "Predictor#: 22 with associated p-value of 0.332897956347179\n",
      "Predictor#: 24 with associated p-value of 0.11747462486505704\n",
      "Predictor#: 35 with associated p-value of 0.12954640821832974\n",
      "Predictor#: 4 with associated p-value of 0.08963420228584096\n",
      "Predictor#: 30 with associated p-value of 0.5335613242454166\n",
      "Predictor#: 4 with associated p-value of 0.26265484616429136\n",
      "Predictor#: 21 with associated p-value of 0.05897832668094587\n",
      "Predictor#: 21 with associated p-value of 0.08811664743402804\n",
      "Predictor#: 32 with associated p-value of 0.06124168509833462\n",
      "Predictor#: 30 with associated p-value of 0.11804601225223596\n",
      "Predictor#: 43 with associated p-value of 0.07212049480910604\n",
      "Predictor#: 39 with associated p-value of 0.06563971817914119\n",
      "R-squared on the test set for the full interaction model: 0.7053713609575957\n"
     ]
    }
   ],
   "source": [
    "# And lastly we did variable selection on this full model with interaction (backwards sequential variable selection)\n",
    "\n",
    "df_backwards = pd.DataFrame(X_interact)\n",
    "cutoff = 0.05\n",
    "\n",
    "for i in np.arange(df_backwards.shape[1]):\n",
    "    model_temp = lm.OLS(train['votergap'],df_backwards).fit()\n",
    "    if(np.max(model_temp.pvalues) > cutoff):\n",
    "        print(\"Predictor#:\", np.argmax(model_temp.pvalues), \"with associated p-value of\" ,np.max(model_temp.pvalues))\n",
    "        df_backwards = df_backwards.drop(df_backwards.columns[np.argmax(model_temp.pvalues)],axis=1)\n",
    "    else:\n",
    "        break\n",
    "\n",
    "regress_backwards = LinearRegression(fit_intercept=False).fit(df_backwards, train['votergap'])\n",
    "df_backwards.shape\n",
    "\n",
    "X_interact_test = PolynomialFeatures(2, interaction_only=False, include_bias=True).fit_transform(test[predictors])\n",
    "X_backwards_test = pd.DataFrame(X_interact_test)[df_backwards.columns]\n",
    "\n",
    "r2_test_backwards = sk.metrics.r2_score(test['votergap'], regress_backwards.predict(X_backwards_test))\n",
    "print(\"R-squared on the test set for the full interaction model:\", r2_test_backwards)"
   ]
  },
  {
   "cell_type": "code",
   "execution_count": 7,
   "metadata": {},
   "outputs": [
    {
     "data": {
      "text/plain": [
       "Int64Index([0, 2, 3, 4, 9, 12, 13, 14, 15, 16, 17, 18, 19, 22, 23, 24, 25, 26, 27, 29, 33, 37, 38, 39, 40, 41, 43, 45, 46, 48, 52, 54, 57, 58, 60, 62, 63, 64, 66, 69, 70, 72], dtype='int64')"
      ]
     },
     "execution_count": 7,
     "metadata": {},
     "output_type": "execute_result"
    }
   ],
   "source": [
    "df_backwards.columns"
   ]
  },
  {
   "cell_type": "markdown",
   "metadata": {},
   "source": [
    "**Q0.2** Play around with the critical p-value cut-off for keeping variables.  What does this say about using 0.05 as the cut-off?  Will this generalize to all situations?"
   ]
  },
  {
   "cell_type": "markdown",
   "metadata": {},
   "source": [
    "**Solution:**\n",
    "\n",
    "Playing around with the p-value cut-off for what should be removed does have a bearing on the predictive ability in the test set, but it there is no real pattern as to whether a higher cut-off will lower the predictive ability (at least with reasonable values for cut=-offs).  "
   ]
  },
  {
   "cell_type": "markdown",
   "metadata": {},
   "source": [
    "---"
   ]
  },
  {
   "cell_type": "markdown",
   "metadata": {},
   "source": [
    "## Part 1: Basic Cross-Validation\n",
    "\n",
    "3 models were built above, and a single test-set was used to determine which was best for out-of-sample prediction.  Let's instead use cross-validation to decide which of the 3 models is best."
   ]
  },
  {
   "cell_type": "code",
   "execution_count": 8,
   "metadata": {},
   "outputs": [],
   "source": [
    "np.random.RandomState(109)\n",
    "\n",
    "n_folds = 100\n",
    "k_fold = KFold(n_folds, random_state=109, shuffle=True)\n",
    "y_train = train['votergap']\n",
    "X_backwards = df_backwards\n",
    "X_interact = pd.DataFrame(X_interact)\n",
    "\n",
    "r2_cv_maineffects = []\n",
    "r2_cv_interact = []\n",
    "r2_cv_backwards = []\n",
    "\n",
    "for traincv_index, testcv_index in k_fold.split(X_train):\n",
    "    y_traincv, y_testcv = y_train[traincv_index], y_train[testcv_index]\n",
    "        \n",
    "    X_maineffects_traincv, X_maineffects_testcv = X_train.loc[traincv_index], X_train.loc[testcv_index]\n",
    "    X_interact_traincv, X_interact_testcv = X_interact.loc[traincv_index], X_interact.loc[testcv_index]\n",
    "    X_backwards_traincv, X_backwards_testcv = X_backwards.loc[traincv_index], X_backwards.loc[testcv_index]\n",
    "\n",
    "    model1 = LinearRegression(fit_intercept=True).fit(X_maineffects_traincv, y_traincv)\n",
    "    model2 = LinearRegression(fit_intercept=True).fit(X_interact_traincv, y_traincv)\n",
    "    model3 = LinearRegression(fit_intercept=True).fit(X_backwards_traincv, y_traincv)\n",
    "\n",
    "    r2_cv_maineffects.append(sk.metrics.r2_score(y_testcv, model1.predict(X_maineffects_testcv)))\n",
    "    r2_cv_interact.append(sk.metrics.r2_score(y_testcv, model2.predict(X_interact_testcv)))\n",
    "    r2_cv_backwards.append(sk.metrics.r2_score(y_testcv, model3.predict(X_backwards_testcv)))"
   ]
  },
  {
   "cell_type": "markdown",
   "metadata": {},
   "source": [
    "**Q1.1** Evaluate which of the 3 models considered above are best for out-of-sample prediction (both numerically and visually).  Does this agree with using the original test set?"
   ]
  },
  {
   "cell_type": "code",
   "execution_count": 9,
   "metadata": {},
   "outputs": [
    {
     "name": "stdout",
     "output_type": "stream",
     "text": [
      "0.5452702303377519\n",
      "0.6961319116814217\n",
      "0.7034500988098565\n"
     ]
    },
    {
     "data": {
      "image/png": "[encoded data removed]",
      "text/plain": [
       "<Figure size 432x288 with 1 Axes>"
      ]
     },
     "metadata": {
      "needs_background": "light"
     },
     "output_type": "display_data"
    }
   ],
   "source": [
    "######\n",
    "# your code here\n",
    "######\n",
    "print(np.mean(r2_cv_maineffects))\n",
    "print(np.mean(r2_cv_interact))\n",
    "print(np.mean(r2_cv_backwards))\n",
    "\n",
    "plt.boxplot( [r2_cv_maineffects, r2_cv_interact, r2_cv_backwards])\n",
    "plt.show()"
   ]
  },
  {
   "cell_type": "markdown",
   "metadata": {},
   "source": [
    "**Solution:**\n",
    "\n",
    "The results of the backwards variable selection provide the highest accuracy in the validation sets, on average (barely better than the full interaction model).  This is not 100% in agreement with the results in the test set, which favored the larger model.  The CV approach is prefered as it does not rely on a single out-of-sample set to make this decision."
   ]
  },
  {
   "cell_type": "markdown",
   "metadata": {},
   "source": [
    "**Q1.2** Play around with $k$ in the $k$-fold cross-validation above.  Does the choice of the number of folds really matter?"
   ]
  },
  {
   "cell_type": "code",
   "execution_count": 10,
   "metadata": {},
   "outputs": [],
   "source": [
    "######\n",
    "# your code here\n",
    "######\n"
   ]
  },
  {
   "cell_type": "markdown",
   "metadata": {},
   "source": [
    "**Solution:**\n",
    "\n",
    "It has a bearing on the decistion, but just barely (usually the backwards model is chosen).  THe boxplots can look very different though as a larger $k$ leads to much smaller validation sets, which will have more variation in the validation scoes (especially for more complkex models)."
   ]
  },
  {
   "cell_type": "markdown",
   "metadata": {},
   "source": [
    "**Q1.3** Build your own bootstrap cross-validation approach below (a skeleton is provided).  Do you see the same result comparing these 3 models?  What are the advantages to $k$-fold and random subsets/bootstrap cross-validation?"
   ]
  },
  {
   "cell_type": "code",
   "execution_count": 11,
   "metadata": {},
   "outputs": [],
   "source": [
    "\n",
    "nboots = 1000\n",
    "n_train = train.shape[0]\n",
    "traincv_size = 0.8\n",
    "n_traincv = int(traincv_size*n_train)\n",
    "\n",
    "r2_cv_maineffects = []\n",
    "r2_cv_interact = []\n",
    "r2_cv_backwards = []\n",
    "\n",
    "for boot in np.arange(nboots):\n",
    "    random_indices = np.random.choice(n_train,n_train,replace=False)\n",
    "    traincv_index = random_indices[0:n_traincv]\n",
    "    testcv_index = random_indices[n_traincv:n_train]\n",
    "    \n",
    "    ######\n",
    "    # your code here\n",
    "    ######\n",
    "\n",
    "    y_traincv, y_testcv = y_train[traincv_index], y_train[testcv_index]\n",
    "        \n",
    "    X_maineffects_traincv, X_maineffects_testcv = X_train.loc[traincv_index], X_train.loc[testcv_index]\n",
    "    X_interact_traincv, X_interact_testcv = X_interact.loc[traincv_index], X_interact.loc[testcv_index]\n",
    "    X_backwards_traincv, X_backwards_testcv = X_backwards.loc[traincv_index], X_backwards.loc[testcv_index]\n",
    "\n",
    "    model1 = LinearRegression(fit_intercept=True).fit(X_maineffects_traincv, y_traincv)\n",
    "    model2 = LinearRegression(fit_intercept=True).fit(X_interact_traincv, y_traincv)\n",
    "    model3 = LinearRegression(fit_intercept=True).fit(X_backwards_traincv, y_traincv)\n",
    "\n",
    "    r2_cv_maineffects.append(sk.metrics.r2_score(y_testcv, model1.predict(X_maineffects_testcv)))\n",
    "    r2_cv_interact.append(sk.metrics.r2_score(y_testcv, model2.predict(X_interact_testcv)))\n",
    "    r2_cv_backwards.append(sk.metrics.r2_score(y_testcv, model3.predict(X_backwards_testcv)))"
   ]
  },
  {
   "cell_type": "code",
   "execution_count": 12,
   "metadata": {
    "scrolled": true
   },
   "outputs": [
    {
     "name": "stdout",
     "output_type": "stream",
     "text": [
      "0.5774205189013857\n",
      "0.7179899238532876\n",
      "0.7201583638703671\n"
     ]
    },
    {
     "data": {
      "image/png": "[encoded data removed]",
      "text/plain": [
       "<Figure size 432x288 with 1 Axes>"
      ]
     },
     "metadata": {
      "needs_background": "light"
     },
     "output_type": "display_data"
    }
   ],
   "source": [
    "######\n",
    "# your code here\n",
    "######\n",
    "print(np.mean(r2_cv_maineffects))\n",
    "print(np.mean(r2_cv_interact))\n",
    "print(np.mean(r2_cv_backwards))\n",
    "\n",
    "plt.boxplot( [r2_cv_maineffects, r2_cv_interact, r2_cv_backwards])\n",
    "plt.show()"
   ]
  },
  {
   "cell_type": "markdown",
   "metadata": {},
   "source": [
    "**Solution:**\n",
    "\n",
    "*k*-fold is more computationally efficient, while random subsets allows for more repetition to prevent the specific splitting having a bearing on choosing the 'best' model (without making the validation sets too small)."
   ]
  },
  {
   "cell_type": "markdown",
   "metadata": {},
   "source": [
    "## Part 2: Data augmentation\n",
    "\n",
    "In this section, we will create two different desgin matrices that will be used going forward for applying reularization to.  The first is a high-order (10) polynomial regression using `log-minority` only, and the second is a high-dimensional design matrix considering all factors."
   ]
  },
  {
   "cell_type": "code",
   "execution_count": 13,
   "metadata": {},
   "outputs": [
    {
     "name": "stdout",
     "output_type": "stream",
     "text": [
      "Beta0 = 49.88978109045479 , Beta1 = [-4.64511848e+01  5.23827603e+02 -1.55326949e+03  2.14445845e+03\n",
      " -1.65982330e+03  7.75552496e+02 -2.23689633e+02  3.89969960e+01\n",
      " -3.77156604e+00  1.55527614e-01]\n"
     ]
    }
   ],
   "source": [
    "X_minority_poly = PolynomialFeatures(10, include_bias=False).fit_transform(train[['log_minority']])\n",
    "\n",
    "regress_minority_poly = LinearRegression(fit_intercept=True).fit(X_minority_poly , train['votergap'])\n",
    "print(\"Beta0 =\", regress_minority_poly.intercept_ ,\", Beta1 =\", regress_minority_poly.coef_)\n",
    "\n"
   ]
  },
  {
   "cell_type": "markdown",
   "metadata": {},
   "source": [
    "**Q2.1** Plot the predicted curves on top of the scatterplot of `votergap` vs. `log_minority`.  What do you notice?\n",
    "\n"
   ]
  },
  {
   "cell_type": "code",
   "execution_count": 14,
   "metadata": {},
   "outputs": [
    {
     "data": {
      "image/png": "[encoded data removed]",
      "text/plain": [
       "<Figure size 432x288 with 1 Axes>"
      ]
     },
     "metadata": {
      "needs_background": "light"
     },
     "output_type": "display_data"
    }
   ],
   "source": [
    "######\n",
    "# your code here\n",
    "######\n",
    "\n",
    "x_dummy = np.arange(np.min(train['log_minority']),np.max(train['log_minority']),0.1)\n",
    "yhat_minority_poly = regress_minority_poly.predict(PolynomialFeatures(10, include_bias=False).fit_transform(pd.DataFrame(x_dummy)))\n",
    "\n",
    "plt.scatter(train['log_minority'],train['votergap'])\n",
    "plt.plot(x_dummy,yhat_minority_poly,c=\"r\",label=\"Poly(3) Regression\")\n",
    "\n",
    "plt.show()"
   ]
  },
  {
   "cell_type": "code",
   "execution_count": 15,
   "metadata": {},
   "outputs": [
    {
     "data": {
      "text/plain": [
       "array([-4.64511848e+01,  5.23827603e+02, -1.55326949e+03,  2.14445845e+03,\n",
       "       -1.65982330e+03,  7.75552496e+02, -2.23689633e+02,  3.89969960e+01,\n",
       "       -3.77156604e+00,  1.55527614e-01])"
      ]
     },
     "execution_count": 15,
     "metadata": {},
     "output_type": "execute_result"
    }
   ],
   "source": [
    "regress_minority_poly.coef_"
   ]
  },
  {
   "cell_type": "markdown",
   "metadata": {},
   "source": [
    "**Solution:**\n",
    "\n",
    "The prediction curve is more *wiggly* than ideally we'd see: there is too much overfitting to the two smallest points on the x-axis (`log-minority`), for example.  This model is likely too complex (and thus overfit to this training set)."
   ]
  },
  {
   "cell_type": "markdown",
   "metadata": {},
   "source": [
    "**Q2.2** Create a design matrix (call it `X_over`) with all the interactions and 4th-order polynomials based on the original list of 11 predictors: \n",
    "\n",
    "predictors = ['log_population','log_hispanic', 'log_minority', 'female', \n",
    "             'unemployed', 'income', 'nodegree', 'bachelor', 'inactivity', 'obesity', 'log_density']\n",
    "\n",
    "How many predictors does this create?  Justify this number mathematically (it is not easy)."
   ]
  },
  {
   "cell_type": "code",
   "execution_count": 16,
   "metadata": {},
   "outputs": [
    {
     "data": {
      "text/plain": [
       "(2620, 1364)"
      ]
     },
     "execution_count": 16,
     "metadata": {},
     "output_type": "execute_result"
    }
   ],
   "source": [
    "######\n",
    "# your code here: create X_over \n",
    "######\n",
    "\n",
    "X_over = PolynomialFeatures(4, include_bias=False).fit_transform(X_train)\n",
    "X_over_test = PolynomialFeatures(4, include_bias=False).fit_transform(X_test)\n",
    "X_over.shape\n"
   ]
  },
  {
   "cell_type": "markdown",
   "metadata": {},
   "source": [
    "**Solution:**\n",
    "\n",
    "We need to add up:\n",
    "- all the polynomial terms (linear, 2nd order, 3rd order, and 4th order): $4\\cdot11$\n",
    "- all the 2-way interactions $\\binom{11}{2}$\n",
    "- all the 2-way interactions involving (2nd order term or 3rd order term) with a linear term: $2\\times2\\times \\binom{11}{2}$\n",
    "- all the 2-way interactions involving two 2nd order terms: $\\binom{11}{2}$\n",
    "- all the 3-way interactions of linear terms $\\binom{11}{3}$\n",
    "- all the 3-way interactions involving two linear terms and a quadratic term $\\binom{11}{3}$\n",
    "- all the 4-way interactions $\\binom{11}{4}$\n",
    "\n",
    "\n",
    "$$  \\binom{11}{4} + 2\\times\\binom{11}{3} + 6\\times\\binom{11}{2} + 4\\times11 = 1364 $$"
   ]
  },
  {
   "cell_type": "markdown",
   "metadata": {},
   "source": [
    "**Q2.2** Fit the model using the over-parameterized design matrix above.  How does it perform on the test set?"
   ]
  },
  {
   "cell_type": "code",
   "execution_count": 17,
   "metadata": {},
   "outputs": [
    {
     "name": "stdout",
     "output_type": "stream",
     "text": [
      "R-squared on the test set for the overparameterized model: 0.6880555051576484\n"
     ]
    }
   ],
   "source": [
    "######\n",
    "# your code here\n",
    "######\n",
    "\n",
    "regress_over = LinearRegression(fit_intercept=True).fit(X_over , train['votergap'])\n",
    "\n",
    "r2_test_over = sk.metrics.r2_score(test['votergap'], regress_over.predict(X_over_test))\n",
    "print(\"R-squared on the test set for the overparameterized model:\", r2_test_over)"
   ]
  },
  {
   "cell_type": "markdown",
   "metadata": {},
   "source": [
    "## Part 3: Regularization: Ridge and LASSO\n",
    "\n",
    "In this part we will explore the effects of regularization on linear regression modeling.  First using the 20th order polynomial version of log_minority, then using the over-parameterized design matrix.\n"
   ]
  },
  {
   "cell_type": "markdown",
   "metadata": {},
   "source": [
    "**Q3.1** Fit a Ridge model with $\\alpha = 1$, $\\alpha = 10$, and a LASSO model with $\\alpha = 1$, and $\\alpha = 10$ using the `X_minority_poly` design matrix.  Compare the estimated coefficients for all 5 models."
   ]
  },
  {
   "cell_type": "code",
   "execution_count": 18,
   "metadata": {},
   "outputs": [
    {
     "name": "stdout",
     "output_type": "stream",
     "text": [
      "Beta0 = 64.49391340443822 , Beta1 = [-18.95025409 -10.44028038   6.5911364   12.71504456  -1.8300944\n",
      " -13.33393945  10.39011724  -3.2879733    0.48514588  -0.02761048]\n",
      "Beta0 = 55.687220405983 , Beta1 = [-7.20513141 -3.58390422  1.66582024  3.41883306 -0.64999257 -3.86903538\n",
      "  3.07861478 -0.96055355  0.13609343 -0.00726394]\n",
      "Beta0 = 47.8662802219242 , Beta1 = [-0.00000000e+00 -0.00000000e+00 -1.55562338e+00 -0.00000000e+00\n",
      "  9.96573366e-02  2.90183115e-03 -1.27744199e-03 -4.14217986e-04\n",
      " -7.01457702e-05 -5.22183073e-06]\n",
      "Beta0 = 44.65322074370791 , Beta1 = [-0.00000000e+00 -0.00000000e+00 -0.00000000e+00 -3.52536842e-01\n",
      " -1.22219814e-02  1.26846239e-02  3.50116987e-03 -5.30478813e-05\n",
      " -1.10089285e-04 -2.76704521e-05]\n"
     ]
    },
    {
     "name": "stderr",
     "output_type": "stream",
     "text": [
      "/Users/kevinrader/opt/anaconda3/lib/python3.7/site-packages/sklearn/linear_model/_coordinate_descent.py:476: ConvergenceWarning: Objective did not converge. You might want to increase the number of iterations. Duality gap: 836606.9266897946, tolerance: 249.90114090421835\n",
      "  positive)\n",
      "/Users/kevinrader/opt/anaconda3/lib/python3.7/site-packages/sklearn/linear_model/_coordinate_descent.py:476: ConvergenceWarning: Objective did not converge. You might want to increase the number of iterations. Duality gap: 784651.3499429179, tolerance: 249.90114090421835\n",
      "  positive)\n"
     ]
    }
   ],
   "source": [
    "######\n",
    "# your code here\n",
    "######\n",
    "\n",
    "ridge_alpha1 = Ridge(alpha=1,fit_intercept=True).fit(X_minority_poly , train['votergap'])\n",
    "print(\"Beta0 =\", ridge_alpha1.intercept_ ,\", Beta1 =\", ridge_alpha1.coef_)\n",
    "\n",
    "ridge_alpha10 = Ridge(alpha=10,fit_intercept=True).fit(X_minority_poly , train['votergap'])\n",
    "print(\"Beta0 =\", ridge_alpha10.intercept_ ,\", Beta1 =\", ridge_alpha10.coef_)\n",
    "\n",
    "lasso_alpha1 = Lasso(alpha=1,fit_intercept=True,max_iter=1000).fit(X_minority_poly , train['votergap'])\n",
    "print(\"Beta0 =\", lasso_alpha1.intercept_ ,\", Beta1 =\", lasso_alpha1.coef_)\n",
    "\n",
    "lasso_alpha10 = Lasso(alpha=10,fit_intercept=True,max_iter=1000).fit(X_minority_poly , train['votergap'])\n",
    "print(\"Beta0 =\", lasso_alpha10.intercept_ ,\", Beta1 =\", lasso_alpha10.coef_)\n",
    "\n"
   ]
  },
  {
   "cell_type": "code",
   "execution_count": 19,
   "metadata": {},
   "outputs": [
    {
     "data": {
      "image/png": "[encoded data removed]",
      "text/plain": [
       "<Figure size 432x288 with 1 Axes>"
      ]
     },
     "metadata": {
      "needs_background": "light"
     },
     "output_type": "display_data"
    }
   ],
   "source": [
    "plt.plot([ridge_alpha1.coef_,ridge_alpha10.coef_,lasso_alpha1.coef_,lasso_alpha10.coef_])\n",
    "plt.show()"
   ]
  },
  {
   "cell_type": "markdown",
   "metadata": {},
   "source": [
    "**Solution:**\n",
    "\n",
    "Here we see the coefficients are shrunken the most with LASSO, and within either Ridge or LASSO, the larger the value for $\\alpha$ the more shrinking towards zero results.  Note: the OLS estimates were let off since they would have dominated the magnitudes of these estimates and made them all appear to be zero."
   ]
  },
  {
   "cell_type": "markdown",
   "metadata": {},
   "source": [
    "**Q3.3**  Plot the predictions (on top of the scatterplot) for all 5 models.  What do you notice?"
   ]
  },
  {
   "cell_type": "code",
   "execution_count": 20,
   "metadata": {},
   "outputs": [
    {
     "data": {
      "image/png": "[encoded data removed]",
      "text/plain": [
       "<Figure size 432x288 with 1 Axes>"
      ]
     },
     "metadata": {
      "needs_background": "light"
     },
     "output_type": "display_data"
    }
   ],
   "source": [
    "######\n",
    "# your code here\n",
    "######\n",
    "x_dummy_poly10 = PolynomialFeatures(10, include_bias=False).fit_transform(pd.DataFrame(x_dummy))\n",
    "yhat_minority_poly = regress_minority_poly.predict(x_dummy_poly10)\n",
    "yhat_ridge1 = ridge_alpha1.predict(x_dummy_poly10)\n",
    "yhat_ridge10 = ridge_alpha10.predict(x_dummy_poly10)\n",
    "yhat_lasso1 = lasso_alpha1.predict(x_dummy_poly10)\n",
    "yhat_lasso10 = lasso_alpha10.predict(x_dummy_poly10)\n",
    "\n",
    "\n",
    "plt.scatter(train['log_minority'],train['votergap'])\n",
    "plt.plot(x_dummy,yhat_minority_poly,c=\"r\",label=\"Poly(10) Regression\")\n",
    "plt.plot(x_dummy,yhat_ridge1,c=\"green\",label=\"Ridge1\")\n",
    "plt.plot(x_dummy,yhat_ridge10,c=\"orange\",label=\"Ridge10\")\n",
    "plt.plot(x_dummy,yhat_lasso1,c=\"purple\",label=\"Lasso1\")\n",
    "plt.plot(x_dummy,yhat_lasso10,c=\"yellow\",label=\"Lasso10\")\n",
    "plt.legend()\n",
    "\n",
    "plt.show()"
   ]
  },
  {
   "cell_type": "markdown",
   "metadata": {},
   "source": [
    "**Solution:**\n",
    "\n",
    "This shows that all of the 4 penalized models smooth out the 10$^{th}$ order polynomial similarly, but the LASSOs are smoothed out more than the ridges (due to many of the polynomial term coefficients being much smaller in magnitude).\n"
   ]
  },
  {
   "cell_type": "markdown",
   "metadata": {},
   "source": [
    "**Q3.3** For Ridge, *tune* the penalty terms using the test set.  Which value did you choose? How does this perform on the test set?"
   ]
  },
  {
   "cell_type": "code",
   "execution_count": 21,
   "metadata": {},
   "outputs": [
    {
     "name": "stdout",
     "output_type": "stream",
     "text": [
      "20.085536923187668\n"
     ]
    },
    {
     "name": "stderr",
     "output_type": "stream",
     "text": [
      "/Users/kevinrader/opt/anaconda3/lib/python3.7/site-packages/sklearn/linear_model/_ridge.py:148: LinAlgWarning: Ill-conditioned matrix (rcond=2.41308e-19): result may not be accurate.\n",
      "  overwrite_a=True).T\n",
      "/Users/kevinrader/opt/anaconda3/lib/python3.7/site-packages/sklearn/linear_model/_ridge.py:148: LinAlgWarning: Ill-conditioned matrix (rcond=3.53883e-19): result may not be accurate.\n",
      "  overwrite_a=True).T\n",
      "/Users/kevinrader/opt/anaconda3/lib/python3.7/site-packages/sklearn/linear_model/_ridge.py:148: LinAlgWarning: Ill-conditioned matrix (rcond=6.60109e-19): result may not be accurate.\n",
      "  overwrite_a=True).T\n",
      "/Users/kevinrader/opt/anaconda3/lib/python3.7/site-packages/sklearn/linear_model/_ridge.py:148: LinAlgWarning: Ill-conditioned matrix (rcond=1.49387e-18): result may not be accurate.\n",
      "  overwrite_a=True).T\n",
      "/Users/kevinrader/opt/anaconda3/lib/python3.7/site-packages/sklearn/linear_model/_ridge.py:148: LinAlgWarning: Ill-conditioned matrix (rcond=3.77084e-18): result may not be accurate.\n",
      "  overwrite_a=True).T\n",
      "/Users/kevinrader/opt/anaconda3/lib/python3.7/site-packages/sklearn/linear_model/_ridge.py:148: LinAlgWarning: Ill-conditioned matrix (rcond=1.00259e-17): result may not be accurate.\n",
      "  overwrite_a=True).T\n",
      "/Users/kevinrader/opt/anaconda3/lib/python3.7/site-packages/sklearn/linear_model/_ridge.py:148: LinAlgWarning: Ill-conditioned matrix (rcond=2.70522e-17): result may not be accurate.\n",
      "  overwrite_a=True).T\n",
      "/Users/kevinrader/opt/anaconda3/lib/python3.7/site-packages/sklearn/linear_model/_ridge.py:148: LinAlgWarning: Ill-conditioned matrix (rcond=7.58967e-17): result may not be accurate.\n",
      "  overwrite_a=True).T\n"
     ]
    }
   ],
   "source": [
    "######\n",
    "# your code here\n",
    "######\n",
    "\n",
    "alphas = np.exp(np.arange(-10,10,1))\n",
    "r2_ridges_test = []\n",
    "X_minority_poly_test = PolynomialFeatures(10, include_bias=False).fit_transform(test[['log_minority']])\n",
    "\n",
    "for alpha in alphas:\n",
    "    ridge = Ridge(alpha=alpha,fit_intercept=True).fit(X_minority_poly , train['votergap'])\n",
    "    r2_ridges_test.append(sk.metrics.r2_score(test['votergap'], ridge.predict(X_minority_poly_test)))\n",
    "\n",
    "\n",
    "\n",
    "print(alphas[np.argmax(r2_ridges_test)])  \n"
   ]
  },
  {
   "cell_type": "code",
   "execution_count": 22,
   "metadata": {},
   "outputs": [
    {
     "data": {
      "text/plain": [
       "3.0"
      ]
     },
     "execution_count": 22,
     "metadata": {},
     "output_type": "execute_result"
    }
   ],
   "source": [
    "np.log(alphas[np.argmax(r2_ridges_test)])"
   ]
  },
  {
   "cell_type": "markdown",
   "metadata": {},
   "source": [
    "Ignoring the warning signs, the best chosen penalty term of those considered is $e^3 = 20.08$ using the test set to choose between these models.\n"
   ]
  },
  {
   "cell_type": "markdown",
   "metadata": {},
   "source": [
    "## Part 4: Ridge and LASSO with CV\n",
    "\n",
    "In this part we will use cross-validation to *tune* the penalization term ($\\alpha$) in both ridge and LASSO regressions for the "
   ]
  },
  {
   "cell_type": "markdown",
   "metadata": {},
   "source": [
    "**Q4.1** Use [ridgeCV](https://scikit-learn.org/stable/modules/generated/sklearn.linear_model.RidgeCV.html) and [LassoCV](https://scikit-learn.org/stable/modules/generated/sklearn.linear_model.LassoCV.html) to tune the models using 5-fold cross-validation for the 10$^{th}$ order polynomial of `log_minority`.  You may need to play around with the values of $\\alpha$ you should consider. "
   ]
  },
  {
   "cell_type": "code",
   "execution_count": 23,
   "metadata": {},
   "outputs": [
    {
     "name": "stderr",
     "output_type": "stream",
     "text": [
      "/Users/kevinrader/opt/anaconda3/lib/python3.7/site-packages/sklearn/linear_model/_ridge.py:148: LinAlgWarning: Ill-conditioned matrix (rcond=3.07293e-19): result may not be accurate.\n",
      "  overwrite_a=True).T\n",
      "/Users/kevinrader/opt/anaconda3/lib/python3.7/site-packages/sklearn/linear_model/_ridge.py:148: LinAlgWarning: Ill-conditioned matrix (rcond=2.30585e-19): result may not be accurate.\n",
      "  overwrite_a=True).T\n",
      "/Users/kevinrader/opt/anaconda3/lib/python3.7/site-packages/sklearn/linear_model/_ridge.py:148: LinAlgWarning: Ill-conditioned matrix (rcond=1.08102e-19): result may not be accurate.\n",
      "  overwrite_a=True).T\n",
      "/Users/kevinrader/opt/anaconda3/lib/python3.7/site-packages/sklearn/linear_model/_ridge.py:148: LinAlgWarning: Ill-conditioned matrix (rcond=2.70901e-19): result may not be accurate.\n",
      "  overwrite_a=True).T\n",
      "/Users/kevinrader/opt/anaconda3/lib/python3.7/site-packages/sklearn/linear_model/_ridge.py:148: LinAlgWarning: Ill-conditioned matrix (rcond=2.33538e-19): result may not be accurate.\n",
      "  overwrite_a=True).T\n",
      "/Users/kevinrader/opt/anaconda3/lib/python3.7/site-packages/sklearn/linear_model/_ridge.py:148: LinAlgWarning: Ill-conditioned matrix (rcond=4.67695e-19): result may not be accurate.\n",
      "  overwrite_a=True).T\n",
      "/Users/kevinrader/opt/anaconda3/lib/python3.7/site-packages/sklearn/linear_model/_ridge.py:148: LinAlgWarning: Ill-conditioned matrix (rcond=3.52324e-19): result may not be accurate.\n",
      "  overwrite_a=True).T\n",
      "/Users/kevinrader/opt/anaconda3/lib/python3.7/site-packages/sklearn/linear_model/_ridge.py:148: LinAlgWarning: Ill-conditioned matrix (rcond=2.69392e-19): result may not be accurate.\n",
      "  overwrite_a=True).T\n",
      "/Users/kevinrader/opt/anaconda3/lib/python3.7/site-packages/sklearn/linear_model/_ridge.py:148: LinAlgWarning: Ill-conditioned matrix (rcond=4.28002e-19): result may not be accurate.\n",
      "  overwrite_a=True).T\n",
      "/Users/kevinrader/opt/anaconda3/lib/python3.7/site-packages/sklearn/linear_model/_ridge.py:148: LinAlgWarning: Ill-conditioned matrix (rcond=3.5709e-19): result may not be accurate.\n",
      "  overwrite_a=True).T\n",
      "/Users/kevinrader/opt/anaconda3/lib/python3.7/site-packages/sklearn/linear_model/_ridge.py:148: LinAlgWarning: Ill-conditioned matrix (rcond=9.03736e-19): result may not be accurate.\n",
      "  overwrite_a=True).T\n",
      "/Users/kevinrader/opt/anaconda3/lib/python3.7/site-packages/sklearn/linear_model/_ridge.py:148: LinAlgWarning: Ill-conditioned matrix (rcond=6.83084e-19): result may not be accurate.\n",
      "  overwrite_a=True).T\n",
      "/Users/kevinrader/opt/anaconda3/lib/python3.7/site-packages/sklearn/linear_model/_ridge.py:148: LinAlgWarning: Ill-conditioned matrix (rcond=7.07201e-19): result may not be accurate.\n",
      "  overwrite_a=True).T\n",
      "/Users/kevinrader/opt/anaconda3/lib/python3.7/site-packages/sklearn/linear_model/_ridge.py:148: LinAlgWarning: Ill-conditioned matrix (rcond=8.56116e-19): result may not be accurate.\n",
      "  overwrite_a=True).T\n",
      "/Users/kevinrader/opt/anaconda3/lib/python3.7/site-packages/sklearn/linear_model/_ridge.py:148: LinAlgWarning: Ill-conditioned matrix (rcond=6.9225e-19): result may not be accurate.\n",
      "  overwrite_a=True).T\n",
      "/Users/kevinrader/opt/anaconda3/lib/python3.7/site-packages/sklearn/linear_model/_ridge.py:148: LinAlgWarning: Ill-conditioned matrix (rcond=2.09111e-18): result may not be accurate.\n",
      "  overwrite_a=True).T\n",
      "/Users/kevinrader/opt/anaconda3/lib/python3.7/site-packages/sklearn/linear_model/_ridge.py:148: LinAlgWarning: Ill-conditioned matrix (rcond=1.58468e-18): result may not be accurate.\n",
      "  overwrite_a=True).T\n",
      "/Users/kevinrader/opt/anaconda3/lib/python3.7/site-packages/sklearn/linear_model/_ridge.py:148: LinAlgWarning: Ill-conditioned matrix (rcond=1.8973e-18): result may not be accurate.\n",
      "  overwrite_a=True).T\n",
      "/Users/kevinrader/opt/anaconda3/lib/python3.7/site-packages/sklearn/linear_model/_ridge.py:148: LinAlgWarning: Ill-conditioned matrix (rcond=2.02071e-18): result may not be accurate.\n",
      "  overwrite_a=True).T\n",
      "/Users/kevinrader/opt/anaconda3/lib/python3.7/site-packages/sklearn/linear_model/_ridge.py:148: LinAlgWarning: Ill-conditioned matrix (rcond=1.60546e-18): result may not be accurate.\n",
      "  overwrite_a=True).T\n",
      "/Users/kevinrader/opt/anaconda3/lib/python3.7/site-packages/sklearn/linear_model/_ridge.py:148: LinAlgWarning: Ill-conditioned matrix (rcond=5.33404e-18): result may not be accurate.\n",
      "  overwrite_a=True).T\n",
      "/Users/kevinrader/opt/anaconda3/lib/python3.7/site-packages/sklearn/linear_model/_ridge.py:148: LinAlgWarning: Ill-conditioned matrix (rcond=4.04698e-18): result may not be accurate.\n",
      "  overwrite_a=True).T\n",
      "/Users/kevinrader/opt/anaconda3/lib/python3.7/site-packages/sklearn/linear_model/_ridge.py:148: LinAlgWarning: Ill-conditioned matrix (rcond=5.86569e-18): result may not be accurate.\n",
      "  overwrite_a=True).T\n",
      "/Users/kevinrader/opt/anaconda3/lib/python3.7/site-packages/sklearn/linear_model/_ridge.py:148: LinAlgWarning: Ill-conditioned matrix (rcond=5.2031e-18): result may not be accurate.\n",
      "  overwrite_a=True).T\n",
      "/Users/kevinrader/opt/anaconda3/lib/python3.7/site-packages/sklearn/linear_model/_ridge.py:148: LinAlgWarning: Ill-conditioned matrix (rcond=4.09946e-18): result may not be accurate.\n",
      "  overwrite_a=True).T\n",
      "/Users/kevinrader/opt/anaconda3/lib/python3.7/site-packages/sklearn/linear_model/_ridge.py:148: LinAlgWarning: Ill-conditioned matrix (rcond=1.4242e-17): result may not be accurate.\n",
      "  overwrite_a=True).T\n",
      "/Users/kevinrader/opt/anaconda3/lib/python3.7/site-packages/sklearn/linear_model/_ridge.py:148: LinAlgWarning: Ill-conditioned matrix (rcond=1.08019e-17): result may not be accurate.\n",
      "  overwrite_a=True).T\n",
      "/Users/kevinrader/opt/anaconda3/lib/python3.7/site-packages/sklearn/linear_model/_ridge.py:148: LinAlgWarning: Ill-conditioned matrix (rcond=1.40477e-17): result may not be accurate.\n",
      "  overwrite_a=True).T\n",
      "/Users/kevinrader/opt/anaconda3/lib/python3.7/site-packages/sklearn/linear_model/_ridge.py:148: LinAlgWarning: Ill-conditioned matrix (rcond=1.39457e-17): result may not be accurate.\n",
      "  overwrite_a=True).T\n",
      "/Users/kevinrader/opt/anaconda3/lib/python3.7/site-packages/sklearn/linear_model/_ridge.py:148: LinAlgWarning: Ill-conditioned matrix (rcond=1.09478e-17): result may not be accurate.\n",
      "  overwrite_a=True).T\n",
      "/Users/kevinrader/opt/anaconda3/lib/python3.7/site-packages/sklearn/linear_model/_ridge.py:148: LinAlgWarning: Ill-conditioned matrix (rcond=4.32192e-17): result may not be accurate.\n",
      "  overwrite_a=True).T\n",
      "/Users/kevinrader/opt/anaconda3/lib/python3.7/site-packages/sklearn/linear_model/_ridge.py:148: LinAlgWarning: Ill-conditioned matrix (rcond=3.25491e-17): result may not be accurate.\n",
      "  overwrite_a=True).T\n",
      "/Users/kevinrader/opt/anaconda3/lib/python3.7/site-packages/sklearn/linear_model/_ridge.py:148: LinAlgWarning: Ill-conditioned matrix (rcond=3.68723e-17): result may not be accurate.\n",
      "  overwrite_a=True).T\n",
      "/Users/kevinrader/opt/anaconda3/lib/python3.7/site-packages/sklearn/linear_model/_ridge.py:148: LinAlgWarning: Ill-conditioned matrix (rcond=4.16831e-17): result may not be accurate.\n",
      "  overwrite_a=True).T\n",
      "/Users/kevinrader/opt/anaconda3/lib/python3.7/site-packages/sklearn/linear_model/_ridge.py:148: LinAlgWarning: Ill-conditioned matrix (rcond=3.31161e-17): result may not be accurate.\n",
      "  overwrite_a=True).T\n",
      "/Users/kevinrader/opt/anaconda3/lib/python3.7/site-packages/sklearn/linear_model/_ridge.py:148: LinAlgWarning: Ill-conditioned matrix (rcond=1.06967e-16): result may not be accurate.\n",
      "  overwrite_a=True).T\n",
      "/Users/kevinrader/opt/anaconda3/lib/python3.7/site-packages/sklearn/linear_model/_ridge.py:148: LinAlgWarning: Ill-conditioned matrix (rcond=8.10048e-17): result may not be accurate.\n",
      "  overwrite_a=True).T\n",
      "/Users/kevinrader/opt/anaconda3/lib/python3.7/site-packages/sklearn/linear_model/_ridge.py:148: LinAlgWarning: Ill-conditioned matrix (rcond=1.02395e-16): result may not be accurate.\n",
      "  overwrite_a=True).T\n",
      "/Users/kevinrader/opt/anaconda3/lib/python3.7/site-packages/sklearn/linear_model/_ridge.py:148: LinAlgWarning: Ill-conditioned matrix (rcond=1.03952e-16): result may not be accurate.\n",
      "  overwrite_a=True).T\n",
      "/Users/kevinrader/opt/anaconda3/lib/python3.7/site-packages/sklearn/linear_model/_ridge.py:148: LinAlgWarning: Ill-conditioned matrix (rcond=8.22234e-17): result may not be accurate.\n",
      "  overwrite_a=True).T\n"
     ]
    },
    {
     "name": "stderr",
     "output_type": "stream",
     "text": [
      "/Users/kevinrader/opt/anaconda3/lib/python3.7/site-packages/sklearn/linear_model/_coordinate_descent.py:472: ConvergenceWarning: Objective did not converge. You might want to increase the number of iterations. Duality gap: 3595.1768582849763, tolerance: 190.24578967661813\n",
      "  tol, rng, random, positive)\n",
      "/Users/kevinrader/opt/anaconda3/lib/python3.7/site-packages/sklearn/linear_model/_coordinate_descent.py:472: ConvergenceWarning: Objective did not converge. You might want to increase the number of iterations. Duality gap: 37238.07092188508, tolerance: 190.24578967661813\n",
      "  tol, rng, random, positive)\n",
      "/Users/kevinrader/opt/anaconda3/lib/python3.7/site-packages/sklearn/linear_model/_coordinate_descent.py:472: ConvergenceWarning: Objective did not converge. You might want to increase the number of iterations. Duality gap: 1806.110003523063, tolerance: 190.24578967661813\n",
      "  tol, rng, random, positive)\n",
      "/Users/kevinrader/opt/anaconda3/lib/python3.7/site-packages/sklearn/linear_model/_coordinate_descent.py:472: ConvergenceWarning: Objective did not converge. You might want to increase the number of iterations. Duality gap: 7569.205538599752, tolerance: 190.24578967661813\n",
      "  tol, rng, random, positive)\n",
      "/Users/kevinrader/opt/anaconda3/lib/python3.7/site-packages/sklearn/linear_model/_coordinate_descent.py:472: ConvergenceWarning: Objective did not converge. You might want to increase the number of iterations. Duality gap: 546479.4404857461, tolerance: 190.24578967661813\n",
      "  tol, rng, random, positive)\n",
      "/Users/kevinrader/opt/anaconda3/lib/python3.7/site-packages/sklearn/linear_model/_coordinate_descent.py:472: ConvergenceWarning: Objective did not converge. You might want to increase the number of iterations. Duality gap: 620212.4991321336, tolerance: 190.24578967661813\n",
      "  tol, rng, random, positive)\n",
      "/Users/kevinrader/opt/anaconda3/lib/python3.7/site-packages/sklearn/linear_model/_coordinate_descent.py:472: ConvergenceWarning: Objective did not converge. You might want to increase the number of iterations. Duality gap: 627263.0220739675, tolerance: 190.24578967661813\n",
      "  tol, rng, random, positive)\n",
      "/Users/kevinrader/opt/anaconda3/lib/python3.7/site-packages/sklearn/linear_model/_coordinate_descent.py:472: ConvergenceWarning: Objective did not converge. You might want to increase the number of iterations. Duality gap: 544219.8240161447, tolerance: 190.24578967661813\n",
      "  tol, rng, random, positive)\n",
      "/Users/kevinrader/opt/anaconda3/lib/python3.7/site-packages/sklearn/linear_model/_coordinate_descent.py:472: ConvergenceWarning: Objective did not converge. You might want to increase the number of iterations. Duality gap: 642037.0549430491, tolerance: 190.24578967661813\n",
      "  tol, rng, random, positive)\n",
      "/Users/kevinrader/opt/anaconda3/lib/python3.7/site-packages/sklearn/linear_model/_coordinate_descent.py:472: ConvergenceWarning: Objective did not converge. You might want to increase the number of iterations. Duality gap: 651857.4845287624, tolerance: 190.24578967661813\n",
      "  tol, rng, random, positive)\n",
      "/Users/kevinrader/opt/anaconda3/lib/python3.7/site-packages/sklearn/linear_model/_coordinate_descent.py:472: ConvergenceWarning: Objective did not converge. You might want to increase the number of iterations. Duality gap: 651308.8371589187, tolerance: 190.24578967661813\n",
      "  tol, rng, random, positive)\n",
      "/Users/kevinrader/opt/anaconda3/lib/python3.7/site-packages/sklearn/linear_model/_coordinate_descent.py:472: ConvergenceWarning: Objective did not converge. You might want to increase the number of iterations. Duality gap: 649960.642670287, tolerance: 190.24578967661813\n",
      "  tol, rng, random, positive)\n",
      "/Users/kevinrader/opt/anaconda3/lib/python3.7/site-packages/sklearn/linear_model/_coordinate_descent.py:472: ConvergenceWarning: Objective did not converge. You might want to increase the number of iterations. Duality gap: 649026.1961569544, tolerance: 190.24578967661813\n",
      "  tol, rng, random, positive)\n",
      "/Users/kevinrader/opt/anaconda3/lib/python3.7/site-packages/sklearn/linear_model/_coordinate_descent.py:472: ConvergenceWarning: Objective did not converge. You might want to increase the number of iterations. Duality gap: 648555.6581459217, tolerance: 190.24578967661813\n",
      "  tol, rng, random, positive)\n",
      "/Users/kevinrader/opt/anaconda3/lib/python3.7/site-packages/sklearn/linear_model/_coordinate_descent.py:472: ConvergenceWarning: Objective did not converge. You might want to increase the number of iterations. Duality gap: 648420.5406863425, tolerance: 190.24578967661813\n",
      "  tol, rng, random, positive)\n",
      "/Users/kevinrader/opt/anaconda3/lib/python3.7/site-packages/sklearn/linear_model/_coordinate_descent.py:472: ConvergenceWarning: Objective did not converge. You might want to increase the number of iterations. Duality gap: 648380.6516817248, tolerance: 190.24578967661813\n",
      "  tol, rng, random, positive)\n",
      "/Users/kevinrader/opt/anaconda3/lib/python3.7/site-packages/sklearn/linear_model/_coordinate_descent.py:472: ConvergenceWarning: Objective did not converge. You might want to increase the number of iterations. Duality gap: 648361.0381584492, tolerance: 190.24578967661813\n",
      "  tol, rng, random, positive)\n",
      "/Users/kevinrader/opt/anaconda3/lib/python3.7/site-packages/sklearn/linear_model/_coordinate_descent.py:472: ConvergenceWarning: Objective did not converge. You might want to increase the number of iterations. Duality gap: 648345.2533905997, tolerance: 190.24578967661813\n",
      "  tol, rng, random, positive)\n",
      "/Users/kevinrader/opt/anaconda3/lib/python3.7/site-packages/sklearn/linear_model/_coordinate_descent.py:472: ConvergenceWarning: Objective did not converge. You might want to increase the number of iterations. Duality gap: 648330.200942306, tolerance: 190.24578967661813\n",
      "  tol, rng, random, positive)\n",
      "/Users/kevinrader/opt/anaconda3/lib/python3.7/site-packages/sklearn/linear_model/_coordinate_descent.py:472: ConvergenceWarning: Objective did not converge. You might want to increase the number of iterations. Duality gap: 648315.4996831592, tolerance: 190.24578967661813\n",
      "  tol, rng, random, positive)\n",
      "/Users/kevinrader/opt/anaconda3/lib/python3.7/site-packages/sklearn/linear_model/_coordinate_descent.py:472: ConvergenceWarning: Objective did not converge. You might want to increase the number of iterations. Duality gap: 5355.044184568105, tolerance: 212.68730316189576\n",
      "  tol, rng, random, positive)\n",
      "/Users/kevinrader/opt/anaconda3/lib/python3.7/site-packages/sklearn/linear_model/_coordinate_descent.py:472: ConvergenceWarning: Objective did not converge. You might want to increase the number of iterations. Duality gap: 49791.52098231949, tolerance: 212.68730316189576\n",
      "  tol, rng, random, positive)\n",
      "/Users/kevinrader/opt/anaconda3/lib/python3.7/site-packages/sklearn/linear_model/_coordinate_descent.py:472: ConvergenceWarning: Objective did not converge. You might want to increase the number of iterations. Duality gap: 436.25873909774236, tolerance: 212.68730316189576\n",
      "  tol, rng, random, positive)\n",
      "/Users/kevinrader/opt/anaconda3/lib/python3.7/site-packages/sklearn/linear_model/_coordinate_descent.py:472: ConvergenceWarning: Objective did not converge. You might want to increase the number of iterations. Duality gap: 8672.895172799472, tolerance: 212.68730316189576\n",
      "  tol, rng, random, positive)\n",
      "/Users/kevinrader/opt/anaconda3/lib/python3.7/site-packages/sklearn/linear_model/_coordinate_descent.py:472: ConvergenceWarning: Objective did not converge. You might want to increase the number of iterations. Duality gap: 557214.6589101402, tolerance: 212.68730316189576\n",
      "  tol, rng, random, positive)\n",
      "/Users/kevinrader/opt/anaconda3/lib/python3.7/site-packages/sklearn/linear_model/_coordinate_descent.py:472: ConvergenceWarning: Objective did not converge. You might want to increase the number of iterations. Duality gap: 668401.9779597934, tolerance: 212.68730316189576\n",
      "  tol, rng, random, positive)\n",
      "/Users/kevinrader/opt/anaconda3/lib/python3.7/site-packages/sklearn/linear_model/_coordinate_descent.py:472: ConvergenceWarning: Objective did not converge. You might want to increase the number of iterations. Duality gap: 684147.1424289978, tolerance: 212.68730316189576\n",
      "  tol, rng, random, positive)\n",
      "/Users/kevinrader/opt/anaconda3/lib/python3.7/site-packages/sklearn/linear_model/_coordinate_descent.py:472: ConvergenceWarning: Objective did not converge. You might want to increase the number of iterations. Duality gap: 595087.221183169, tolerance: 212.68730316189576\n",
      "  tol, rng, random, positive)\n",
      "/Users/kevinrader/opt/anaconda3/lib/python3.7/site-packages/sklearn/linear_model/_coordinate_descent.py:472: ConvergenceWarning: Objective did not converge. You might want to increase the number of iterations. Duality gap: 700223.6953763854, tolerance: 212.68730316189576\n",
      "  tol, rng, random, positive)\n",
      "/Users/kevinrader/opt/anaconda3/lib/python3.7/site-packages/sklearn/linear_model/_coordinate_descent.py:472: ConvergenceWarning: Objective did not converge. You might want to increase the number of iterations. Duality gap: 708258.1117428676, tolerance: 212.68730316189576\n",
      "  tol, rng, random, positive)\n",
      "/Users/kevinrader/opt/anaconda3/lib/python3.7/site-packages/sklearn/linear_model/_coordinate_descent.py:472: ConvergenceWarning: Objective did not converge. You might want to increase the number of iterations. Duality gap: 707535.8045902472, tolerance: 212.68730316189576\n",
      "  tol, rng, random, positive)\n",
      "/Users/kevinrader/opt/anaconda3/lib/python3.7/site-packages/sklearn/linear_model/_coordinate_descent.py:472: ConvergenceWarning: Objective did not converge. You might want to increase the number of iterations. Duality gap: 705961.7483611521, tolerance: 212.68730316189576\n",
      "  tol, rng, random, positive)\n",
      "/Users/kevinrader/opt/anaconda3/lib/python3.7/site-packages/sklearn/linear_model/_coordinate_descent.py:472: ConvergenceWarning: Objective did not converge. You might want to increase the number of iterations. Duality gap: 704888.8912988912, tolerance: 212.68730316189576\n",
      "  tol, rng, random, positive)\n",
      "/Users/kevinrader/opt/anaconda3/lib/python3.7/site-packages/sklearn/linear_model/_coordinate_descent.py:472: ConvergenceWarning: Objective did not converge. You might want to increase the number of iterations. Duality gap: 704331.6613954528, tolerance: 212.68730316189576\n",
      "  tol, rng, random, positive)\n",
      "/Users/kevinrader/opt/anaconda3/lib/python3.7/site-packages/sklearn/linear_model/_coordinate_descent.py:472: ConvergenceWarning: Objective did not converge. You might want to increase the number of iterations. Duality gap: 704131.5087736647, tolerance: 212.68730316189576\n",
      "  tol, rng, random, positive)\n",
      "/Users/kevinrader/opt/anaconda3/lib/python3.7/site-packages/sklearn/linear_model/_coordinate_descent.py:472: ConvergenceWarning: Objective did not converge. You might want to increase the number of iterations. Duality gap: 704063.9496214708, tolerance: 212.68730316189576\n",
      "  tol, rng, random, positive)\n",
      "/Users/kevinrader/opt/anaconda3/lib/python3.7/site-packages/sklearn/linear_model/_coordinate_descent.py:472: ConvergenceWarning: Objective did not converge. You might want to increase the number of iterations. Duality gap: 704038.1696718521, tolerance: 212.68730316189576\n",
      "  tol, rng, random, positive)\n",
      "/Users/kevinrader/opt/anaconda3/lib/python3.7/site-packages/sklearn/linear_model/_coordinate_descent.py:472: ConvergenceWarning: Objective did not converge. You might want to increase the number of iterations. Duality gap: 704025.2805667083, tolerance: 212.68730316189576\n",
      "  tol, rng, random, positive)\n",
      "/Users/kevinrader/opt/anaconda3/lib/python3.7/site-packages/sklearn/linear_model/_coordinate_descent.py:472: ConvergenceWarning: Objective did not converge. You might want to increase the number of iterations. Duality gap: 704016.4633946442, tolerance: 212.68730316189576\n",
      "  tol, rng, random, positive)\n",
      "/Users/kevinrader/opt/anaconda3/lib/python3.7/site-packages/sklearn/linear_model/_coordinate_descent.py:472: ConvergenceWarning: Objective did not converge. You might want to increase the number of iterations. Duality gap: 704008.95443484, tolerance: 212.68730316189576\n",
      "  tol, rng, random, positive)\n",
      "/Users/kevinrader/opt/anaconda3/lib/python3.7/site-packages/sklearn/linear_model/_coordinate_descent.py:472: ConvergenceWarning: Objective did not converge. You might want to increase the number of iterations. Duality gap: 1517.2546810298227, tolerance: 198.5550285881118\n",
      "  tol, rng, random, positive)\n",
      "/Users/kevinrader/opt/anaconda3/lib/python3.7/site-packages/sklearn/linear_model/_coordinate_descent.py:472: ConvergenceWarning: Objective did not converge. You might want to increase the number of iterations. Duality gap: 11726.012177909957, tolerance: 198.5550285881118\n",
      "  tol, rng, random, positive)\n",
      "/Users/kevinrader/opt/anaconda3/lib/python3.7/site-packages/sklearn/linear_model/_coordinate_descent.py:472: ConvergenceWarning: Objective did not converge. You might want to increase the number of iterations. Duality gap: 17215.680311536184, tolerance: 198.5550285881118\n",
      "  tol, rng, random, positive)\n",
      "/Users/kevinrader/opt/anaconda3/lib/python3.7/site-packages/sklearn/linear_model/_coordinate_descent.py:472: ConvergenceWarning: Objective did not converge. You might want to increase the number of iterations. Duality gap: 501141.8380541536, tolerance: 198.5550285881118\n",
      "  tol, rng, random, positive)\n",
      "/Users/kevinrader/opt/anaconda3/lib/python3.7/site-packages/sklearn/linear_model/_coordinate_descent.py:472: ConvergenceWarning: Objective did not converge. You might want to increase the number of iterations. Duality gap: 640179.1698065905, tolerance: 198.5550285881118\n",
      "  tol, rng, random, positive)\n",
      "/Users/kevinrader/opt/anaconda3/lib/python3.7/site-packages/sklearn/linear_model/_coordinate_descent.py:472: ConvergenceWarning: Objective did not converge. You might want to increase the number of iterations. Duality gap: 653879.8259076923, tolerance: 198.5550285881118\n",
      "  tol, rng, random, positive)\n",
      "/Users/kevinrader/opt/anaconda3/lib/python3.7/site-packages/sklearn/linear_model/_coordinate_descent.py:472: ConvergenceWarning: Objective did not converge. You might want to increase the number of iterations. Duality gap: 562128.0061106164, tolerance: 198.5550285881118\n",
      "  tol, rng, random, positive)\n",
      "/Users/kevinrader/opt/anaconda3/lib/python3.7/site-packages/sklearn/linear_model/_coordinate_descent.py:472: ConvergenceWarning: Objective did not converge. You might want to increase the number of iterations. Duality gap: 681931.9885471693, tolerance: 198.5550285881118\n",
      "  tol, rng, random, positive)\n",
      "/Users/kevinrader/opt/anaconda3/lib/python3.7/site-packages/sklearn/linear_model/_coordinate_descent.py:472: ConvergenceWarning: Objective did not converge. You might want to increase the number of iterations. Duality gap: 689882.2965208986, tolerance: 198.5550285881118\n",
      "  tol, rng, random, positive)\n",
      "/Users/kevinrader/opt/anaconda3/lib/python3.7/site-packages/sklearn/linear_model/_coordinate_descent.py:472: ConvergenceWarning: Objective did not converge. You might want to increase the number of iterations. Duality gap: 689906.6355864472, tolerance: 198.5550285881118\n",
      "  tol, rng, random, positive)\n",
      "/Users/kevinrader/opt/anaconda3/lib/python3.7/site-packages/sklearn/linear_model/_coordinate_descent.py:472: ConvergenceWarning: Objective did not converge. You might want to increase the number of iterations. Duality gap: 689287.2688645031, tolerance: 198.5550285881118\n",
      "  tol, rng, random, positive)\n",
      "/Users/kevinrader/opt/anaconda3/lib/python3.7/site-packages/sklearn/linear_model/_coordinate_descent.py:472: ConvergenceWarning: Objective did not converge. You might want to increase the number of iterations. Duality gap: 688795.3765416997, tolerance: 198.5550285881118\n",
      "  tol, rng, random, positive)\n",
      "/Users/kevinrader/opt/anaconda3/lib/python3.7/site-packages/sklearn/linear_model/_coordinate_descent.py:472: ConvergenceWarning: Objective did not converge. You might want to increase the number of iterations. Duality gap: 688528.7330659477, tolerance: 198.5550285881118\n",
      "  tol, rng, random, positive)\n",
      "/Users/kevinrader/opt/anaconda3/lib/python3.7/site-packages/sklearn/linear_model/_coordinate_descent.py:472: ConvergenceWarning: Objective did not converge. You might want to increase the number of iterations. Duality gap: 688149.6629167349, tolerance: 198.5550285881118\n",
      "  tol, rng, random, positive)\n",
      "/Users/kevinrader/opt/anaconda3/lib/python3.7/site-packages/sklearn/linear_model/_coordinate_descent.py:472: ConvergenceWarning: Objective did not converge. You might want to increase the number of iterations. Duality gap: 687788.6873235309, tolerance: 198.5550285881118\n",
      "  tol, rng, random, positive)\n",
      "/Users/kevinrader/opt/anaconda3/lib/python3.7/site-packages/sklearn/linear_model/_coordinate_descent.py:472: ConvergenceWarning: Objective did not converge. You might want to increase the number of iterations. Duality gap: 687520.076573064, tolerance: 198.5550285881118\n",
      "  tol, rng, random, positive)\n",
      "/Users/kevinrader/opt/anaconda3/lib/python3.7/site-packages/sklearn/linear_model/_coordinate_descent.py:472: ConvergenceWarning: Objective did not converge. You might want to increase the number of iterations. Duality gap: 687328.2731265386, tolerance: 198.5550285881118\n",
      "  tol, rng, random, positive)\n",
      "/Users/kevinrader/opt/anaconda3/lib/python3.7/site-packages/sklearn/linear_model/_coordinate_descent.py:472: ConvergenceWarning: Objective did not converge. You might want to increase the number of iterations. Duality gap: 687189.8826792601, tolerance: 198.5550285881118\n",
      "  tol, rng, random, positive)\n",
      "/Users/kevinrader/opt/anaconda3/lib/python3.7/site-packages/sklearn/linear_model/_coordinate_descent.py:472: ConvergenceWarning: Objective did not converge. You might want to increase the number of iterations. Duality gap: 687088.2160657457, tolerance: 198.5550285881118\n",
      "  tol, rng, random, positive)\n",
      "/Users/kevinrader/opt/anaconda3/lib/python3.7/site-packages/sklearn/linear_model/_coordinate_descent.py:472: ConvergenceWarning: Objective did not converge. You might want to increase the number of iterations. Duality gap: 1596.611585425213, tolerance: 207.5340693148858\n",
      "  tol, rng, random, positive)\n",
      "/Users/kevinrader/opt/anaconda3/lib/python3.7/site-packages/sklearn/linear_model/_coordinate_descent.py:472: ConvergenceWarning: Objective did not converge. You might want to increase the number of iterations. Duality gap: 40390.93406907772, tolerance: 207.5340693148858\n",
      "  tol, rng, random, positive)\n",
      "/Users/kevinrader/opt/anaconda3/lib/python3.7/site-packages/sklearn/linear_model/_coordinate_descent.py:472: ConvergenceWarning: Objective did not converge. You might want to increase the number of iterations. Duality gap: 1656.798992216587, tolerance: 207.5340693148858\n",
      "  tol, rng, random, positive)\n",
      "/Users/kevinrader/opt/anaconda3/lib/python3.7/site-packages/sklearn/linear_model/_coordinate_descent.py:472: ConvergenceWarning: Objective did not converge. You might want to increase the number of iterations. Duality gap: 7217.944304349134, tolerance: 207.5340693148858\n",
      "  tol, rng, random, positive)\n",
      "/Users/kevinrader/opt/anaconda3/lib/python3.7/site-packages/sklearn/linear_model/_coordinate_descent.py:472: ConvergenceWarning: Objective did not converge. You might want to increase the number of iterations. Duality gap: 603522.0753201757, tolerance: 207.5340693148858\n",
      "  tol, rng, random, positive)\n",
      "/Users/kevinrader/opt/anaconda3/lib/python3.7/site-packages/sklearn/linear_model/_coordinate_descent.py:472: ConvergenceWarning: Objective did not converge. You might want to increase the number of iterations. Duality gap: 682077.1042324612, tolerance: 207.5340693148858\n",
      "  tol, rng, random, positive)\n",
      "/Users/kevinrader/opt/anaconda3/lib/python3.7/site-packages/sklearn/linear_model/_coordinate_descent.py:472: ConvergenceWarning: Objective did not converge. You might want to increase the number of iterations. Duality gap: 692377.5335075947, tolerance: 207.5340693148858\n",
      "  tol, rng, random, positive)\n",
      "/Users/kevinrader/opt/anaconda3/lib/python3.7/site-packages/sklearn/linear_model/_coordinate_descent.py:472: ConvergenceWarning: Objective did not converge. You might want to increase the number of iterations. Duality gap: 590886.8232795463, tolerance: 207.5340693148858\n",
      "  tol, rng, random, positive)\n",
      "/Users/kevinrader/opt/anaconda3/lib/python3.7/site-packages/sklearn/linear_model/_coordinate_descent.py:472: ConvergenceWarning: Objective did not converge. You might want to increase the number of iterations. Duality gap: 707567.2004609782, tolerance: 207.5340693148858\n",
      "  tol, rng, random, positive)\n",
      "/Users/kevinrader/opt/anaconda3/lib/python3.7/site-packages/sklearn/linear_model/_coordinate_descent.py:472: ConvergenceWarning: Objective did not converge. You might want to increase the number of iterations. Duality gap: 715168.747143084, tolerance: 207.5340693148858\n",
      "  tol, rng, random, positive)\n",
      "/Users/kevinrader/opt/anaconda3/lib/python3.7/site-packages/sklearn/linear_model/_coordinate_descent.py:472: ConvergenceWarning: Objective did not converge. You might want to increase the number of iterations. Duality gap: 714423.1370393971, tolerance: 207.5340693148858\n",
      "  tol, rng, random, positive)\n",
      "/Users/kevinrader/opt/anaconda3/lib/python3.7/site-packages/sklearn/linear_model/_coordinate_descent.py:472: ConvergenceWarning: Objective did not converge. You might want to increase the number of iterations. Duality gap: 712882.8042113616, tolerance: 207.5340693148858\n",
      "  tol, rng, random, positive)\n",
      "/Users/kevinrader/opt/anaconda3/lib/python3.7/site-packages/sklearn/linear_model/_coordinate_descent.py:472: ConvergenceWarning: Objective did not converge. You might want to increase the number of iterations. Duality gap: 711910.1616381323, tolerance: 207.5340693148858\n",
      "  tol, rng, random, positive)\n",
      "/Users/kevinrader/opt/anaconda3/lib/python3.7/site-packages/sklearn/linear_model/_coordinate_descent.py:472: ConvergenceWarning: Objective did not converge. You might want to increase the number of iterations. Duality gap: 711425.4515743798, tolerance: 207.5340693148858\n",
      "  tol, rng, random, positive)\n",
      "/Users/kevinrader/opt/anaconda3/lib/python3.7/site-packages/sklearn/linear_model/_coordinate_descent.py:472: ConvergenceWarning: Objective did not converge. You might want to increase the number of iterations. Duality gap: 711246.8555232696, tolerance: 207.5340693148858\n",
      "  tol, rng, random, positive)\n",
      "/Users/kevinrader/opt/anaconda3/lib/python3.7/site-packages/sklearn/linear_model/_coordinate_descent.py:472: ConvergenceWarning: Objective did not converge. You might want to increase the number of iterations. Duality gap: 711180.7848942053, tolerance: 207.5340693148858\n",
      "  tol, rng, random, positive)\n",
      "/Users/kevinrader/opt/anaconda3/lib/python3.7/site-packages/sklearn/linear_model/_coordinate_descent.py:472: ConvergenceWarning: Objective did not converge. You might want to increase the number of iterations. Duality gap: 711150.8396590786, tolerance: 207.5340693148858\n",
      "  tol, rng, random, positive)\n",
      "/Users/kevinrader/opt/anaconda3/lib/python3.7/site-packages/sklearn/linear_model/_coordinate_descent.py:472: ConvergenceWarning: Objective did not converge. You might want to increase the number of iterations. Duality gap: 711131.6427217692, tolerance: 207.5340693148858\n",
      "  tol, rng, random, positive)\n",
      "/Users/kevinrader/opt/anaconda3/lib/python3.7/site-packages/sklearn/linear_model/_coordinate_descent.py:472: ConvergenceWarning: Objective did not converge. You might want to increase the number of iterations. Duality gap: 711115.6608680857, tolerance: 207.5340693148858\n",
      "  tol, rng, random, positive)\n",
      "/Users/kevinrader/opt/anaconda3/lib/python3.7/site-packages/sklearn/linear_model/_coordinate_descent.py:472: ConvergenceWarning: Objective did not converge. You might want to increase the number of iterations. Duality gap: 711100.5653097103, tolerance: 207.5340693148858\n",
      "  tol, rng, random, positive)\n",
      "/Users/kevinrader/opt/anaconda3/lib/python3.7/site-packages/sklearn/linear_model/_coordinate_descent.py:472: ConvergenceWarning: Objective did not converge. You might want to increase the number of iterations. Duality gap: 5572.957339910325, tolerance: 189.75108173476332\n",
      "  tol, rng, random, positive)\n",
      "/Users/kevinrader/opt/anaconda3/lib/python3.7/site-packages/sklearn/linear_model/_coordinate_descent.py:472: ConvergenceWarning: Objective did not converge. You might want to increase the number of iterations. Duality gap: 32221.54392800154, tolerance: 189.75108173476332\n",
      "  tol, rng, random, positive)\n",
      "/Users/kevinrader/opt/anaconda3/lib/python3.7/site-packages/sklearn/linear_model/_coordinate_descent.py:472: ConvergenceWarning: Objective did not converge. You might want to increase the number of iterations. Duality gap: 2024.128993072547, tolerance: 189.75108173476332\n",
      "  tol, rng, random, positive)\n",
      "/Users/kevinrader/opt/anaconda3/lib/python3.7/site-packages/sklearn/linear_model/_coordinate_descent.py:472: ConvergenceWarning: Objective did not converge. You might want to increase the number of iterations. Duality gap: 119630.21588104323, tolerance: 189.75108173476332\n",
      "  tol, rng, random, positive)\n",
      "/Users/kevinrader/opt/anaconda3/lib/python3.7/site-packages/sklearn/linear_model/_coordinate_descent.py:472: ConvergenceWarning: Objective did not converge. You might want to increase the number of iterations. Duality gap: 520631.6929801428, tolerance: 189.75108173476332\n",
      "  tol, rng, random, positive)\n",
      "/Users/kevinrader/opt/anaconda3/lib/python3.7/site-packages/sklearn/linear_model/_coordinate_descent.py:472: ConvergenceWarning: Objective did not converge. You might want to increase the number of iterations. Duality gap: 568165.3972431008, tolerance: 189.75108173476332\n",
      "  tol, rng, random, positive)\n",
      "/Users/kevinrader/opt/anaconda3/lib/python3.7/site-packages/sklearn/linear_model/_coordinate_descent.py:472: ConvergenceWarning: Objective did not converge. You might want to increase the number of iterations. Duality gap: 569426.271602439, tolerance: 189.75108173476332\n",
      "  tol, rng, random, positive)\n",
      "/Users/kevinrader/opt/anaconda3/lib/python3.7/site-packages/sklearn/linear_model/_coordinate_descent.py:472: ConvergenceWarning: Objective did not converge. You might want to increase the number of iterations. Duality gap: 564634.5156958784, tolerance: 189.75108173476332\n",
      "  tol, rng, random, positive)\n",
      "/Users/kevinrader/opt/anaconda3/lib/python3.7/site-packages/sklearn/linear_model/_coordinate_descent.py:472: ConvergenceWarning: Objective did not converge. You might want to increase the number of iterations. Duality gap: 585790.7021714075, tolerance: 189.75108173476332\n",
      "  tol, rng, random, positive)\n",
      "/Users/kevinrader/opt/anaconda3/lib/python3.7/site-packages/sklearn/linear_model/_coordinate_descent.py:472: ConvergenceWarning: Objective did not converge. You might want to increase the number of iterations. Duality gap: 582798.178592374, tolerance: 189.75108173476332\n",
      "  tol, rng, random, positive)\n",
      "/Users/kevinrader/opt/anaconda3/lib/python3.7/site-packages/sklearn/linear_model/_coordinate_descent.py:472: ConvergenceWarning: Objective did not converge. You might want to increase the number of iterations. Duality gap: 577681.8294379417, tolerance: 189.75108173476332\n",
      "  tol, rng, random, positive)\n",
      "/Users/kevinrader/opt/anaconda3/lib/python3.7/site-packages/sklearn/linear_model/_coordinate_descent.py:472: ConvergenceWarning: Objective did not converge. You might want to increase the number of iterations. Duality gap: 574180.524385282, tolerance: 189.75108173476332\n",
      "  tol, rng, random, positive)\n",
      "/Users/kevinrader/opt/anaconda3/lib/python3.7/site-packages/sklearn/linear_model/_coordinate_descent.py:472: ConvergenceWarning: Objective did not converge. You might want to increase the number of iterations. Duality gap: 572330.1625929184, tolerance: 189.75108173476332\n",
      "  tol, rng, random, positive)\n",
      "/Users/kevinrader/opt/anaconda3/lib/python3.7/site-packages/sklearn/linear_model/_coordinate_descent.py:472: ConvergenceWarning: Objective did not converge. You might want to increase the number of iterations. Duality gap: 571464.2428204212, tolerance: 189.75108173476332\n",
      "  tol, rng, random, positive)\n",
      "/Users/kevinrader/opt/anaconda3/lib/python3.7/site-packages/sklearn/linear_model/_coordinate_descent.py:472: ConvergenceWarning: Objective did not converge. You might want to increase the number of iterations. Duality gap: 571101.8081290167, tolerance: 189.75108173476332\n",
      "  tol, rng, random, positive)\n",
      "/Users/kevinrader/opt/anaconda3/lib/python3.7/site-packages/sklearn/linear_model/_coordinate_descent.py:472: ConvergenceWarning: Objective did not converge. You might want to increase the number of iterations. Duality gap: 570939.9204850779, tolerance: 189.75108173476332\n",
      "  tol, rng, random, positive)\n",
      "/Users/kevinrader/opt/anaconda3/lib/python3.7/site-packages/sklearn/linear_model/_coordinate_descent.py:472: ConvergenceWarning: Objective did not converge. You might want to increase the number of iterations. Duality gap: 570859.2525273194, tolerance: 189.75108173476332\n",
      "  tol, rng, random, positive)\n",
      "/Users/kevinrader/opt/anaconda3/lib/python3.7/site-packages/sklearn/linear_model/_coordinate_descent.py:472: ConvergenceWarning: Objective did not converge. You might want to increase the number of iterations. Duality gap: 570805.6071127512, tolerance: 189.75108173476332\n",
      "  tol, rng, random, positive)\n",
      "/Users/kevinrader/opt/anaconda3/lib/python3.7/site-packages/sklearn/linear_model/_coordinate_descent.py:472: ConvergenceWarning: Objective did not converge. You might want to increase the number of iterations. Duality gap: 570765.552530647, tolerance: 189.75108173476332\n",
      "  tol, rng, random, positive)\n",
      "/Users/kevinrader/opt/anaconda3/lib/python3.7/site-packages/sklearn/linear_model/_coordinate_descent.py:472: ConvergenceWarning: Objective did not converge. You might want to increase the number of iterations. Duality gap: 570733.6254406961, tolerance: 189.75108173476332\n",
      "  tol, rng, random, positive)\n",
      "/Users/kevinrader/opt/anaconda3/lib/python3.7/site-packages/sklearn/linear_model/_coordinate_descent.py:476: ConvergenceWarning: Objective did not converge. You might want to increase the number of iterations. Duality gap: 834327.8390621013, tolerance: 249.90114090421835\n",
      "  positive)\n"
     ]
    }
   ],
   "source": [
    "######\n",
    "# your code here\n",
    "######\n",
    "\n",
    "alphas = np.exp(np.arange(-10,20,1))\n",
    "ridges = RidgeCV(alphas=alphas,fit_intercept=True,cv=5).fit(X_minority_poly, train['votergap'])\n",
    "\n",
    "lassos = LassoCV(alphas=alphas,fit_intercept=True,cv=5).fit(X_minority_poly, train['votergap'])\n"
   ]
  },
  {
   "cell_type": "code",
   "execution_count": 24,
   "metadata": {},
   "outputs": [
    {
     "name": "stdout",
     "output_type": "stream",
     "text": [
      "R-sq on test for Ridge: 0.30560000540602017\n",
      "Best Ridge Model: Intercept = 48.080962294251094 Coefficients = [-0.06930236 -0.12984712 -0.19618995 -0.25335745 -0.25323136 -0.12940294\n",
      "  0.07688495  0.04696065 -0.02388128  0.00260426]\n"
     ]
    },
    {
     "data": {
      "text/plain": [
       "8103.083927575384"
      ]
     },
     "execution_count": 24,
     "metadata": {},
     "output_type": "execute_result"
    }
   ],
   "source": [
    "print(\"R-sq on test for Ridge:\",ridges.score(X_minority_poly_test, test['votergap']))\n",
    "print(\"Best Ridge Model: Intercept =\",ridges.intercept_ , \"Coefficients =\",ridges.coef_)\n",
    "ridges.alpha_"
   ]
  },
  {
   "cell_type": "code",
   "execution_count": 25,
   "metadata": {},
   "outputs": [
    {
     "name": "stdout",
     "output_type": "stream",
     "text": [
      "R-sq on test for LASSO: 0.3118319090485964\n",
      "Best LASSO Model: Intercept = 56.31513616494624 Coefficients = [-5.73152186e+00 -3.21496974e+00  3.82776917e-01  1.43781863e-01\n",
      "  4.65974255e-03 -3.50946675e-03 -1.25860459e-03 -2.61655789e-04\n",
      " -3.23441547e-05  1.86085330e-06]\n"
     ]
    },
    {
     "data": {
      "text/plain": [
       "0.049787068367863944"
      ]
     },
     "execution_count": 25,
     "metadata": {},
     "output_type": "execute_result"
    }
   ],
   "source": [
    "print(\"R-sq on test for LASSO:\",lassos.score(X_minority_poly_test, test['votergap']))\n",
    "print(\"Best LASSO Model: Intercept =\",lassos.intercept_ , \"Coefficients =\",lassos.coef_)\n",
    "lassos.alpha_"
   ]
  },
  {
   "cell_type": "markdown",
   "metadata": {},
   "source": [
    "**Q4.2** How do the best choices of $\\alpha$ compare for Ridge and LASSO?  Why is this not surprising, mathematically?"
   ]
  },
  {
   "cell_type": "markdown",
   "metadata": {},
   "source": [
    "**Solution:**\n",
    "\n",
    "The value for $\\alpha$ is much smaller for LASSO than Ridge.  This is simply due to the fact that the way `sklearn` has implemented these penalty terms is not standard, as LASSO penalizes MSE while Ridge penalizes SSE in sklearn (see documentation [here](https://scikit-learn.org/stable/modules/linear_model.html)).  They are not comparable to each other since they are using different units (Ridge is in squared units, LASSO in standard units)."
   ]
  },
  {
   "cell_type": "markdown",
   "metadata": {},
   "source": [
    "**Q4.3** Why is it important to not include the bias term when creating the design matrices?  Why is it important to standardize the predictors?  Were these precautions taken here?"
   ]
  },
  {
   "cell_type": "markdown",
   "metadata": {},
   "source": [
    "**Solution:**\n",
    "\n",
    "Bias (the intercept) chould not be included in the penalty term because the default model should be the one with just the intercept when all the other $\\beta$ coefficient estimates are *shrunk* to zero.  This equates to using $\\bar{y}$ as the best prediction model (see below).\n",
    "\n",
    "Standardizing the predictors leads to putting them all on the same scale (where 1 unit is 1 standard deviation).  Thus the units of the predictors will not have an effect on how they are shrunk relative to one another (predictors with smaller standard deviations would be shrunk quicker if not standardized).  This precaution was not done here.\n"
   ]
  },
  {
   "cell_type": "code",
   "execution_count": 26,
   "metadata": {},
   "outputs": [
    {
     "name": "stdout",
     "output_type": "stream",
     "text": [
      "31.861961834352066\n",
      "31.861961832061073\n"
     ]
    }
   ],
   "source": [
    "print(Ridge(alpha=10**24,fit_intercept=True).fit(X_minority_poly , train['votergap']).intercept_)\n",
    "print(np.mean(train['votergap']))"
   ]
  },
  {
   "cell_type": "markdown",
   "metadata": {},
   "source": [
    "**Q4.4** Fit a well-tuned regularization model on the overly parameterized design matrix `X_over`.  How does this perform on the test set?"
   ]
  },
  {
   "cell_type": "code",
   "execution_count": 27,
   "metadata": {},
   "outputs": [
    {
     "name": "stderr",
     "output_type": "stream",
     "text": [
      "/Users/kevinrader/opt/anaconda3/lib/python3.7/site-packages/sklearn/linear_model/_ridge.py:148: LinAlgWarning: Ill-conditioned matrix (rcond=8.10499e-47): result may not be accurate.\n",
      "  overwrite_a=True).T\n",
      "/Users/kevinrader/opt/anaconda3/lib/python3.7/site-packages/sklearn/linear_model/_ridge.py:148: LinAlgWarning: Ill-conditioned matrix (rcond=8.81289e-47): result may not be accurate.\n",
      "  overwrite_a=True).T\n",
      "/Users/kevinrader/opt/anaconda3/lib/python3.7/site-packages/sklearn/linear_model/_ridge.py:148: LinAlgWarning: Ill-conditioned matrix (rcond=9.3307e-47): result may not be accurate.\n",
      "  overwrite_a=True).T\n",
      "/Users/kevinrader/opt/anaconda3/lib/python3.7/site-packages/sklearn/linear_model/_ridge.py:148: LinAlgWarning: Ill-conditioned matrix (rcond=7.21436e-47): result may not be accurate.\n",
      "  overwrite_a=True).T\n",
      "/Users/kevinrader/opt/anaconda3/lib/python3.7/site-packages/sklearn/linear_model/_ridge.py:148: LinAlgWarning: Ill-conditioned matrix (rcond=1.10235e-46): result may not be accurate.\n",
      "  overwrite_a=True).T\n",
      "/Users/kevinrader/opt/anaconda3/lib/python3.7/site-packages/sklearn/linear_model/_ridge.py:148: LinAlgWarning: Ill-conditioned matrix (rcond=2.45204e-46): result may not be accurate.\n",
      "  overwrite_a=True).T\n",
      "/Users/kevinrader/opt/anaconda3/lib/python3.7/site-packages/sklearn/linear_model/_ridge.py:148: LinAlgWarning: Ill-conditioned matrix (rcond=2.52708e-46): result may not be accurate.\n",
      "  overwrite_a=True).T\n",
      "/Users/kevinrader/opt/anaconda3/lib/python3.7/site-packages/sklearn/linear_model/_ridge.py:148: LinAlgWarning: Ill-conditioned matrix (rcond=2.19565e-46): result may not be accurate.\n",
      "  overwrite_a=True).T\n",
      "/Users/kevinrader/opt/anaconda3/lib/python3.7/site-packages/sklearn/linear_model/_ridge.py:148: LinAlgWarning: Ill-conditioned matrix (rcond=1.97683e-46): result may not be accurate.\n",
      "  overwrite_a=True).T\n",
      "/Users/kevinrader/opt/anaconda3/lib/python3.7/site-packages/sklearn/linear_model/_ridge.py:148: LinAlgWarning: Ill-conditioned matrix (rcond=3.03793e-46): result may not be accurate.\n",
      "  overwrite_a=True).T\n",
      "/Users/kevinrader/opt/anaconda3/lib/python3.7/site-packages/sklearn/linear_model/_ridge.py:148: LinAlgWarning: Ill-conditioned matrix (rcond=6.80688e-46): result may not be accurate.\n",
      "  overwrite_a=True).T\n",
      "/Users/kevinrader/opt/anaconda3/lib/python3.7/site-packages/sklearn/linear_model/_ridge.py:148: LinAlgWarning: Ill-conditioned matrix (rcond=7.23531e-46): result may not be accurate.\n",
      "  overwrite_a=True).T\n",
      "/Users/kevinrader/opt/anaconda3/lib/python3.7/site-packages/sklearn/linear_model/_ridge.py:148: LinAlgWarning: Ill-conditioned matrix (rcond=7.95031e-46): result may not be accurate.\n",
      "  overwrite_a=True).T\n",
      "/Users/kevinrader/opt/anaconda3/lib/python3.7/site-packages/sklearn/linear_model/_ridge.py:148: LinAlgWarning: Ill-conditioned matrix (rcond=5.35626e-46): result may not be accurate.\n",
      "  overwrite_a=True).T\n",
      "/Users/kevinrader/opt/anaconda3/lib/python3.7/site-packages/sklearn/linear_model/_ridge.py:148: LinAlgWarning: Ill-conditioned matrix (rcond=8.91026e-46): result may not be accurate.\n",
      "  overwrite_a=True).T\n",
      "/Users/kevinrader/opt/anaconda3/lib/python3.7/site-packages/sklearn/linear_model/_ridge.py:148: LinAlgWarning: Ill-conditioned matrix (rcond=1.95902e-45): result may not be accurate.\n",
      "  overwrite_a=True).T\n",
      "/Users/kevinrader/opt/anaconda3/lib/python3.7/site-packages/sklearn/linear_model/_ridge.py:148: LinAlgWarning: Ill-conditioned matrix (rcond=2.11632e-45): result may not be accurate.\n",
      "  overwrite_a=True).T\n",
      "/Users/kevinrader/opt/anaconda3/lib/python3.7/site-packages/sklearn/linear_model/_ridge.py:148: LinAlgWarning: Ill-conditioned matrix (rcond=1.69733e-45): result may not be accurate.\n",
      "  overwrite_a=True).T\n",
      "/Users/kevinrader/opt/anaconda3/lib/python3.7/site-packages/sklearn/linear_model/_ridge.py:148: LinAlgWarning: Ill-conditioned matrix (rcond=1.95541e-45): result may not be accurate.\n",
      "  overwrite_a=True).T\n",
      "/Users/kevinrader/opt/anaconda3/lib/python3.7/site-packages/sklearn/linear_model/_ridge.py:148: LinAlgWarning: Ill-conditioned matrix (rcond=1.96186e-45): result may not be accurate.\n",
      "  overwrite_a=True).T\n",
      "/Users/kevinrader/opt/anaconda3/lib/python3.7/site-packages/sklearn/linear_model/_ridge.py:148: LinAlgWarning: Ill-conditioned matrix (rcond=3.35175e-45): result may not be accurate.\n",
      "  overwrite_a=True).T\n",
      "/Users/kevinrader/opt/anaconda3/lib/python3.7/site-packages/sklearn/linear_model/_ridge.py:148: LinAlgWarning: Ill-conditioned matrix (rcond=3.53467e-45): result may not be accurate.\n",
      "  overwrite_a=True).T\n",
      "/Users/kevinrader/opt/anaconda3/lib/python3.7/site-packages/sklearn/linear_model/_ridge.py:148: LinAlgWarning: Ill-conditioned matrix (rcond=3.76604e-45): result may not be accurate.\n",
      "  overwrite_a=True).T\n",
      "/Users/kevinrader/opt/anaconda3/lib/python3.7/site-packages/sklearn/linear_model/_ridge.py:148: LinAlgWarning: Ill-conditioned matrix (rcond=3.46102e-45): result may not be accurate.\n",
      "  overwrite_a=True).T\n",
      "/Users/kevinrader/opt/anaconda3/lib/python3.7/site-packages/sklearn/linear_model/_ridge.py:148: LinAlgWarning: Ill-conditioned matrix (rcond=4.53129e-45): result may not be accurate.\n",
      "  overwrite_a=True).T\n",
      "/Users/kevinrader/opt/anaconda3/lib/python3.7/site-packages/sklearn/linear_model/_ridge.py:148: LinAlgWarning: Ill-conditioned matrix (rcond=8.06999e-45): result may not be accurate.\n",
      "  overwrite_a=True).T\n",
      "/Users/kevinrader/opt/anaconda3/lib/python3.7/site-packages/sklearn/linear_model/_ridge.py:148: LinAlgWarning: Ill-conditioned matrix (rcond=8.43537e-45): result may not be accurate.\n",
      "  overwrite_a=True).T\n",
      "/Users/kevinrader/opt/anaconda3/lib/python3.7/site-packages/sklearn/linear_model/_ridge.py:148: LinAlgWarning: Ill-conditioned matrix (rcond=8.51373e-45): result may not be accurate.\n",
      "  overwrite_a=True).T\n",
      "/Users/kevinrader/opt/anaconda3/lib/python3.7/site-packages/sklearn/linear_model/_ridge.py:148: LinAlgWarning: Ill-conditioned matrix (rcond=7.30553e-45): result may not be accurate.\n",
      "  overwrite_a=True).T\n",
      "/Users/kevinrader/opt/anaconda3/lib/python3.7/site-packages/sklearn/linear_model/_ridge.py:148: LinAlgWarning: Ill-conditioned matrix (rcond=1.10752e-44): result may not be accurate.\n",
      "  overwrite_a=True).T\n",
      "/Users/kevinrader/opt/anaconda3/lib/python3.7/site-packages/sklearn/linear_model/_ridge.py:148: LinAlgWarning: Ill-conditioned matrix (rcond=1.9445e-44): result may not be accurate.\n",
      "  overwrite_a=True).T\n",
      "/Users/kevinrader/opt/anaconda3/lib/python3.7/site-packages/sklearn/linear_model/_ridge.py:148: LinAlgWarning: Ill-conditioned matrix (rcond=2.5855e-44): result may not be accurate.\n",
      "  overwrite_a=True).T\n",
      "/Users/kevinrader/opt/anaconda3/lib/python3.7/site-packages/sklearn/linear_model/_ridge.py:148: LinAlgWarning: Ill-conditioned matrix (rcond=2.22418e-44): result may not be accurate.\n",
      "  overwrite_a=True).T\n",
      "/Users/kevinrader/opt/anaconda3/lib/python3.7/site-packages/sklearn/linear_model/_ridge.py:148: LinAlgWarning: Ill-conditioned matrix (rcond=1.89399e-44): result may not be accurate.\n",
      "  overwrite_a=True).T\n",
      "/Users/kevinrader/opt/anaconda3/lib/python3.7/site-packages/sklearn/linear_model/_ridge.py:148: LinAlgWarning: Ill-conditioned matrix (rcond=3.00881e-44): result may not be accurate.\n",
      "  overwrite_a=True).T\n",
      "/Users/kevinrader/opt/anaconda3/lib/python3.7/site-packages/sklearn/linear_model/_ridge.py:148: LinAlgWarning: Ill-conditioned matrix (rcond=5.10104e-44): result may not be accurate.\n",
      "  overwrite_a=True).T\n",
      "/Users/kevinrader/opt/anaconda3/lib/python3.7/site-packages/sklearn/linear_model/_ridge.py:148: LinAlgWarning: Ill-conditioned matrix (rcond=5.23578e-44): result may not be accurate.\n",
      "  overwrite_a=True).T\n",
      "/Users/kevinrader/opt/anaconda3/lib/python3.7/site-packages/sklearn/linear_model/_ridge.py:148: LinAlgWarning: Ill-conditioned matrix (rcond=5.47701e-44): result may not be accurate.\n",
      "  overwrite_a=True).T\n",
      "/Users/kevinrader/opt/anaconda3/lib/python3.7/site-packages/sklearn/linear_model/_ridge.py:148: LinAlgWarning: Ill-conditioned matrix (rcond=4.63379e-44): result may not be accurate.\n",
      "  overwrite_a=True).T\n",
      "/Users/kevinrader/opt/anaconda3/lib/python3.7/site-packages/sklearn/linear_model/_ridge.py:148: LinAlgWarning: Ill-conditioned matrix (rcond=8.12964e-44): result may not be accurate.\n",
      "  overwrite_a=True).T\n"
     ]
    },
    {
     "name": "stderr",
     "output_type": "stream",
     "text": [
      "/Users/kevinrader/opt/anaconda3/lib/python3.7/site-packages/sklearn/linear_model/_ridge.py:148: LinAlgWarning: Ill-conditioned matrix (rcond=1.2551e-43): result may not be accurate.\n",
      "  overwrite_a=True).T\n",
      "/Users/kevinrader/opt/anaconda3/lib/python3.7/site-packages/sklearn/linear_model/_ridge.py:148: LinAlgWarning: Ill-conditioned matrix (rcond=1.30683e-43): result may not be accurate.\n",
      "  overwrite_a=True).T\n",
      "/Users/kevinrader/opt/anaconda3/lib/python3.7/site-packages/sklearn/linear_model/_ridge.py:148: LinAlgWarning: Ill-conditioned matrix (rcond=1.5933e-43): result may not be accurate.\n",
      "  overwrite_a=True).T\n",
      "/Users/kevinrader/opt/anaconda3/lib/python3.7/site-packages/sklearn/linear_model/_ridge.py:148: LinAlgWarning: Ill-conditioned matrix (rcond=1.39966e-43): result may not be accurate.\n",
      "  overwrite_a=True).T\n",
      "/Users/kevinrader/opt/anaconda3/lib/python3.7/site-packages/sklearn/linear_model/_ridge.py:148: LinAlgWarning: Ill-conditioned matrix (rcond=2.05496e-43): result may not be accurate.\n",
      "  overwrite_a=True).T\n",
      "/Users/kevinrader/opt/anaconda3/lib/python3.7/site-packages/sklearn/linear_model/_ridge.py:148: LinAlgWarning: Ill-conditioned matrix (rcond=3.56645e-43): result may not be accurate.\n",
      "  overwrite_a=True).T\n",
      "/Users/kevinrader/opt/anaconda3/lib/python3.7/site-packages/sklearn/linear_model/_ridge.py:148: LinAlgWarning: Ill-conditioned matrix (rcond=3.49875e-43): result may not be accurate.\n",
      "  overwrite_a=True).T\n",
      "/Users/kevinrader/opt/anaconda3/lib/python3.7/site-packages/sklearn/linear_model/_ridge.py:148: LinAlgWarning: Ill-conditioned matrix (rcond=3.59445e-43): result may not be accurate.\n",
      "  overwrite_a=True).T\n",
      "/Users/kevinrader/opt/anaconda3/lib/python3.7/site-packages/sklearn/linear_model/_ridge.py:148: LinAlgWarning: Ill-conditioned matrix (rcond=3.28459e-43): result may not be accurate.\n",
      "  overwrite_a=True).T\n",
      "/Users/kevinrader/opt/anaconda3/lib/python3.7/site-packages/sklearn/linear_model/_ridge.py:148: LinAlgWarning: Ill-conditioned matrix (rcond=5.45104e-43): result may not be accurate.\n",
      "  overwrite_a=True).T\n",
      "/Users/kevinrader/opt/anaconda3/lib/python3.7/site-packages/sklearn/linear_model/_ridge.py:148: LinAlgWarning: Ill-conditioned matrix (rcond=8.60524e-43): result may not be accurate.\n",
      "  overwrite_a=True).T\n",
      "/Users/kevinrader/opt/anaconda3/lib/python3.7/site-packages/sklearn/linear_model/_ridge.py:148: LinAlgWarning: Ill-conditioned matrix (rcond=8.42384e-43): result may not be accurate.\n",
      "  overwrite_a=True).T\n",
      "/Users/kevinrader/opt/anaconda3/lib/python3.7/site-packages/sklearn/linear_model/_ridge.py:148: LinAlgWarning: Ill-conditioned matrix (rcond=8.94994e-43): result may not be accurate.\n",
      "  overwrite_a=True).T\n",
      "/Users/kevinrader/opt/anaconda3/lib/python3.7/site-packages/sklearn/linear_model/_ridge.py:148: LinAlgWarning: Ill-conditioned matrix (rcond=9.09391e-43): result may not be accurate.\n",
      "  overwrite_a=True).T\n",
      "/Users/kevinrader/opt/anaconda3/lib/python3.7/site-packages/sklearn/linear_model/_ridge.py:148: LinAlgWarning: Ill-conditioned matrix (rcond=1.5241e-42): result may not be accurate.\n",
      "  overwrite_a=True).T\n",
      "/Users/kevinrader/opt/anaconda3/lib/python3.7/site-packages/sklearn/linear_model/_ridge.py:148: LinAlgWarning: Ill-conditioned matrix (rcond=2.25173e-42): result may not be accurate.\n",
      "  overwrite_a=True).T\n",
      "/Users/kevinrader/opt/anaconda3/lib/python3.7/site-packages/sklearn/linear_model/_ridge.py:148: LinAlgWarning: Ill-conditioned matrix (rcond=2.28886e-42): result may not be accurate.\n",
      "  overwrite_a=True).T\n",
      "/Users/kevinrader/opt/anaconda3/lib/python3.7/site-packages/sklearn/linear_model/_ridge.py:148: LinAlgWarning: Ill-conditioned matrix (rcond=2.43191e-42): result may not be accurate.\n",
      "  overwrite_a=True).T\n",
      "/Users/kevinrader/opt/anaconda3/lib/python3.7/site-packages/sklearn/linear_model/_ridge.py:148: LinAlgWarning: Ill-conditioned matrix (rcond=2.26843e-42): result may not be accurate.\n",
      "  overwrite_a=True).T\n",
      "/Users/kevinrader/opt/anaconda3/lib/python3.7/site-packages/sklearn/linear_model/_ridge.py:148: LinAlgWarning: Ill-conditioned matrix (rcond=3.30038e-42): result may not be accurate.\n",
      "  overwrite_a=True).T\n",
      "/Users/kevinrader/opt/anaconda3/lib/python3.7/site-packages/sklearn/linear_model/_ridge.py:148: LinAlgWarning: Ill-conditioned matrix (rcond=6.03431e-42): result may not be accurate.\n",
      "  overwrite_a=True).T\n",
      "/Users/kevinrader/opt/anaconda3/lib/python3.7/site-packages/sklearn/linear_model/_ridge.py:148: LinAlgWarning: Ill-conditioned matrix (rcond=6.15983e-42): result may not be accurate.\n",
      "  overwrite_a=True).T\n",
      "/Users/kevinrader/opt/anaconda3/lib/python3.7/site-packages/sklearn/linear_model/_ridge.py:148: LinAlgWarning: Ill-conditioned matrix (rcond=8.29688e-42): result may not be accurate.\n",
      "  overwrite_a=True).T\n",
      "/Users/kevinrader/opt/anaconda3/lib/python3.7/site-packages/sklearn/linear_model/_ridge.py:148: LinAlgWarning: Ill-conditioned matrix (rcond=5.72541e-42): result may not be accurate.\n",
      "  overwrite_a=True).T\n",
      "/Users/kevinrader/opt/anaconda3/lib/python3.7/site-packages/sklearn/linear_model/_ridge.py:148: LinAlgWarning: Ill-conditioned matrix (rcond=1.21578e-41): result may not be accurate.\n",
      "  overwrite_a=True).T\n",
      "/Users/kevinrader/opt/anaconda3/lib/python3.7/site-packages/sklearn/linear_model/_ridge.py:148: LinAlgWarning: Ill-conditioned matrix (rcond=1.62257e-41): result may not be accurate.\n",
      "  overwrite_a=True).T\n",
      "/Users/kevinrader/opt/anaconda3/lib/python3.7/site-packages/sklearn/linear_model/_ridge.py:148: LinAlgWarning: Ill-conditioned matrix (rcond=1.59671e-41): result may not be accurate.\n",
      "  overwrite_a=True).T\n",
      "/Users/kevinrader/opt/anaconda3/lib/python3.7/site-packages/sklearn/linear_model/_ridge.py:148: LinAlgWarning: Ill-conditioned matrix (rcond=1.77933e-41): result may not be accurate.\n",
      "  overwrite_a=True).T\n",
      "/Users/kevinrader/opt/anaconda3/lib/python3.7/site-packages/sklearn/linear_model/_ridge.py:148: LinAlgWarning: Ill-conditioned matrix (rcond=1.62482e-41): result may not be accurate.\n",
      "  overwrite_a=True).T\n",
      "/Users/kevinrader/opt/anaconda3/lib/python3.7/site-packages/sklearn/linear_model/_ridge.py:148: LinAlgWarning: Ill-conditioned matrix (rcond=2.35719e-41): result may not be accurate.\n",
      "  overwrite_a=True).T\n",
      "/Users/kevinrader/opt/anaconda3/lib/python3.7/site-packages/sklearn/linear_model/_ridge.py:148: LinAlgWarning: Ill-conditioned matrix (rcond=4.51806e-41): result may not be accurate.\n",
      "  overwrite_a=True).T\n",
      "/Users/kevinrader/opt/anaconda3/lib/python3.7/site-packages/sklearn/linear_model/_ridge.py:148: LinAlgWarning: Ill-conditioned matrix (rcond=4.42201e-41): result may not be accurate.\n",
      "  overwrite_a=True).T\n",
      "/Users/kevinrader/opt/anaconda3/lib/python3.7/site-packages/sklearn/linear_model/_ridge.py:148: LinAlgWarning: Ill-conditioned matrix (rcond=4.35518e-41): result may not be accurate.\n",
      "  overwrite_a=True).T\n",
      "/Users/kevinrader/opt/anaconda3/lib/python3.7/site-packages/sklearn/linear_model/_ridge.py:148: LinAlgWarning: Ill-conditioned matrix (rcond=3.61987e-41): result may not be accurate.\n",
      "  overwrite_a=True).T\n",
      "/Users/kevinrader/opt/anaconda3/lib/python3.7/site-packages/sklearn/linear_model/_ridge.py:148: LinAlgWarning: Ill-conditioned matrix (rcond=6.1394e-41): result may not be accurate.\n",
      "  overwrite_a=True).T\n",
      "/Users/kevinrader/opt/anaconda3/lib/python3.7/site-packages/sklearn/linear_model/_ridge.py:148: LinAlgWarning: Ill-conditioned matrix (rcond=1.11526e-40): result may not be accurate.\n",
      "  overwrite_a=True).T\n",
      "/Users/kevinrader/opt/anaconda3/lib/python3.7/site-packages/sklearn/linear_model/_ridge.py:148: LinAlgWarning: Ill-conditioned matrix (rcond=1.20615e-40): result may not be accurate.\n",
      "  overwrite_a=True).T\n",
      "/Users/kevinrader/opt/anaconda3/lib/python3.7/site-packages/sklearn/linear_model/_ridge.py:148: LinAlgWarning: Ill-conditioned matrix (rcond=1.10319e-40): result may not be accurate.\n",
      "  overwrite_a=True).T\n",
      "/Users/kevinrader/opt/anaconda3/lib/python3.7/site-packages/sklearn/linear_model/_ridge.py:148: LinAlgWarning: Ill-conditioned matrix (rcond=9.04416e-41): result may not be accurate.\n",
      "  overwrite_a=True).T\n",
      "/Users/kevinrader/opt/anaconda3/lib/python3.7/site-packages/sklearn/linear_model/_ridge.py:148: LinAlgWarning: Ill-conditioned matrix (rcond=1.6601e-40): result may not be accurate.\n",
      "  overwrite_a=True).T\n",
      "/Users/kevinrader/opt/anaconda3/lib/python3.7/site-packages/sklearn/linear_model/_ridge.py:148: LinAlgWarning: Ill-conditioned matrix (rcond=2.64768e-40): result may not be accurate.\n",
      "  overwrite_a=True).T\n"
     ]
    },
    {
     "name": "stderr",
     "output_type": "stream",
     "text": [
      "/Users/kevinrader/opt/anaconda3/lib/python3.7/site-packages/sklearn/linear_model/_ridge.py:148: LinAlgWarning: Ill-conditioned matrix (rcond=2.68013e-40): result may not be accurate.\n",
      "  overwrite_a=True).T\n",
      "/Users/kevinrader/opt/anaconda3/lib/python3.7/site-packages/sklearn/linear_model/_ridge.py:148: LinAlgWarning: Ill-conditioned matrix (rcond=3.0111e-40): result may not be accurate.\n",
      "  overwrite_a=True).T\n",
      "/Users/kevinrader/opt/anaconda3/lib/python3.7/site-packages/sklearn/linear_model/_ridge.py:148: LinAlgWarning: Ill-conditioned matrix (rcond=3.18512e-40): result may not be accurate.\n",
      "  overwrite_a=True).T\n",
      "/Users/kevinrader/opt/anaconda3/lib/python3.7/site-packages/sklearn/linear_model/_ridge.py:148: LinAlgWarning: Ill-conditioned matrix (rcond=4.34559e-40): result may not be accurate.\n",
      "  overwrite_a=True).T\n",
      "/Users/kevinrader/opt/anaconda3/lib/python3.7/site-packages/sklearn/linear_model/_ridge.py:148: LinAlgWarning: Ill-conditioned matrix (rcond=7.95341e-40): result may not be accurate.\n",
      "  overwrite_a=True).T\n",
      "/Users/kevinrader/opt/anaconda3/lib/python3.7/site-packages/sklearn/linear_model/_ridge.py:148: LinAlgWarning: Ill-conditioned matrix (rcond=8.72048e-40): result may not be accurate.\n",
      "  overwrite_a=True).T\n",
      "/Users/kevinrader/opt/anaconda3/lib/python3.7/site-packages/sklearn/linear_model/_ridge.py:148: LinAlgWarning: Ill-conditioned matrix (rcond=7.00486e-40): result may not be accurate.\n",
      "  overwrite_a=True).T\n",
      "/Users/kevinrader/opt/anaconda3/lib/python3.7/site-packages/sklearn/linear_model/_ridge.py:148: LinAlgWarning: Ill-conditioned matrix (rcond=6.29482e-40): result may not be accurate.\n",
      "  overwrite_a=True).T\n",
      "/Users/kevinrader/opt/anaconda3/lib/python3.7/site-packages/sklearn/linear_model/_ridge.py:148: LinAlgWarning: Ill-conditioned matrix (rcond=1.13791e-39): result may not be accurate.\n",
      "  overwrite_a=True).T\n",
      "/Users/kevinrader/opt/anaconda3/lib/python3.7/site-packages/sklearn/linear_model/_ridge.py:148: LinAlgWarning: Ill-conditioned matrix (rcond=1.73671e-39): result may not be accurate.\n",
      "  overwrite_a=True).T\n",
      "/Users/kevinrader/opt/anaconda3/lib/python3.7/site-packages/sklearn/linear_model/_ridge.py:148: LinAlgWarning: Ill-conditioned matrix (rcond=2.00115e-39): result may not be accurate.\n",
      "  overwrite_a=True).T\n",
      "/Users/kevinrader/opt/anaconda3/lib/python3.7/site-packages/sklearn/linear_model/_ridge.py:148: LinAlgWarning: Ill-conditioned matrix (rcond=2.09887e-39): result may not be accurate.\n",
      "  overwrite_a=True).T\n",
      "/Users/kevinrader/opt/anaconda3/lib/python3.7/site-packages/sklearn/linear_model/_ridge.py:148: LinAlgWarning: Ill-conditioned matrix (rcond=1.76686e-39): result may not be accurate.\n",
      "  overwrite_a=True).T\n",
      "/Users/kevinrader/opt/anaconda3/lib/python3.7/site-packages/sklearn/linear_model/_ridge.py:148: LinAlgWarning: Ill-conditioned matrix (rcond=2.90364e-39): result may not be accurate.\n",
      "  overwrite_a=True).T\n",
      "/Users/kevinrader/opt/anaconda3/lib/python3.7/site-packages/sklearn/linear_model/_ridge.py:148: LinAlgWarning: Ill-conditioned matrix (rcond=5.19402e-39): result may not be accurate.\n",
      "  overwrite_a=True).T\n",
      "/Users/kevinrader/opt/anaconda3/lib/python3.7/site-packages/sklearn/linear_model/_ridge.py:148: LinAlgWarning: Ill-conditioned matrix (rcond=5.37865e-39): result may not be accurate.\n",
      "  overwrite_a=True).T\n",
      "/Users/kevinrader/opt/anaconda3/lib/python3.7/site-packages/sklearn/linear_model/_ridge.py:148: LinAlgWarning: Ill-conditioned matrix (rcond=5.26506e-39): result may not be accurate.\n",
      "  overwrite_a=True).T\n",
      "/Users/kevinrader/opt/anaconda3/lib/python3.7/site-packages/sklearn/linear_model/_ridge.py:148: LinAlgWarning: Ill-conditioned matrix (rcond=4.54209e-39): result may not be accurate.\n",
      "  overwrite_a=True).T\n",
      "/Users/kevinrader/opt/anaconda3/lib/python3.7/site-packages/sklearn/linear_model/_ridge.py:148: LinAlgWarning: Ill-conditioned matrix (rcond=7.05224e-39): result may not be accurate.\n",
      "  overwrite_a=True).T\n",
      "/Users/kevinrader/opt/anaconda3/lib/python3.7/site-packages/sklearn/linear_model/_ridge.py:148: LinAlgWarning: Ill-conditioned matrix (rcond=1.42351e-38): result may not be accurate.\n",
      "  overwrite_a=True).T\n",
      "/Users/kevinrader/opt/anaconda3/lib/python3.7/site-packages/sklearn/linear_model/_ridge.py:148: LinAlgWarning: Ill-conditioned matrix (rcond=1.42849e-38): result may not be accurate.\n",
      "  overwrite_a=True).T\n",
      "/Users/kevinrader/opt/anaconda3/lib/python3.7/site-packages/sklearn/linear_model/_ridge.py:148: LinAlgWarning: Ill-conditioned matrix (rcond=1.41463e-38): result may not be accurate.\n",
      "  overwrite_a=True).T\n",
      "/Users/kevinrader/opt/anaconda3/lib/python3.7/site-packages/sklearn/linear_model/_ridge.py:148: LinAlgWarning: Ill-conditioned matrix (rcond=1.27396e-38): result may not be accurate.\n",
      "  overwrite_a=True).T\n",
      "/Users/kevinrader/opt/anaconda3/lib/python3.7/site-packages/sklearn/linear_model/_ridge.py:148: LinAlgWarning: Ill-conditioned matrix (rcond=2.06118e-38): result may not be accurate.\n",
      "  overwrite_a=True).T\n",
      "/Users/kevinrader/opt/anaconda3/lib/python3.7/site-packages/sklearn/linear_model/_ridge.py:148: LinAlgWarning: Ill-conditioned matrix (rcond=3.89864e-38): result may not be accurate.\n",
      "  overwrite_a=True).T\n",
      "/Users/kevinrader/opt/anaconda3/lib/python3.7/site-packages/sklearn/linear_model/_ridge.py:148: LinAlgWarning: Ill-conditioned matrix (rcond=4.18452e-38): result may not be accurate.\n",
      "  overwrite_a=True).T\n",
      "/Users/kevinrader/opt/anaconda3/lib/python3.7/site-packages/sklearn/linear_model/_ridge.py:148: LinAlgWarning: Ill-conditioned matrix (rcond=3.92046e-38): result may not be accurate.\n",
      "  overwrite_a=True).T\n",
      "/Users/kevinrader/opt/anaconda3/lib/python3.7/site-packages/sklearn/linear_model/_ridge.py:148: LinAlgWarning: Ill-conditioned matrix (rcond=4.17008e-38): result may not be accurate.\n",
      "  overwrite_a=True).T\n",
      "/Users/kevinrader/opt/anaconda3/lib/python3.7/site-packages/sklearn/linear_model/_ridge.py:148: LinAlgWarning: Ill-conditioned matrix (rcond=5.65222e-38): result may not be accurate.\n",
      "  overwrite_a=True).T\n",
      "/Users/kevinrader/opt/anaconda3/lib/python3.7/site-packages/sklearn/linear_model/_ridge.py:148: LinAlgWarning: Ill-conditioned matrix (rcond=9.7211e-38): result may not be accurate.\n",
      "  overwrite_a=True).T\n",
      "/Users/kevinrader/opt/anaconda3/lib/python3.7/site-packages/sklearn/linear_model/_ridge.py:148: LinAlgWarning: Ill-conditioned matrix (rcond=1.01352e-37): result may not be accurate.\n",
      "  overwrite_a=True).T\n",
      "/Users/kevinrader/opt/anaconda3/lib/python3.7/site-packages/sklearn/linear_model/_ridge.py:148: LinAlgWarning: Ill-conditioned matrix (rcond=9.31646e-38): result may not be accurate.\n",
      "  overwrite_a=True).T\n",
      "/Users/kevinrader/opt/anaconda3/lib/python3.7/site-packages/sklearn/linear_model/_ridge.py:148: LinAlgWarning: Ill-conditioned matrix (rcond=9.3983e-38): result may not be accurate.\n",
      "  overwrite_a=True).T\n",
      "/Users/kevinrader/opt/anaconda3/lib/python3.7/site-packages/sklearn/linear_model/_ridge.py:148: LinAlgWarning: Ill-conditioned matrix (rcond=1.61305e-37): result may not be accurate.\n",
      "  overwrite_a=True).T\n",
      "/Users/kevinrader/opt/anaconda3/lib/python3.7/site-packages/sklearn/linear_model/_ridge.py:148: LinAlgWarning: Ill-conditioned matrix (rcond=3.45267e-37): result may not be accurate.\n",
      "  overwrite_a=True).T\n",
      "/Users/kevinrader/opt/anaconda3/lib/python3.7/site-packages/sklearn/linear_model/_ridge.py:148: LinAlgWarning: Ill-conditioned matrix (rcond=2.669e-37): result may not be accurate.\n",
      "  overwrite_a=True).T\n",
      "/Users/kevinrader/opt/anaconda3/lib/python3.7/site-packages/sklearn/linear_model/_ridge.py:148: LinAlgWarning: Ill-conditioned matrix (rcond=2.75141e-37): result may not be accurate.\n",
      "  overwrite_a=True).T\n",
      "/Users/kevinrader/opt/anaconda3/lib/python3.7/site-packages/sklearn/linear_model/_ridge.py:148: LinAlgWarning: Ill-conditioned matrix (rcond=2.52578e-37): result may not be accurate.\n",
      "  overwrite_a=True).T\n",
      "/Users/kevinrader/opt/anaconda3/lib/python3.7/site-packages/sklearn/linear_model/_ridge.py:148: LinAlgWarning: Ill-conditioned matrix (rcond=3.92321e-37): result may not be accurate.\n",
      "  overwrite_a=True).T\n",
      "/Users/kevinrader/opt/anaconda3/lib/python3.7/site-packages/sklearn/linear_model/_ridge.py:148: LinAlgWarning: Ill-conditioned matrix (rcond=7.34057e-37): result may not be accurate.\n",
      "  overwrite_a=True).T\n"
     ]
    },
    {
     "name": "stderr",
     "output_type": "stream",
     "text": [
      "/Users/kevinrader/opt/anaconda3/lib/python3.7/site-packages/sklearn/linear_model/_ridge.py:148: LinAlgWarning: Ill-conditioned matrix (rcond=7.62062e-37): result may not be accurate.\n",
      "  overwrite_a=True).T\n",
      "/Users/kevinrader/opt/anaconda3/lib/python3.7/site-packages/sklearn/linear_model/_ridge.py:148: LinAlgWarning: Ill-conditioned matrix (rcond=7.71129e-37): result may not be accurate.\n",
      "  overwrite_a=True).T\n",
      "/Users/kevinrader/opt/anaconda3/lib/python3.7/site-packages/sklearn/linear_model/_ridge.py:148: LinAlgWarning: Ill-conditioned matrix (rcond=6.59985e-37): result may not be accurate.\n",
      "  overwrite_a=True).T\n",
      "/Users/kevinrader/opt/anaconda3/lib/python3.7/site-packages/sklearn/linear_model/_ridge.py:148: LinAlgWarning: Ill-conditioned matrix (rcond=1.11674e-36): result may not be accurate.\n",
      "  overwrite_a=True).T\n",
      "/Users/kevinrader/opt/anaconda3/lib/python3.7/site-packages/sklearn/linear_model/_ridge.py:148: LinAlgWarning: Ill-conditioned matrix (rcond=2.39228e-36): result may not be accurate.\n",
      "  overwrite_a=True).T\n",
      "/Users/kevinrader/opt/anaconda3/lib/python3.7/site-packages/sklearn/linear_model/_ridge.py:148: LinAlgWarning: Ill-conditioned matrix (rcond=1.90688e-36): result may not be accurate.\n",
      "  overwrite_a=True).T\n",
      "/Users/kevinrader/opt/anaconda3/lib/python3.7/site-packages/sklearn/linear_model/_ridge.py:148: LinAlgWarning: Ill-conditioned matrix (rcond=2.01091e-36): result may not be accurate.\n",
      "  overwrite_a=True).T\n",
      "/Users/kevinrader/opt/anaconda3/lib/python3.7/site-packages/sklearn/linear_model/_ridge.py:148: LinAlgWarning: Ill-conditioned matrix (rcond=1.74748e-36): result may not be accurate.\n",
      "  overwrite_a=True).T\n",
      "/Users/kevinrader/opt/anaconda3/lib/python3.7/site-packages/sklearn/linear_model/_ridge.py:148: LinAlgWarning: Ill-conditioned matrix (rcond=2.92721e-36): result may not be accurate.\n",
      "  overwrite_a=True).T\n",
      "/Users/kevinrader/opt/anaconda3/lib/python3.7/site-packages/sklearn/linear_model/_ridge.py:148: LinAlgWarning: Ill-conditioned matrix (rcond=5.89052e-36): result may not be accurate.\n",
      "  overwrite_a=True).T\n",
      "/Users/kevinrader/opt/anaconda3/lib/python3.7/site-packages/sklearn/linear_model/_ridge.py:148: LinAlgWarning: Ill-conditioned matrix (rcond=5.34264e-36): result may not be accurate.\n",
      "  overwrite_a=True).T\n",
      "/Users/kevinrader/opt/anaconda3/lib/python3.7/site-packages/sklearn/linear_model/_ridge.py:148: LinAlgWarning: Ill-conditioned matrix (rcond=6.85322e-36): result may not be accurate.\n",
      "  overwrite_a=True).T\n",
      "/Users/kevinrader/opt/anaconda3/lib/python3.7/site-packages/sklearn/linear_model/_ridge.py:148: LinAlgWarning: Ill-conditioned matrix (rcond=4.99447e-36): result may not be accurate.\n",
      "  overwrite_a=True).T\n",
      "/Users/kevinrader/opt/anaconda3/lib/python3.7/site-packages/sklearn/linear_model/_ridge.py:148: LinAlgWarning: Ill-conditioned matrix (rcond=9.0585e-36): result may not be accurate.\n",
      "  overwrite_a=True).T\n",
      "/Users/kevinrader/opt/anaconda3/lib/python3.7/site-packages/sklearn/linear_model/_ridge.py:148: LinAlgWarning: Ill-conditioned matrix (rcond=1.91289e-35): result may not be accurate.\n",
      "  overwrite_a=True).T\n",
      "/Users/kevinrader/opt/anaconda3/lib/python3.7/site-packages/sklearn/linear_model/_ridge.py:148: LinAlgWarning: Ill-conditioned matrix (rcond=1.76928e-35): result may not be accurate.\n",
      "  overwrite_a=True).T\n",
      "/Users/kevinrader/opt/anaconda3/lib/python3.7/site-packages/sklearn/linear_model/_ridge.py:148: LinAlgWarning: Ill-conditioned matrix (rcond=1.84922e-35): result may not be accurate.\n",
      "  overwrite_a=True).T\n",
      "/Users/kevinrader/opt/anaconda3/lib/python3.7/site-packages/sklearn/linear_model/_ridge.py:148: LinAlgWarning: Ill-conditioned matrix (rcond=1.61522e-35): result may not be accurate.\n",
      "  overwrite_a=True).T\n",
      "/Users/kevinrader/opt/anaconda3/lib/python3.7/site-packages/sklearn/linear_model/_ridge.py:148: LinAlgWarning: Ill-conditioned matrix (rcond=2.65361e-35): result may not be accurate.\n",
      "  overwrite_a=True).T\n",
      "/Users/kevinrader/opt/anaconda3/lib/python3.7/site-packages/sklearn/linear_model/_ridge.py:148: LinAlgWarning: Ill-conditioned matrix (rcond=4.20389e-35): result may not be accurate.\n",
      "  overwrite_a=True).T\n",
      "/Users/kevinrader/opt/anaconda3/lib/python3.7/site-packages/sklearn/linear_model/_ridge.py:148: LinAlgWarning: Ill-conditioned matrix (rcond=4.47793e-35): result may not be accurate.\n",
      "  overwrite_a=True).T\n",
      "/Users/kevinrader/opt/anaconda3/lib/python3.7/site-packages/sklearn/linear_model/_ridge.py:148: LinAlgWarning: Ill-conditioned matrix (rcond=4.92372e-35): result may not be accurate.\n",
      "  overwrite_a=True).T\n",
      "/Users/kevinrader/opt/anaconda3/lib/python3.7/site-packages/sklearn/linear_model/_ridge.py:148: LinAlgWarning: Ill-conditioned matrix (rcond=5.23552e-35): result may not be accurate.\n",
      "  overwrite_a=True).T\n",
      "/Users/kevinrader/opt/anaconda3/lib/python3.7/site-packages/sklearn/linear_model/_ridge.py:148: LinAlgWarning: Ill-conditioned matrix (rcond=6.90144e-35): result may not be accurate.\n",
      "  overwrite_a=True).T\n",
      "/Users/kevinrader/opt/anaconda3/lib/python3.7/site-packages/sklearn/linear_model/_ridge.py:148: LinAlgWarning: Ill-conditioned matrix (rcond=1.26981e-34): result may not be accurate.\n",
      "  overwrite_a=True).T\n",
      "/Users/kevinrader/opt/anaconda3/lib/python3.7/site-packages/sklearn/linear_model/_ridge.py:148: LinAlgWarning: Ill-conditioned matrix (rcond=1.39779e-34): result may not be accurate.\n",
      "  overwrite_a=True).T\n",
      "/Users/kevinrader/opt/anaconda3/lib/python3.7/site-packages/sklearn/linear_model/_ridge.py:148: LinAlgWarning: Ill-conditioned matrix (rcond=1.49177e-34): result may not be accurate.\n",
      "  overwrite_a=True).T\n",
      "/Users/kevinrader/opt/anaconda3/lib/python3.7/site-packages/sklearn/linear_model/_ridge.py:148: LinAlgWarning: Ill-conditioned matrix (rcond=1.3475e-34): result may not be accurate.\n",
      "  overwrite_a=True).T\n",
      "/Users/kevinrader/opt/anaconda3/lib/python3.7/site-packages/sklearn/linear_model/_ridge.py:148: LinAlgWarning: Ill-conditioned matrix (rcond=1.89837e-34): result may not be accurate.\n",
      "  overwrite_a=True).T\n",
      "/Users/kevinrader/opt/anaconda3/lib/python3.7/site-packages/sklearn/linear_model/_ridge.py:148: LinAlgWarning: Ill-conditioned matrix (rcond=1.14909e-34): result may not be accurate.\n",
      "  overwrite_a=True).T\n"
     ]
    }
   ],
   "source": [
    "######\n",
    "# your code here\n",
    "######\n",
    "\n",
    "alphas = np.exp(np.arange(-10,20,1))\n",
    "ridges_over = RidgeCV(alphas=alphas,fit_intercept=True,cv=5).fit(X_over, train['votergap'])\n"
   ]
  },
  {
   "cell_type": "code",
   "execution_count": 28,
   "metadata": {},
   "outputs": [
    {
     "name": "stdout",
     "output_type": "stream",
     "text": [
      "R-sq on test for Ridge: 0.7051913303423255\n"
     ]
    }
   ],
   "source": [
    "print(\"R-sq on test for Ridge:\",ridges_over.score(X_over_test, test['votergap']))"
   ]
  },
  {
   "cell_type": "markdown",
   "metadata": {},
   "source": [
    "**Solution:**\n",
    "\n",
    "After choosing the best model based on the Ridge penalty term, this model performs better (0.705 vs. 0.688 unpenalized).  A similar approach coudl be used with LASSO CV.\n"
   ]
  },
  {
   "cell_type": "code",
   "execution_count": null,
   "metadata": {},
   "outputs": [],
   "source": []
  },
  {
   "cell_type": "code",
   "execution_count": null,
   "metadata": {},
   "outputs": [],
   "source": []
  }
 ],
 "metadata": {
  "anaconda-cloud": {},
  "kernelspec": {
   "display_name": "Python 3",
   "language": "python",
   "name": "python3"
  },
  "language_info": {
   "codemirror_mode": {
    "name": "ipython",
    "version": 3
   },
   "file_extension": ".py",
   "mimetype": "text/x-python",
   "name": "python",
   "nbconvert_exporter": "python",
   "pygments_lexer": "ipython3",
   "version": "3.7.6"
  }
 },
 "nbformat": 4,
 "nbformat_minor": 1
}
